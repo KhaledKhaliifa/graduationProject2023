{
  "nbformat": 4,
  "nbformat_minor": 0,
  "metadata": {
    "colab": {
      "provenance": []
    },
    "kernelspec": {
      "name": "python3",
      "display_name": "Python 3"
    },
    "language_info": {
      "name": "python"
    }
  },
  "cells": [
    {
      "cell_type": "code",
      "execution_count": null,
      "metadata": {
        "id": "p5Av_zOl5GUz"
      },
      "outputs": [],
      "source": [
        "import pandas as pd\n",
        "import numpy as np\n",
        "import matplotlib.pyplot as plt\n",
        "# %matplotlib inline\n",
        "from sklearn.metrics import f1_score\n",
        "from sklearn.model_selection import train_test_split\n",
        "import warnings\n",
        "import pickle\n",
        "\n",
        "warnings.filterwarnings('ignore')"
      ]
    },
    {
      "cell_type": "code",
      "source": [
        "from google.colab import drive\n",
        "drive.mount('/content/drive')"
      ],
      "metadata": {
        "colab": {
          "base_uri": "https://localhost:8080/"
        },
        "id": "Mfzt-DGO5LBU",
        "outputId": "d9bf486f-da79-4987-a9fa-dc5204535b5f"
      },
      "execution_count": null,
      "outputs": [
        {
          "output_type": "stream",
          "name": "stdout",
          "text": [
            "Drive already mounted at /content/drive; to attempt to forcibly remount, call drive.mount(\"/content/drive\", force_remount=True).\n"
          ]
        }
      ]
    },
    {
      "cell_type": "code",
      "source": [
        "df = pd.read_csv(\"/content/drive/MyDrive/Projects/GP Project/biometric/csv_files/Uniform_users.csv\")\n",
        "df_l = pd.read_csv(\"/content/drive/MyDrive/Projects/GP Project/biometric/csv_files/Uniform_users_labeled.csv\")"
      ],
      "metadata": {
        "id": "it5HNz365K-9"
      },
      "execution_count": null,
      "outputs": []
    },
    {
      "cell_type": "code",
      "source": [
        "df.drop(columns=df.columns[0], axis=1, inplace = True)\n",
        "df_l.drop(columns=df_l.columns[0], axis=1, inplace = True)"
      ],
      "metadata": {
        "id": "R5HBBFvd5b7Y"
      },
      "execution_count": null,
      "outputs": []
    },
    {
      "cell_type": "code",
      "source": [
        "df.head()"
      ],
      "metadata": {
        "colab": {
          "base_uri": "https://localhost:8080/",
          "height": 206
        },
        "id": "yRN2qrQ45K8r",
        "outputId": "c40a3671-bfb0-4c28-9213-e554b43388d2"
      },
      "execution_count": null,
      "outputs": [
        {
          "output_type": "execute_result",
          "data": {
            "text/plain": [
              "           0          1          2          3          4          5  \\\n",
              "0  58.940648  55.443665  62.649820  61.057350  47.074409  40.049969   \n",
              "1  59.665736  48.836462  54.744863  53.600373  40.261644  37.013511   \n",
              "2  58.309519  51.000000  54.405882  63.007936  39.623226  41.109610   \n",
              "3  58.463664  49.819675  55.901699  54.405882  40.521599  37.054015   \n",
              "4  57.870545  50.990195  56.089215  55.605755  42.720019  37.054015   \n",
              "\n",
              "           6          7          8          9         10  label  \n",
              "0  23.537205  65.734314  63.694584  59.033889  53.150729      5  \n",
              "1  20.615528  63.631753  63.568860  60.671245  56.222771      5  \n",
              "2  21.095023  61.400326  60.926185  57.870545  52.153619      5  \n",
              "3  21.587033  62.433965  62.032250  58.855756  55.145263      5  \n",
              "4  21.377558  62.681736  61.846584  59.033889  54.037024      5  "
            ],
            "text/html": [
              "\n",
              "  <div id=\"df-4665c74b-7d44-4c9c-8c53-5a3f053cdd27\">\n",
              "    <div class=\"colab-df-container\">\n",
              "      <div>\n",
              "<style scoped>\n",
              "    .dataframe tbody tr th:only-of-type {\n",
              "        vertical-align: middle;\n",
              "    }\n",
              "\n",
              "    .dataframe tbody tr th {\n",
              "        vertical-align: top;\n",
              "    }\n",
              "\n",
              "    .dataframe thead th {\n",
              "        text-align: right;\n",
              "    }\n",
              "</style>\n",
              "<table border=\"1\" class=\"dataframe\">\n",
              "  <thead>\n",
              "    <tr style=\"text-align: right;\">\n",
              "      <th></th>\n",
              "      <th>0</th>\n",
              "      <th>1</th>\n",
              "      <th>2</th>\n",
              "      <th>3</th>\n",
              "      <th>4</th>\n",
              "      <th>5</th>\n",
              "      <th>6</th>\n",
              "      <th>7</th>\n",
              "      <th>8</th>\n",
              "      <th>9</th>\n",
              "      <th>10</th>\n",
              "      <th>label</th>\n",
              "    </tr>\n",
              "  </thead>\n",
              "  <tbody>\n",
              "    <tr>\n",
              "      <th>0</th>\n",
              "      <td>58.940648</td>\n",
              "      <td>55.443665</td>\n",
              "      <td>62.649820</td>\n",
              "      <td>61.057350</td>\n",
              "      <td>47.074409</td>\n",
              "      <td>40.049969</td>\n",
              "      <td>23.537205</td>\n",
              "      <td>65.734314</td>\n",
              "      <td>63.694584</td>\n",
              "      <td>59.033889</td>\n",
              "      <td>53.150729</td>\n",
              "      <td>5</td>\n",
              "    </tr>\n",
              "    <tr>\n",
              "      <th>1</th>\n",
              "      <td>59.665736</td>\n",
              "      <td>48.836462</td>\n",
              "      <td>54.744863</td>\n",
              "      <td>53.600373</td>\n",
              "      <td>40.261644</td>\n",
              "      <td>37.013511</td>\n",
              "      <td>20.615528</td>\n",
              "      <td>63.631753</td>\n",
              "      <td>63.568860</td>\n",
              "      <td>60.671245</td>\n",
              "      <td>56.222771</td>\n",
              "      <td>5</td>\n",
              "    </tr>\n",
              "    <tr>\n",
              "      <th>2</th>\n",
              "      <td>58.309519</td>\n",
              "      <td>51.000000</td>\n",
              "      <td>54.405882</td>\n",
              "      <td>63.007936</td>\n",
              "      <td>39.623226</td>\n",
              "      <td>41.109610</td>\n",
              "      <td>21.095023</td>\n",
              "      <td>61.400326</td>\n",
              "      <td>60.926185</td>\n",
              "      <td>57.870545</td>\n",
              "      <td>52.153619</td>\n",
              "      <td>5</td>\n",
              "    </tr>\n",
              "    <tr>\n",
              "      <th>3</th>\n",
              "      <td>58.463664</td>\n",
              "      <td>49.819675</td>\n",
              "      <td>55.901699</td>\n",
              "      <td>54.405882</td>\n",
              "      <td>40.521599</td>\n",
              "      <td>37.054015</td>\n",
              "      <td>21.587033</td>\n",
              "      <td>62.433965</td>\n",
              "      <td>62.032250</td>\n",
              "      <td>58.855756</td>\n",
              "      <td>55.145263</td>\n",
              "      <td>5</td>\n",
              "    </tr>\n",
              "    <tr>\n",
              "      <th>4</th>\n",
              "      <td>57.870545</td>\n",
              "      <td>50.990195</td>\n",
              "      <td>56.089215</td>\n",
              "      <td>55.605755</td>\n",
              "      <td>42.720019</td>\n",
              "      <td>37.054015</td>\n",
              "      <td>21.377558</td>\n",
              "      <td>62.681736</td>\n",
              "      <td>61.846584</td>\n",
              "      <td>59.033889</td>\n",
              "      <td>54.037024</td>\n",
              "      <td>5</td>\n",
              "    </tr>\n",
              "  </tbody>\n",
              "</table>\n",
              "</div>\n",
              "      <button class=\"colab-df-convert\" onclick=\"convertToInteractive('df-4665c74b-7d44-4c9c-8c53-5a3f053cdd27')\"\n",
              "              title=\"Convert this dataframe to an interactive table.\"\n",
              "              style=\"display:none;\">\n",
              "        \n",
              "  <svg xmlns=\"http://www.w3.org/2000/svg\" height=\"24px\"viewBox=\"0 0 24 24\"\n",
              "       width=\"24px\">\n",
              "    <path d=\"M0 0h24v24H0V0z\" fill=\"none\"/>\n",
              "    <path d=\"M18.56 5.44l.94 2.06.94-2.06 2.06-.94-2.06-.94-.94-2.06-.94 2.06-2.06.94zm-11 1L8.5 8.5l.94-2.06 2.06-.94-2.06-.94L8.5 2.5l-.94 2.06-2.06.94zm10 10l.94 2.06.94-2.06 2.06-.94-2.06-.94-.94-2.06-.94 2.06-2.06.94z\"/><path d=\"M17.41 7.96l-1.37-1.37c-.4-.4-.92-.59-1.43-.59-.52 0-1.04.2-1.43.59L10.3 9.45l-7.72 7.72c-.78.78-.78 2.05 0 2.83L4 21.41c.39.39.9.59 1.41.59.51 0 1.02-.2 1.41-.59l7.78-7.78 2.81-2.81c.8-.78.8-2.07 0-2.86zM5.41 20L4 18.59l7.72-7.72 1.47 1.35L5.41 20z\"/>\n",
              "  </svg>\n",
              "      </button>\n",
              "      \n",
              "  <style>\n",
              "    .colab-df-container {\n",
              "      display:flex;\n",
              "      flex-wrap:wrap;\n",
              "      gap: 12px;\n",
              "    }\n",
              "\n",
              "    .colab-df-convert {\n",
              "      background-color: #E8F0FE;\n",
              "      border: none;\n",
              "      border-radius: 50%;\n",
              "      cursor: pointer;\n",
              "      display: none;\n",
              "      fill: #1967D2;\n",
              "      height: 32px;\n",
              "      padding: 0 0 0 0;\n",
              "      width: 32px;\n",
              "    }\n",
              "\n",
              "    .colab-df-convert:hover {\n",
              "      background-color: #E2EBFA;\n",
              "      box-shadow: 0px 1px 2px rgba(60, 64, 67, 0.3), 0px 1px 3px 1px rgba(60, 64, 67, 0.15);\n",
              "      fill: #174EA6;\n",
              "    }\n",
              "\n",
              "    [theme=dark] .colab-df-convert {\n",
              "      background-color: #3B4455;\n",
              "      fill: #D2E3FC;\n",
              "    }\n",
              "\n",
              "    [theme=dark] .colab-df-convert:hover {\n",
              "      background-color: #434B5C;\n",
              "      box-shadow: 0px 1px 3px 1px rgba(0, 0, 0, 0.15);\n",
              "      filter: drop-shadow(0px 1px 2px rgba(0, 0, 0, 0.3));\n",
              "      fill: #FFFFFF;\n",
              "    }\n",
              "  </style>\n",
              "\n",
              "      <script>\n",
              "        const buttonEl =\n",
              "          document.querySelector('#df-4665c74b-7d44-4c9c-8c53-5a3f053cdd27 button.colab-df-convert');\n",
              "        buttonEl.style.display =\n",
              "          google.colab.kernel.accessAllowed ? 'block' : 'none';\n",
              "\n",
              "        async function convertToInteractive(key) {\n",
              "          const element = document.querySelector('#df-4665c74b-7d44-4c9c-8c53-5a3f053cdd27');\n",
              "          const dataTable =\n",
              "            await google.colab.kernel.invokeFunction('convertToInteractive',\n",
              "                                                     [key], {});\n",
              "          if (!dataTable) return;\n",
              "\n",
              "          const docLinkHtml = 'Like what you see? Visit the ' +\n",
              "            '<a target=\"_blank\" href=https://colab.research.google.com/notebooks/data_table.ipynb>data table notebook</a>'\n",
              "            + ' to learn more about interactive tables.';\n",
              "          element.innerHTML = '';\n",
              "          dataTable['output_type'] = 'display_data';\n",
              "          await google.colab.output.renderOutput(dataTable, element);\n",
              "          const docLink = document.createElement('div');\n",
              "          docLink.innerHTML = docLinkHtml;\n",
              "          element.appendChild(docLink);\n",
              "        }\n",
              "      </script>\n",
              "    </div>\n",
              "  </div>\n",
              "  "
            ]
          },
          "metadata": {},
          "execution_count": 5
        }
      ]
    },
    {
      "cell_type": "code",
      "source": [
        "df_l.head()"
      ],
      "metadata": {
        "colab": {
          "base_uri": "https://localhost:8080/",
          "height": 206
        },
        "id": "4GOqtAMx5YgG",
        "outputId": "f81aeb93-7305-4cb9-c1e5-dc9f573a7317"
      },
      "execution_count": null,
      "outputs": [
        {
          "output_type": "execute_result",
          "data": {
            "text/plain": [
              "           0          1          2          3          4          5  \\\n",
              "0  58.940648  55.443665  62.649820  61.057350  47.074409  40.049969   \n",
              "1  59.665736  48.836462  54.744863  53.600373  40.261644  37.013511   \n",
              "2  58.309519  51.000000  54.405882  63.007936  39.623226  41.109610   \n",
              "3  58.463664  49.819675  55.901699  54.405882  40.521599  37.054015   \n",
              "4  57.870545  50.990195  56.089215  55.605755  42.720019  37.054015   \n",
              "\n",
              "           6          7          8          9         10  label  id  \n",
              "0  23.537205  65.734314  63.694584  59.033889  53.150729      5  11  \n",
              "1  20.615528  63.631753  63.568860  60.671245  56.222771      5  11  \n",
              "2  21.095023  61.400326  60.926185  57.870545  52.153619      5  11  \n",
              "3  21.587033  62.433965  62.032250  58.855756  55.145263      5  11  \n",
              "4  21.377558  62.681736  61.846584  59.033889  54.037024      5  11  "
            ],
            "text/html": [
              "\n",
              "  <div id=\"df-a0d33703-1817-41a6-b856-4fabe8ed17c8\">\n",
              "    <div class=\"colab-df-container\">\n",
              "      <div>\n",
              "<style scoped>\n",
              "    .dataframe tbody tr th:only-of-type {\n",
              "        vertical-align: middle;\n",
              "    }\n",
              "\n",
              "    .dataframe tbody tr th {\n",
              "        vertical-align: top;\n",
              "    }\n",
              "\n",
              "    .dataframe thead th {\n",
              "        text-align: right;\n",
              "    }\n",
              "</style>\n",
              "<table border=\"1\" class=\"dataframe\">\n",
              "  <thead>\n",
              "    <tr style=\"text-align: right;\">\n",
              "      <th></th>\n",
              "      <th>0</th>\n",
              "      <th>1</th>\n",
              "      <th>2</th>\n",
              "      <th>3</th>\n",
              "      <th>4</th>\n",
              "      <th>5</th>\n",
              "      <th>6</th>\n",
              "      <th>7</th>\n",
              "      <th>8</th>\n",
              "      <th>9</th>\n",
              "      <th>10</th>\n",
              "      <th>label</th>\n",
              "      <th>id</th>\n",
              "    </tr>\n",
              "  </thead>\n",
              "  <tbody>\n",
              "    <tr>\n",
              "      <th>0</th>\n",
              "      <td>58.940648</td>\n",
              "      <td>55.443665</td>\n",
              "      <td>62.649820</td>\n",
              "      <td>61.057350</td>\n",
              "      <td>47.074409</td>\n",
              "      <td>40.049969</td>\n",
              "      <td>23.537205</td>\n",
              "      <td>65.734314</td>\n",
              "      <td>63.694584</td>\n",
              "      <td>59.033889</td>\n",
              "      <td>53.150729</td>\n",
              "      <td>5</td>\n",
              "      <td>11</td>\n",
              "    </tr>\n",
              "    <tr>\n",
              "      <th>1</th>\n",
              "      <td>59.665736</td>\n",
              "      <td>48.836462</td>\n",
              "      <td>54.744863</td>\n",
              "      <td>53.600373</td>\n",
              "      <td>40.261644</td>\n",
              "      <td>37.013511</td>\n",
              "      <td>20.615528</td>\n",
              "      <td>63.631753</td>\n",
              "      <td>63.568860</td>\n",
              "      <td>60.671245</td>\n",
              "      <td>56.222771</td>\n",
              "      <td>5</td>\n",
              "      <td>11</td>\n",
              "    </tr>\n",
              "    <tr>\n",
              "      <th>2</th>\n",
              "      <td>58.309519</td>\n",
              "      <td>51.000000</td>\n",
              "      <td>54.405882</td>\n",
              "      <td>63.007936</td>\n",
              "      <td>39.623226</td>\n",
              "      <td>41.109610</td>\n",
              "      <td>21.095023</td>\n",
              "      <td>61.400326</td>\n",
              "      <td>60.926185</td>\n",
              "      <td>57.870545</td>\n",
              "      <td>52.153619</td>\n",
              "      <td>5</td>\n",
              "      <td>11</td>\n",
              "    </tr>\n",
              "    <tr>\n",
              "      <th>3</th>\n",
              "      <td>58.463664</td>\n",
              "      <td>49.819675</td>\n",
              "      <td>55.901699</td>\n",
              "      <td>54.405882</td>\n",
              "      <td>40.521599</td>\n",
              "      <td>37.054015</td>\n",
              "      <td>21.587033</td>\n",
              "      <td>62.433965</td>\n",
              "      <td>62.032250</td>\n",
              "      <td>58.855756</td>\n",
              "      <td>55.145263</td>\n",
              "      <td>5</td>\n",
              "      <td>11</td>\n",
              "    </tr>\n",
              "    <tr>\n",
              "      <th>4</th>\n",
              "      <td>57.870545</td>\n",
              "      <td>50.990195</td>\n",
              "      <td>56.089215</td>\n",
              "      <td>55.605755</td>\n",
              "      <td>42.720019</td>\n",
              "      <td>37.054015</td>\n",
              "      <td>21.377558</td>\n",
              "      <td>62.681736</td>\n",
              "      <td>61.846584</td>\n",
              "      <td>59.033889</td>\n",
              "      <td>54.037024</td>\n",
              "      <td>5</td>\n",
              "      <td>11</td>\n",
              "    </tr>\n",
              "  </tbody>\n",
              "</table>\n",
              "</div>\n",
              "      <button class=\"colab-df-convert\" onclick=\"convertToInteractive('df-a0d33703-1817-41a6-b856-4fabe8ed17c8')\"\n",
              "              title=\"Convert this dataframe to an interactive table.\"\n",
              "              style=\"display:none;\">\n",
              "        \n",
              "  <svg xmlns=\"http://www.w3.org/2000/svg\" height=\"24px\"viewBox=\"0 0 24 24\"\n",
              "       width=\"24px\">\n",
              "    <path d=\"M0 0h24v24H0V0z\" fill=\"none\"/>\n",
              "    <path d=\"M18.56 5.44l.94 2.06.94-2.06 2.06-.94-2.06-.94-.94-2.06-.94 2.06-2.06.94zm-11 1L8.5 8.5l.94-2.06 2.06-.94-2.06-.94L8.5 2.5l-.94 2.06-2.06.94zm10 10l.94 2.06.94-2.06 2.06-.94-2.06-.94-.94-2.06-.94 2.06-2.06.94z\"/><path d=\"M17.41 7.96l-1.37-1.37c-.4-.4-.92-.59-1.43-.59-.52 0-1.04.2-1.43.59L10.3 9.45l-7.72 7.72c-.78.78-.78 2.05 0 2.83L4 21.41c.39.39.9.59 1.41.59.51 0 1.02-.2 1.41-.59l7.78-7.78 2.81-2.81c.8-.78.8-2.07 0-2.86zM5.41 20L4 18.59l7.72-7.72 1.47 1.35L5.41 20z\"/>\n",
              "  </svg>\n",
              "      </button>\n",
              "      \n",
              "  <style>\n",
              "    .colab-df-container {\n",
              "      display:flex;\n",
              "      flex-wrap:wrap;\n",
              "      gap: 12px;\n",
              "    }\n",
              "\n",
              "    .colab-df-convert {\n",
              "      background-color: #E8F0FE;\n",
              "      border: none;\n",
              "      border-radius: 50%;\n",
              "      cursor: pointer;\n",
              "      display: none;\n",
              "      fill: #1967D2;\n",
              "      height: 32px;\n",
              "      padding: 0 0 0 0;\n",
              "      width: 32px;\n",
              "    }\n",
              "\n",
              "    .colab-df-convert:hover {\n",
              "      background-color: #E2EBFA;\n",
              "      box-shadow: 0px 1px 2px rgba(60, 64, 67, 0.3), 0px 1px 3px 1px rgba(60, 64, 67, 0.15);\n",
              "      fill: #174EA6;\n",
              "    }\n",
              "\n",
              "    [theme=dark] .colab-df-convert {\n",
              "      background-color: #3B4455;\n",
              "      fill: #D2E3FC;\n",
              "    }\n",
              "\n",
              "    [theme=dark] .colab-df-convert:hover {\n",
              "      background-color: #434B5C;\n",
              "      box-shadow: 0px 1px 3px 1px rgba(0, 0, 0, 0.15);\n",
              "      filter: drop-shadow(0px 1px 2px rgba(0, 0, 0, 0.3));\n",
              "      fill: #FFFFFF;\n",
              "    }\n",
              "  </style>\n",
              "\n",
              "      <script>\n",
              "        const buttonEl =\n",
              "          document.querySelector('#df-a0d33703-1817-41a6-b856-4fabe8ed17c8 button.colab-df-convert');\n",
              "        buttonEl.style.display =\n",
              "          google.colab.kernel.accessAllowed ? 'block' : 'none';\n",
              "\n",
              "        async function convertToInteractive(key) {\n",
              "          const element = document.querySelector('#df-a0d33703-1817-41a6-b856-4fabe8ed17c8');\n",
              "          const dataTable =\n",
              "            await google.colab.kernel.invokeFunction('convertToInteractive',\n",
              "                                                     [key], {});\n",
              "          if (!dataTable) return;\n",
              "\n",
              "          const docLinkHtml = 'Like what you see? Visit the ' +\n",
              "            '<a target=\"_blank\" href=https://colab.research.google.com/notebooks/data_table.ipynb>data table notebook</a>'\n",
              "            + ' to learn more about interactive tables.';\n",
              "          element.innerHTML = '';\n",
              "          dataTable['output_type'] = 'display_data';\n",
              "          await google.colab.output.renderOutput(dataTable, element);\n",
              "          const docLink = document.createElement('div');\n",
              "          docLink.innerHTML = docLinkHtml;\n",
              "          element.appendChild(docLink);\n",
              "        }\n",
              "      </script>\n",
              "    </div>\n",
              "  </div>\n",
              "  "
            ]
          },
          "metadata": {},
          "execution_count": 6
        }
      ]
    },
    {
      "cell_type": "code",
      "source": [
        "x = df.loc[:, df.columns != 'label']\n",
        "y = df.label\n",
        "\n",
        "x_l = df_l.loc[:, df_l.columns != 'label']\n",
        "y_l = df_l.label\n",
        "\n",
        "x_nl = df_l.loc[:, df_l.columns != 'label']\n",
        "y_nl = df_l.label\n",
        "\n",
        "x_nl = x_nl.apply(lambda iterator: ((iterator.max() - iterator)/(iterator.max() - iterator.min())).round(2))"
      ],
      "metadata": {
        "id": "r7KIqtUb5Ydc"
      },
      "execution_count": null,
      "outputs": []
    },
    {
      "cell_type": "code",
      "source": [
        "# original\n",
        "X_train, X_both, y_train, y_both = train_test_split(x, y, test_size = 0.2, random_state=3)\n",
        "X_test, X_valid, y_test, y_valid = train_test_split(X_both, y_both, test_size = 0.5, random_state=3)\n",
        "#labeled\n",
        "X_train_L, X_both_L, y_train_L, y_both_L = train_test_split(x_l, y_l, test_size = 0.2, random_state=3)\n",
        "X_test_L, X_valid_L, y_test_L, y_valid_L = train_test_split(X_both_L, y_both_L, test_size = 0.5, random_state=3)\n",
        "#normalized Labeled\n",
        "X_train_NL, X_both_NL, y_train_NL, y_both_NL = train_test_split(x_nl, y_nl, test_size = 0.2, random_state=3)\n",
        "X_test_NL, X_valid_NL, y_test_NL, y_valid_NL = train_test_split(X_both_NL, y_both_NL, test_size = 0.5, random_state=3)\n"
      ],
      "metadata": {
        "id": "oEXSg0jb5YbN"
      },
      "execution_count": null,
      "outputs": []
    },
    {
      "cell_type": "code",
      "source": [
        "#original models\n",
        "rf = pickle.load(open('/content/drive/MyDrive/Projects/GP Project/biometric/Models/random_forest.pickle', \"rb\"))\n",
        "knn = pickle.load(open('/content/drive/MyDrive/Projects/GP Project/biometric/Models/knn.pickle', \"rb\"))\n",
        "dtree = pickle.load(open('/content/drive/MyDrive/Projects/GP Project/biometric/Models/dtree.pickle', \"rb\"))\n",
        "svc = pickle.load(open('/content/drive/MyDrive/Projects/GP Project/biometric/Models/svm.pickle', \"rb\"))\n",
        "lr = pickle.load(open('/content/drive/MyDrive/Projects/GP Project/biometric/Models/lr.pickle', \"rb\"))\n",
        "\n",
        "#labeled images models\n",
        "rf_l = pickle.load(open('/content/drive/MyDrive/Projects/GP Project/biometric/Models/random_forest_label.pickle', \"rb\"))\n",
        "knn_l = pickle.load(open('/content/drive/MyDrive/Projects/GP Project/biometric/Models/knn_label.pickle', \"rb\"))\n",
        "dtree_l = pickle.load(open('/content/drive/MyDrive/Projects/GP Project/biometric/Models/dtree_label.pickle', \"rb\"))\n",
        "svc_l = pickle.load(open('/content/drive/MyDrive/Projects/GP Project/biometric/Models/svm_label.pickle', \"rb\"))\n",
        "lr_l = pickle.load(open('/content/drive/MyDrive/Projects/GP Project/biometric/Models/lr_label.pickle', \"rb\"))\n",
        "\n",
        "#labeled iamges and normalized models\n",
        "rf_nl = pickle.load(open('/content/drive/MyDrive/Projects/GP Project/biometric/Models/random_forest_nl.pickle', \"rb\"))\n",
        "knn_nl = pickle.load(open('/content/drive/MyDrive/Projects/GP Project/biometric/Models/knn_nl.pickle', \"rb\"))\n",
        "dtree_nl = pickle.load(open('/content/drive/MyDrive/Projects/GP Project/biometric/Models/dtree_nl.pickle', \"rb\"))\n",
        "svc_nl = pickle.load(open('/content/drive/MyDrive/Projects/GP Project/biometric/Models/svm_nl.pickle', \"rb\"))\n",
        "lr_nl = pickle.load(open('/content/drive/MyDrive/Projects/GP Project/biometric/Models/lr_nl.pickle', \"rb\"))"
      ],
      "metadata": {
        "id": "28pmdZNk7WRz"
      },
      "execution_count": null,
      "outputs": []
    },
    {
      "cell_type": "markdown",
      "source": [
        "# Plotting\n"
      ],
      "metadata": {
        "id": "tHqEKcU38gSd"
      }
    },
    {
      "cell_type": "code",
      "source": [
        "y_pred1 = knn.predict(X_test)\n",
        "y_pred1_l = knn_l.predict(X_test_L)\n",
        "y_pred1_nl= knn_nl.predict(X_test_NL)"
      ],
      "metadata": {
        "id": "Oyekkn7IlppG"
      },
      "execution_count": null,
      "outputs": []
    },
    {
      "cell_type": "code",
      "source": [
        "y_pred2 = rf.predict(X_test)\n",
        "y_pred2_l = rf_l.predict(X_test_L)\n",
        "y_pred2_nl= rf_nl.predict(X_test_NL)"
      ],
      "metadata": {
        "id": "QCjNmqZ-iXey"
      },
      "execution_count": null,
      "outputs": []
    },
    {
      "cell_type": "code",
      "source": [
        "y_pred3 = lr.predict(X_test)\n",
        "y_pred3_l = lr_l.predict(X_test_L)\n",
        "y_pred3_nl= lr_nl.predict(X_test_NL)"
      ],
      "metadata": {
        "id": "VBugGleB787I"
      },
      "execution_count": null,
      "outputs": []
    },
    {
      "cell_type": "code",
      "source": [
        "y_pred4 = dtree.predict(X_test)\n",
        "y_pred4_l = dtree_l.predict(X_test_L)\n",
        "y_pred4_nl= dtree_nl.predict(X_test_NL)"
      ],
      "metadata": {
        "id": "_n0PpPHf7-e_"
      },
      "execution_count": null,
      "outputs": []
    },
    {
      "cell_type": "code",
      "source": [
        "y_pred5 = svc.predict(X_test)\n",
        "y_pred5_l = svc_l.predict(X_test_L)\n",
        "y_pred5_nl= svc_nl.predict(X_test_NL)"
      ],
      "metadata": {
        "id": "02z8XdCB7-W8"
      },
      "execution_count": null,
      "outputs": []
    },
    {
      "cell_type": "code",
      "source": [
        "#making a dictionary with each word in our dataset as a key\n",
        "my_dic = {'User1': 1, 'User2': 2, 'User3': 3, 'User4': 4, 'User5': 5}\n",
        "\n",
        "#making a list of the dataset words\n",
        "dic = list(my_dic)\n",
        "outputss = [y_pred1,y_pred2,y_pred3,y_pred4,y_pred5]\n",
        "my_titles = [\"KNN\",\"Random Forest\",\"Logistic\",\"Decision Tree\",\"SVM\"]"
      ],
      "metadata": {
        "id": "A9D3hFkt5YXc"
      },
      "execution_count": null,
      "outputs": []
    },
    {
      "cell_type": "code",
      "source": [
        "# function to add value labels\n",
        "def addlabels(x,y):\n",
        "    for i in range(len(x)):\n",
        "        plt.text(i, y[i]/2, round(y[i],2), ha = 'center')"
      ],
      "metadata": {
        "id": "Ysa0R-vOKEXm"
      },
      "execution_count": null,
      "outputs": []
    },
    {
      "cell_type": "code",
      "source": [
        "#plotting the f1-score comparison\n",
        "x = []\n",
        "l = []\n",
        "nl = []\n",
        "\n",
        "outputs = [y_pred1, y_pred2, y_pred4, y_pred5, y_pred3]\n",
        "outputs_l = [y_pred1_l, y_pred2_l, y_pred4_l, y_pred5_l, y_pred3_l]\n",
        "outputs_nl = [y_pred1_nl, y_pred2_nl, y_pred4_nl, y_pred5_nl, y_pred3_nl]\n",
        "\n",
        "my_titles = [\"KNN\",\"Random Forest\",\"Decision Tree\",\"SVM\",\"logistic\"]\n",
        "for i in range(len(outputs)):\n",
        "  x.append(f1_score(y_test, outputs[i], average='weighted'))\n",
        "\n",
        "for i in range(len(outputs_l)):\n",
        "  l.append(f1_score(y_test, outputs_l[i], average='weighted'))\n",
        "\n",
        "for i in range(len(outputs_nl)):\n",
        "  nl.append(f1_score(y_test, outputs_nl[i], average='weighted'))\n",
        "\n",
        "\n",
        "x.sort(reverse=True)\n",
        "plt.figure(figsize=(9,7)) \n",
        "plt.title(\"F1 Score Comparison\")\n",
        "\n",
        "X_axis = np.arange(5)\n",
        "plt.bar(X_axis - 0.15, x, 0.15, label = 'Unlabeled Images', color=\"orange\")\n",
        "plt.bar(X_axis, l, 0.15, label = 'Labeled Images', color=\"green\")\n",
        "plt.bar(X_axis + 0.15, nl, 0.15, label = 'Labeled & Normalized', color=\"grey\")\n",
        "plt.xticks(X_axis, my_titles)  \n",
        "\n",
        "# addlabels(my_titles,x)\n",
        "plt.xlabel(\"Model Name\")\n",
        "plt.legend()  \n",
        "plt.xlabel('Models')  \n",
        "plt.ylabel(\"F1 Score\")"
      ],
      "metadata": {
        "colab": {
          "base_uri": "https://localhost:8080/",
          "height": 658
        },
        "id": "nEoKwN8IKEVe",
        "outputId": "faf2acfb-4e57-4096-de90-cdb724c1ed6c"
      },
      "execution_count": null,
      "outputs": [
        {
          "output_type": "execute_result",
          "data": {
            "text/plain": [
              "Text(0, 0.5, 'F1 Score')"
            ]
          },
          "metadata": {},
          "execution_count": 53
        },
        {
          "output_type": "display_data",
          "data": {
            "text/plain": [
              "<Figure size 900x700 with 1 Axes>"
            ],
            "image/png": "[encoded data removed]"
          },
          "metadata": {}
        }
      ]
    },
    {
      "cell_type": "code",
      "source": [],
      "metadata": {
        "id": "kTyCIOZQPowA"
      },
      "execution_count": null,
      "outputs": []
    }
  ]
}