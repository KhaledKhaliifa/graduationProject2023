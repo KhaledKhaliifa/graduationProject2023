{
  "nbformat": 4,
  "nbformat_minor": 0,
  "metadata": {
    "colab": {
      "provenance": []
    },
    "kernelspec": {
      "name": "python3",
      "display_name": "Python 3"
    },
    "language_info": {
      "name": "python"
    }
  },
  "cells": [
    {
      "cell_type": "code",
      "execution_count": null,
      "metadata": {
        "id": "UAtrU_6cRJK8"
      },
      "outputs": [],
      "source": [
        "import tensorflow as tf\n",
        "from PIL import Image\n",
        "import numpy as np\n",
        "import cv2\n",
        "import os\n",
        "import matplotlib.pyplot as plt\n",
        "from keras.models import Model\n",
        "from sklearn.metrics import classification_report, confusion_matrix\n",
        "from tensorflow.keras.preprocessing.image import ImageDataGenerator , img_to_array, load_img\n",
        "from keras.models import load_model\n",
        "from keras.applications.vgg16 import preprocess_input\n",
        "import seaborn as sns\n",
        "from sklearn.metrics import accuracy_score\n",
        "from sklearn.metrics import roc_auc_score\n",
        "from sklearn.metrics import f1_score"
      ]
    },
    {
      "cell_type": "code",
      "source": [
        "from google.colab import drive\n",
        "drive.mount('/content/drive')"
      ],
      "metadata": {
        "colab": {
          "base_uri": "https://localhost:8080/"
        },
        "id": "b_uGrrCvTGhw",
        "outputId": "bb240c3d-b587-45fd-c4ad-e75a513070cf"
      },
      "execution_count": null,
      "outputs": [
        {
          "output_type": "stream",
          "name": "stdout",
          "text": [
            "Mounted at /content/drive\n"
          ]
        }
      ]
    },
    {
      "cell_type": "markdown",
      "source": [
        "# Testing Old Models "
      ],
      "metadata": {
        "id": "6hMOs3uWJMB5"
      }
    },
    {
      "cell_type": "code",
      "source": [
        "IMAGE_HEIGHT_WIDTH = 350\n",
        "train = ImageDataGenerator(rescale = 1./255)\n",
        "train_dataset = train.flow_from_directory('/content/drive/MyDrive/Projects/GP Project/Dataset/croppedDataset/trainSet',\n",
        "                                          target_size = (IMAGE_HEIGHT_WIDTH,IMAGE_HEIGHT_WIDTH),\n",
        "                                          batch_size = 32,\n",
        "                                          class_mode = \"categorical\")"
      ],
      "metadata": {
        "colab": {
          "base_uri": "https://localhost:8080/"
        },
        "id": "0xZ0lAWEJp3i",
        "outputId": "d4b84969-6406-4df7-f146-0a5ff8b0e5dc"
      },
      "execution_count": null,
      "outputs": [
        {
          "output_type": "stream",
          "name": "stdout",
          "text": [
            "Found 140 images belonging to 7 classes.\n"
          ]
        }
      ]
    },
    {
      "cell_type": "code",
      "source": [
        "train_dataset.class_indices\n",
        "my_dic = dict(train_dataset.class_indices)\n",
        "my_dic"
      ],
      "metadata": {
        "colab": {
          "base_uri": "https://localhost:8080/"
        },
        "id": "5jQy6Gb4KoCG",
        "outputId": "6d022f55-75fb-4502-b54c-dc5440a82ae7"
      },
      "execution_count": null,
      "outputs": [
        {
          "output_type": "execute_result",
          "data": {
            "text/plain": [
              "{'bed': 0,\n",
              " 'father': 1,\n",
              " 'full': 2,\n",
              " 'police': 3,\n",
              " 'shirt': 4,\n",
              " 'water': 5,\n",
              " 'wrong': 6}"
            ]
          },
          "metadata": {},
          "execution_count": 5
        }
      ]
    },
    {
      "cell_type": "code",
      "source": [
        "dir_path = \"/content/drive/MyDrive/Projects/GP Project/Dataset/croppedDataset/newTest\"\n",
        "dic = list(train_dataset.class_indices)\n",
        "myarr = []\n",
        "from PIL import Image\n",
        "\n",
        "# my_image = load_img(\"/content/drive/MyDrive/Projects/GP Project/Dataset/croppedDatasetV2/new_testSet/drink_1.jpg\")\n",
        "for i in os.listdir(dir_path):\n",
        "    my_image = load_img(dir_path + '/' + i , target_size=(IMAGE_HEIGHT_WIDTH, IMAGE_HEIGHT_WIDTH))\n",
        "    name = i\n",
        "    name = name.split(\"_\")[0]\n",
        "    \n",
        "    myarr.append(my_dic.get(name))\n",
        "    # print(name)\n",
        "\n",
        "print(myarr)"
      ],
      "metadata": {
        "colab": {
          "base_uri": "https://localhost:8080/"
        },
        "id": "OzcUEtAkLSZ6",
        "outputId": "1b6758ea-2073-409d-9cf7-a65d33a974bb"
      },
      "execution_count": null,
      "outputs": [
        {
          "output_type": "stream",
          "name": "stdout",
          "text": [
            "[3, 3, 3, 2, 2, 4, 4, 6, 6, 5, 5, 5, 6, 4, 5, 2, 3, 4, 4, 3, 2, 2, 6, 5, 6, 1, 1, 1, 1, 1, 0, 0, 0, 0, 0]\n"
          ]
        }
      ]
    },
    {
      "cell_type": "code",
      "source": [
        "from keras.applications.vgg16 import preprocess_input\n",
        "from keras.models import load_model\n",
        "\n",
        "model = load_model(\"/content/drive/MyDrive/Projects/GP Project/Models/models_1/vgg16_1.h5\")\n",
        "\n",
        "out_predicitons10 = []\n",
        "for i in os.listdir(dir_path):\n",
        "    my_image = load_img(dir_path + '//' + i , target_size=(IMAGE_HEIGHT_WIDTH, IMAGE_HEIGHT_WIDTH))\n",
        "    # plt.title(i)\n",
        "    # plt.imshow(my_image)\n",
        "    # plt.show()\n",
        "    \n",
        "    #preprocess the image\n",
        "    my_image = img_to_array(my_image)\n",
        "    my_image = my_image.reshape((1, my_image.shape[0], my_image.shape[1], my_image.shape[2]))\n",
        "    my_image = preprocess_input(my_image)\n",
        "\n",
        "    #make the prediction\n",
        "    prediction = model.predict(my_image).argmax()\n",
        "    out_predicitons10.append(prediction)\n",
        "\n",
        "    dic = list(train_dataset.class_indices)\n",
        "    # print(dic[prediction])\n",
        "\n",
        "print(confusion_matrix(myarr, out_predicitons10))\n",
        "print(classification_report(myarr, out_predicitons10))"
      ],
      "metadata": {
        "colab": {
          "base_uri": "https://localhost:8080/"
        },
        "id": "EQrm9Xeoa7_M",
        "outputId": "07e07181-10cf-44e5-84e5-733210625249"
      },
      "execution_count": null,
      "outputs": [
        {
          "output_type": "stream",
          "name": "stdout",
          "text": [
            "1/1 [==============================] - 2s 2s/step\n",
            "1/1 [==============================] - 1s 1s/step\n",
            "1/1 [==============================] - 1s 1s/step\n",
            "1/1 [==============================] - 1s 1s/step\n",
            "1/1 [==============================] - 1s 1s/step\n",
            "1/1 [==============================] - 1s 1s/step\n",
            "1/1 [==============================] - 1s 1s/step\n",
            "1/1 [==============================] - 1s 1s/step\n",
            "1/1 [==============================] - 1s 1s/step\n",
            "1/1 [==============================] - 1s 1s/step\n",
            "1/1 [==============================] - 1s 1s/step\n",
            "1/1 [==============================] - 1s 1s/step\n",
            "1/1 [==============================] - 1s 1s/step\n",
            "1/1 [==============================] - 1s 1s/step\n",
            "1/1 [==============================] - 2s 2s/step\n",
            "1/1 [==============================] - 2s 2s/step\n",
            "1/1 [==============================] - 2s 2s/step\n",
            "1/1 [==============================] - 2s 2s/step\n",
            "1/1 [==============================] - 1s 1s/step\n",
            "1/1 [==============================] - 1s 1s/step\n",
            "1/1 [==============================] - 1s 1s/step\n",
            "1/1 [==============================] - 2s 2s/step\n",
            "1/1 [==============================] - 2s 2s/step\n",
            "1/1 [==============================] - 1s 1s/step\n",
            "1/1 [==============================] - 1s 1s/step\n",
            "1/1 [==============================] - 1s 1s/step\n",
            "1/1 [==============================] - 1s 1s/step\n",
            "1/1 [==============================] - 1s 1s/step\n",
            "1/1 [==============================] - 1s 1s/step\n",
            "1/1 [==============================] - 1s 1s/step\n",
            "1/1 [==============================] - 1s 1s/step\n",
            "1/1 [==============================] - 1s 1s/step\n",
            "1/1 [==============================] - 1s 1s/step\n",
            "1/1 [==============================] - 2s 2s/step\n",
            "1/1 [==============================] - 2s 2s/step\n",
            "[[5 0 0 0 0 0 0]\n",
            " [0 4 0 0 0 1 0]\n",
            " [0 0 0 0 5 0 0]\n",
            " [0 0 0 3 2 0 0]\n",
            " [0 0 0 0 5 0 0]\n",
            " [2 0 0 1 0 2 0]\n",
            " [0 0 0 0 0 0 5]]\n",
            "              precision    recall  f1-score   support\n",
            "\n",
            "           0       0.71      1.00      0.83         5\n",
            "           1       1.00      0.80      0.89         5\n",
            "           2       0.00      0.00      0.00         5\n",
            "           3       0.75      0.60      0.67         5\n",
            "           4       0.42      1.00      0.59         5\n",
            "           5       0.67      0.40      0.50         5\n",
            "           6       1.00      1.00      1.00         5\n",
            "\n",
            "    accuracy                           0.69        35\n",
            "   macro avg       0.65      0.69      0.64        35\n",
            "weighted avg       0.65      0.69      0.64        35\n",
            "\n"
          ]
        },
        {
          "output_type": "stream",
          "name": "stderr",
          "text": [
            "/usr/local/lib/python3.8/dist-packages/sklearn/metrics/_classification.py:1318: UndefinedMetricWarning: Precision and F-score are ill-defined and being set to 0.0 in labels with no predicted samples. Use `zero_division` parameter to control this behavior.\n",
            "  _warn_prf(average, modifier, msg_start, len(result))\n",
            "/usr/local/lib/python3.8/dist-packages/sklearn/metrics/_classification.py:1318: UndefinedMetricWarning: Precision and F-score are ill-defined and being set to 0.0 in labels with no predicted samples. Use `zero_division` parameter to control this behavior.\n",
            "  _warn_prf(average, modifier, msg_start, len(result))\n",
            "/usr/local/lib/python3.8/dist-packages/sklearn/metrics/_classification.py:1318: UndefinedMetricWarning: Precision and F-score are ill-defined and being set to 0.0 in labels with no predicted samples. Use `zero_division` parameter to control this behavior.\n",
            "  _warn_prf(average, modifier, msg_start, len(result))\n"
          ]
        }
      ]
    },
    {
      "cell_type": "code",
      "source": [
        "\n",
        "model = load_model(\"/content/drive/MyDrive/Projects/GP Project/Models/models_1/res50V2_cropped.h5\")\n",
        "\n",
        "out_predicitons11 = []\n",
        "for i in os.listdir(dir_path):\n",
        "    my_image = load_img(dir_path + '//' + i , target_size=(IMAGE_HEIGHT_WIDTH, IMAGE_HEIGHT_WIDTH))\n",
        "    # plt.title(i)\n",
        "    # plt.imshow(my_image)\n",
        "    # plt.show()\n",
        "    \n",
        "    #preprocess the image\n",
        "    my_image = img_to_array(my_image)\n",
        "    my_image = my_image.reshape((1, my_image.shape[0], my_image.shape[1], my_image.shape[2]))\n",
        "    my_image = preprocess_input(my_image)\n",
        "\n",
        "    #make the prediction\n",
        "    prediction = model.predict(my_image).argmax()\n",
        "    out_predicitons11.append(prediction)\n",
        "\n",
        "    dic = list(train_dataset.class_indices)\n",
        "    #print(dic[prediction])\n",
        "\n",
        "print(confusion_matrix(myarr, out_predicitons11))\n",
        "print(classification_report(myarr, out_predicitons11))"
      ],
      "metadata": {
        "colab": {
          "base_uri": "https://localhost:8080/"
        },
        "id": "46tdZ6TEa70W",
        "outputId": "b078533b-4447-43e0-f5fa-b483766c288b"
      },
      "execution_count": null,
      "outputs": [
        {
          "output_type": "stream",
          "name": "stdout",
          "text": [
            "1/1 [==============================] - 1s 700ms/step\n",
            "1/1 [==============================] - 0s 23ms/step\n",
            "1/1 [==============================] - 0s 24ms/step\n",
            "1/1 [==============================] - 0s 21ms/step\n",
            "1/1 [==============================] - 0s 20ms/step\n",
            "1/1 [==============================] - 0s 23ms/step\n",
            "1/1 [==============================] - 0s 21ms/step\n",
            "1/1 [==============================] - 0s 26ms/step\n",
            "1/1 [==============================] - 0s 21ms/step\n",
            "1/1 [==============================] - 0s 24ms/step\n",
            "1/1 [==============================] - 0s 21ms/step\n",
            "1/1 [==============================] - 0s 20ms/step\n",
            "1/1 [==============================] - 0s 30ms/step\n",
            "1/1 [==============================] - 0s 24ms/step\n",
            "1/1 [==============================] - 0s 24ms/step\n",
            "1/1 [==============================] - 0s 21ms/step\n",
            "1/1 [==============================] - 0s 21ms/step\n",
            "1/1 [==============================] - 0s 22ms/step\n",
            "1/1 [==============================] - 0s 21ms/step\n",
            "1/1 [==============================] - 0s 20ms/step\n",
            "1/1 [==============================] - 0s 20ms/step\n",
            "1/1 [==============================] - 0s 21ms/step\n",
            "1/1 [==============================] - 0s 22ms/step\n",
            "1/1 [==============================] - 0s 23ms/step\n",
            "1/1 [==============================] - 0s 25ms/step\n",
            "1/1 [==============================] - 0s 22ms/step\n",
            "1/1 [==============================] - 0s 23ms/step\n",
            "1/1 [==============================] - 0s 22ms/step\n",
            "1/1 [==============================] - 0s 30ms/step\n",
            "1/1 [==============================] - 0s 23ms/step\n",
            "1/1 [==============================] - 0s 23ms/step\n",
            "1/1 [==============================] - 0s 22ms/step\n",
            "1/1 [==============================] - 0s 22ms/step\n",
            "1/1 [==============================] - 0s 23ms/step\n",
            "1/1 [==============================] - 0s 21ms/step\n",
            "[[0 0 0 0 0 3 2]\n",
            " [0 0 0 2 0 2 1]\n",
            " [0 0 0 0 3 0 2]\n",
            " [0 0 0 0 0 2 3]\n",
            " [0 0 0 1 1 0 3]\n",
            " [0 0 0 1 0 4 0]\n",
            " [0 0 0 1 0 0 4]]\n",
            "              precision    recall  f1-score   support\n",
            "\n",
            "           0       0.00      0.00      0.00         5\n",
            "           1       0.00      0.00      0.00         5\n",
            "           2       0.00      0.00      0.00         5\n",
            "           3       0.00      0.00      0.00         5\n",
            "           4       0.25      0.20      0.22         5\n",
            "           5       0.36      0.80      0.50         5\n",
            "           6       0.27      0.80      0.40         5\n",
            "\n",
            "    accuracy                           0.26        35\n",
            "   macro avg       0.13      0.26      0.16        35\n",
            "weighted avg       0.13      0.26      0.16        35\n",
            "\n"
          ]
        },
        {
          "output_type": "stream",
          "name": "stderr",
          "text": [
            "/usr/local/lib/python3.8/dist-packages/sklearn/metrics/_classification.py:1318: UndefinedMetricWarning: Precision and F-score are ill-defined and being set to 0.0 in labels with no predicted samples. Use `zero_division` parameter to control this behavior.\n",
            "  _warn_prf(average, modifier, msg_start, len(result))\n",
            "/usr/local/lib/python3.8/dist-packages/sklearn/metrics/_classification.py:1318: UndefinedMetricWarning: Precision and F-score are ill-defined and being set to 0.0 in labels with no predicted samples. Use `zero_division` parameter to control this behavior.\n",
            "  _warn_prf(average, modifier, msg_start, len(result))\n",
            "/usr/local/lib/python3.8/dist-packages/sklearn/metrics/_classification.py:1318: UndefinedMetricWarning: Precision and F-score are ill-defined and being set to 0.0 in labels with no predicted samples. Use `zero_division` parameter to control this behavior.\n",
            "  _warn_prf(average, modifier, msg_start, len(result))\n"
          ]
        }
      ]
    },
    {
      "cell_type": "code",
      "source": [
        "model = load_model(\"/content/drive/MyDrive/Projects/GP Project/Models/models_1/mobileV2_cropped.h5\")\n",
        "\n",
        "out_predicitons12 = []\n",
        "for i in os.listdir(dir_path):\n",
        "    my_image = load_img(dir_path + '//' + i , target_size=(IMAGE_HEIGHT_WIDTH, IMAGE_HEIGHT_WIDTH))\n",
        "    # plt.title(i)\n",
        "    # plt.imshow(my_image)\n",
        "    # plt.show()\n",
        "    \n",
        "    #preprocess the image\n",
        "    my_image = img_to_array(my_image)\n",
        "    my_image = my_image.reshape((1, my_image.shape[0], my_image.shape[1], my_image.shape[2]))\n",
        "    my_image = preprocess_input(my_image)\n",
        "\n",
        "    #make the prediction\n",
        "    prediction = model.predict(my_image).argmax()\n",
        "    out_predicitons12.append(prediction)\n",
        "\n",
        "    dic = list(train_dataset.class_indices)\n",
        "    #print(dic[prediction])\n",
        "\n",
        "print(confusion_matrix(myarr, out_predicitons12))\n",
        "print(classification_report(myarr, out_predicitons12))"
      ],
      "metadata": {
        "colab": {
          "base_uri": "https://localhost:8080/"
        },
        "id": "O7ElBg0Ga7yC",
        "outputId": "b9d7fdfc-23f1-4f8c-d0fc-c94b770efe11"
      },
      "execution_count": null,
      "outputs": [
        {
          "output_type": "stream",
          "name": "stdout",
          "text": [
            "1/1 [==============================] - 1s 659ms/step\n",
            "1/1 [==============================] - 0s 20ms/step\n",
            "1/1 [==============================] - 0s 19ms/step\n",
            "1/1 [==============================] - 0s 20ms/step\n",
            "1/1 [==============================] - 0s 22ms/step\n",
            "1/1 [==============================] - 0s 19ms/step\n",
            "1/1 [==============================] - 0s 20ms/step\n",
            "1/1 [==============================] - 0s 21ms/step\n",
            "1/1 [==============================] - 0s 19ms/step\n",
            "1/1 [==============================] - 0s 23ms/step\n",
            "1/1 [==============================] - 0s 20ms/step\n",
            "1/1 [==============================] - 0s 21ms/step\n",
            "1/1 [==============================] - 0s 27ms/step\n",
            "1/1 [==============================] - 0s 20ms/step\n",
            "1/1 [==============================] - 0s 25ms/step\n",
            "1/1 [==============================] - 0s 29ms/step\n",
            "1/1 [==============================] - 0s 22ms/step\n",
            "1/1 [==============================] - 0s 21ms/step\n",
            "1/1 [==============================] - 0s 20ms/step\n",
            "1/1 [==============================] - 0s 20ms/step\n",
            "1/1 [==============================] - 0s 20ms/step\n",
            "1/1 [==============================] - 0s 19ms/step\n",
            "1/1 [==============================] - 0s 19ms/step\n",
            "1/1 [==============================] - 0s 21ms/step\n",
            "1/1 [==============================] - 0s 19ms/step\n",
            "1/1 [==============================] - 0s 21ms/step\n",
            "1/1 [==============================] - 0s 20ms/step\n",
            "1/1 [==============================] - 0s 19ms/step\n",
            "1/1 [==============================] - 0s 22ms/step\n",
            "1/1 [==============================] - 0s 21ms/step\n",
            "1/1 [==============================] - 0s 19ms/step\n",
            "1/1 [==============================] - 0s 22ms/step\n",
            "1/1 [==============================] - 0s 23ms/step\n",
            "1/1 [==============================] - 0s 20ms/step\n",
            "1/1 [==============================] - 0s 23ms/step\n",
            "[[4 1 0 0 0 0 0]\n",
            " [0 2 0 0 0 3 0]\n",
            " [0 0 5 0 0 0 0]\n",
            " [0 0 0 4 1 0 0]\n",
            " [0 0 5 0 0 0 0]\n",
            " [0 5 0 0 0 0 0]\n",
            " [0 0 0 0 0 0 5]]\n",
            "              precision    recall  f1-score   support\n",
            "\n",
            "           0       1.00      0.80      0.89         5\n",
            "           1       0.25      0.40      0.31         5\n",
            "           2       0.50      1.00      0.67         5\n",
            "           3       1.00      0.80      0.89         5\n",
            "           4       0.00      0.00      0.00         5\n",
            "           5       0.00      0.00      0.00         5\n",
            "           6       1.00      1.00      1.00         5\n",
            "\n",
            "    accuracy                           0.57        35\n",
            "   macro avg       0.54      0.57      0.54        35\n",
            "weighted avg       0.54      0.57      0.54        35\n",
            "\n"
          ]
        }
      ]
    },
    {
      "cell_type": "code",
      "source": [
        "\n",
        "\n",
        "model = load_model(\"/content/drive/MyDrive/Projects/GP Project/Models/models_1/inceptionV3_cropped.h5\")\n",
        "\n",
        "out_predicitons13 = []\n",
        "for i in os.listdir(dir_path):\n",
        "    my_image = load_img(dir_path + '//' + i , target_size=(IMAGE_HEIGHT_WIDTH, IMAGE_HEIGHT_WIDTH))\n",
        "    # plt.title(i)\n",
        "    # plt.imshow(my_image)\n",
        "    # plt.show()\n",
        "    \n",
        "    #preprocess the image\n",
        "    my_image = img_to_array(my_image)\n",
        "    my_image = my_image.reshape((1, my_image.shape[0], my_image.shape[1], my_image.shape[2]))\n",
        "    my_image = preprocess_input(my_image)\n",
        "\n",
        "    #make the prediction\n",
        "    prediction = model.predict(my_image).argmax()\n",
        "    out_predicitons13.append(prediction)\n",
        "\n",
        "    dic = list(train_dataset.class_indices)\n",
        "    #print(dic[prediction])\n",
        "\n",
        "print(confusion_matrix(myarr, out_predicitons13))\n",
        "print(classification_report(myarr, out_predicitons13))"
      ],
      "metadata": {
        "colab": {
          "base_uri": "https://localhost:8080/"
        },
        "id": "z0bvu4H5a7vo",
        "outputId": "20109e5d-056b-4813-eeea-159b0d0316ea"
      },
      "execution_count": null,
      "outputs": [
        {
          "output_type": "stream",
          "name": "stdout",
          "text": [
            "1/1 [==============================] - 1s 1s/step\n",
            "1/1 [==============================] - 0s 25ms/step\n",
            "1/1 [==============================] - 0s 26ms/step\n",
            "1/1 [==============================] - 0s 25ms/step\n",
            "1/1 [==============================] - 0s 25ms/step\n",
            "1/1 [==============================] - 0s 26ms/step\n",
            "1/1 [==============================] - 0s 25ms/step\n",
            "1/1 [==============================] - 0s 25ms/step\n",
            "1/1 [==============================] - 0s 26ms/step\n",
            "1/1 [==============================] - 0s 25ms/step\n",
            "1/1 [==============================] - 0s 25ms/step\n",
            "1/1 [==============================] - 0s 26ms/step\n",
            "1/1 [==============================] - 0s 26ms/step\n",
            "1/1 [==============================] - 0s 27ms/step\n",
            "1/1 [==============================] - 0s 28ms/step\n",
            "1/1 [==============================] - 0s 28ms/step\n",
            "1/1 [==============================] - 0s 26ms/step\n",
            "1/1 [==============================] - 0s 26ms/step\n",
            "1/1 [==============================] - 0s 26ms/step\n",
            "1/1 [==============================] - 0s 26ms/step\n",
            "1/1 [==============================] - 0s 27ms/step\n",
            "1/1 [==============================] - 0s 26ms/step\n",
            "1/1 [==============================] - 0s 25ms/step\n",
            "1/1 [==============================] - 0s 32ms/step\n",
            "1/1 [==============================] - 0s 28ms/step\n",
            "1/1 [==============================] - 0s 25ms/step\n",
            "1/1 [==============================] - 0s 26ms/step\n",
            "1/1 [==============================] - 0s 26ms/step\n",
            "1/1 [==============================] - 0s 26ms/step\n",
            "1/1 [==============================] - 0s 27ms/step\n",
            "1/1 [==============================] - 0s 25ms/step\n",
            "1/1 [==============================] - 0s 25ms/step\n",
            "1/1 [==============================] - 0s 28ms/step\n",
            "1/1 [==============================] - 0s 25ms/step\n",
            "1/1 [==============================] - 0s 25ms/step\n",
            "[[0 0 0 4 0 0 1]\n",
            " [2 0 0 3 0 0 0]\n",
            " [3 1 0 1 0 0 0]\n",
            " [3 1 0 1 0 0 0]\n",
            " [5 0 0 0 0 0 0]\n",
            " [3 0 0 2 0 0 0]\n",
            " [4 0 0 1 0 0 0]]\n",
            "              precision    recall  f1-score   support\n",
            "\n",
            "           0       0.00      0.00      0.00         5\n",
            "           1       0.00      0.00      0.00         5\n",
            "           2       0.00      0.00      0.00         5\n",
            "           3       0.08      0.20      0.12         5\n",
            "           4       0.00      0.00      0.00         5\n",
            "           5       0.00      0.00      0.00         5\n",
            "           6       0.00      0.00      0.00         5\n",
            "\n",
            "    accuracy                           0.03        35\n",
            "   macro avg       0.01      0.03      0.02        35\n",
            "weighted avg       0.01      0.03      0.02        35\n",
            "\n"
          ]
        },
        {
          "output_type": "stream",
          "name": "stderr",
          "text": [
            "/usr/local/lib/python3.8/dist-packages/sklearn/metrics/_classification.py:1318: UndefinedMetricWarning: Precision and F-score are ill-defined and being set to 0.0 in labels with no predicted samples. Use `zero_division` parameter to control this behavior.\n",
            "  _warn_prf(average, modifier, msg_start, len(result))\n",
            "/usr/local/lib/python3.8/dist-packages/sklearn/metrics/_classification.py:1318: UndefinedMetricWarning: Precision and F-score are ill-defined and being set to 0.0 in labels with no predicted samples. Use `zero_division` parameter to control this behavior.\n",
            "  _warn_prf(average, modifier, msg_start, len(result))\n",
            "/usr/local/lib/python3.8/dist-packages/sklearn/metrics/_classification.py:1318: UndefinedMetricWarning: Precision and F-score are ill-defined and being set to 0.0 in labels with no predicted samples. Use `zero_division` parameter to control this behavior.\n",
            "  _warn_prf(average, modifier, msg_start, len(result))\n"
          ]
        }
      ]
    },
    {
      "cell_type": "code",
      "source": [
        "import pandas as pd\n",
        "import seaborn as sns\n",
        "outputss = [out_predicitons10,out_predicitons11,out_predicitons12,out_predicitons13]\n",
        "\n",
        "my_titles = [\"VGG16\",\"ResNet50V2\",\"MobileV2\",\"InceptionV3\"]\n",
        "\n",
        "for i in range(len(outputss)):\n",
        "  df = pd.DataFrame(confusion_matrix(myarr, outputss[i]))\n",
        "  df = df.rename(columns=lambda x: str(dic[x]))\n",
        "  df = df.rename(index=lambda x: str(dic[x]))\n",
        "  plt.figure()\n",
        "  plt.title(my_titles[i])\n",
        "  sns.heatmap(df,cmap=sns.cubehelix_palette(as_cmap=True))\n",
        "  plt.show()"
      ],
      "metadata": {
        "colab": {
          "base_uri": "https://localhost:8080/",
          "height": 1000
        },
        "id": "O_pItgkXbvA8",
        "outputId": "cf00de8a-2ba8-4ce1-95ee-31e9c4c288b4"
      },
      "execution_count": null,
      "outputs": [
        {
          "output_type": "display_data",
          "data": {
            "text/plain": [
              "<Figure size 432x288 with 2 Axes>"
            ],
            "image/png": "[encoded data removed]"
          },
          "metadata": {
            "needs_background": "light"
          }
        },
        {
          "output_type": "display_data",
          "data": {
            "text/plain": [
              "<Figure size 432x288 with 2 Axes>"
            ],
            "image/png": "[encoded data removed]"
          },
          "metadata": {
            "needs_background": "light"
          }
        },
        {
          "output_type": "display_data",
          "data": {
            "text/plain": [
              "<Figure size 432x288 with 2 Axes>"
            ],
            "image/png": "[encoded data removed]"
          },
          "metadata": {
            "needs_background": "light"
          }
        },
        {
          "output_type": "display_data",
          "data": {
            "text/plain": [
              "<Figure size 432x288 with 2 Axes>"
            ],
            "image/png": "[encoded data removed]"
          },
          "metadata": {
            "needs_background": "light"
          }
        }
      ]
    },
    {
      "cell_type": "code",
      "source": [
        "\n",
        "from sklearn.metrics import accuracy_score\n",
        "from sklearn.metrics import f1_score\n",
        "x = []\n",
        "y = [\"VGG16\",\"MobileV2\",\"ResNet50V2\",\"InceptionV3\"]\n",
        "\n",
        "for i in range(len(outputss)):\n",
        "  x.append(f1_score(myarr, outputss[i], average='macro'))\n",
        "\n",
        "x.sort(reverse=True)\n",
        "plt.figure(figsize=(5,6)) \n",
        "plt.title(\"F1 Score Comparison\")\n",
        "plt.bar(y,x,0.4,color = \"green\")\n",
        "plt.xlabel(\"Model Name\")\n",
        "plt.ylabel(\"F1 Score\")"
      ],
      "metadata": {
        "colab": {
          "base_uri": "https://localhost:8080/",
          "height": 421
        },
        "id": "qIGrznN7cVDt",
        "outputId": "642c36a2-4d05-44ab-e7dc-6eaaf78f1302"
      },
      "execution_count": null,
      "outputs": [
        {
          "output_type": "execute_result",
          "data": {
            "text/plain": [
              "Text(0, 0.5, 'F1 Score')"
            ]
          },
          "metadata": {},
          "execution_count": 66
        },
        {
          "output_type": "display_data",
          "data": {
            "text/plain": [
              "<Figure size 360x432 with 1 Axes>"
            ],
            "image/png": "[encoded data removed]"
          },
          "metadata": {
            "needs_background": "light"
          }
        }
      ]
    },
    {
      "cell_type": "code",
      "source": [
        "\n",
        "x = []\n",
        "y = [\"VGG16\",\"MobileV2\",\"ResNet50V2\",\"InceptionV3\"]\n",
        "\n",
        "for i in range(len(outputss)):\n",
        "  # str(my_titles[i])+\" Model Accuracy =\\t\"+str(accuracy_score(myarr, outputss[i]))\n",
        "  x.append(accuracy_score(myarr, outputss[i])*100)\n",
        "\n",
        "x.sort(reverse=True)\n",
        "plt.figure(figsize=(5,6)) \n",
        "plt.title(\"Model Accuracy Comparison\")\n",
        "plt.bar(y,x,0.4,color = \"green\")\n",
        "plt.xlabel(\"Model Name\")\n",
        "plt.ylabel(\"Percentage\")"
      ],
      "metadata": {
        "colab": {
          "base_uri": "https://localhost:8080/",
          "height": 421
        },
        "id": "KtuTSdLgcpQu",
        "outputId": "b38a4abf-1cde-4545-f639-a531a58cfc18"
      },
      "execution_count": null,
      "outputs": [
        {
          "output_type": "execute_result",
          "data": {
            "text/plain": [
              "Text(0, 0.5, 'Percentage')"
            ]
          },
          "metadata": {},
          "execution_count": 67
        },
        {
          "output_type": "display_data",
          "data": {
            "text/plain": [
              "<Figure size 360x432 with 1 Axes>"
            ],
            "image/png": "[encoded data removed]"
          },
          "metadata": {
            "needs_background": "light"
          }
        }
      ]
    },
    {
      "cell_type": "markdown",
      "source": [
        "# Testing Final Models\n",
        " "
      ],
      "metadata": {
        "id": "XpLXvWKUJgUe"
      }
    },
    {
      "cell_type": "code",
      "source": [
        "IMAGE_HEIGHT_WIDTH = 350\n",
        "train = ImageDataGenerator(rescale = 1./255)\n",
        "train_dataset = train.flow_from_directory('/content/drive/MyDrive/Projects/GP Project/Dataset/croppedDatasetV2/trainSet',\n",
        "                                          target_size = (IMAGE_HEIGHT_WIDTH,IMAGE_HEIGHT_WIDTH),\n",
        "                                          batch_size = 32,\n",
        "                                          class_mode = \"categorical\")"
      ],
      "metadata": {
        "colab": {
          "base_uri": "https://localhost:8080/"
        },
        "id": "yaN8_wjfbXxx",
        "outputId": "a88ae2f0-9b37-4d06-ad5b-0edec7f62211"
      },
      "execution_count": null,
      "outputs": [
        {
          "output_type": "stream",
          "name": "stdout",
          "text": [
            "Found 900 images belonging to 15 classes.\n"
          ]
        }
      ]
    },
    {
      "cell_type": "code",
      "source": [
        "train_dataset.class_indices\n",
        "my_dic = dict(train_dataset.class_indices)\n",
        "my_dic"
      ],
      "metadata": {
        "colab": {
          "base_uri": "https://localhost:8080/"
        },
        "id": "mu7lWOgwbXt-",
        "outputId": "a78b7c45-e5ff-4ca8-b671-d361f9fdb34a"
      },
      "execution_count": null,
      "outputs": [
        {
          "output_type": "execute_result",
          "data": {
            "text/plain": [
              "{'drink': 0,\n",
              " 'food': 1,\n",
              " 'full': 2,\n",
              " 'have': 3,\n",
              " 'hello': 4,\n",
              " 'i': 5,\n",
              " 'i love you': 6,\n",
              " 'police': 7,\n",
              " 'prefer': 8,\n",
              " 'shirt': 9,\n",
              " 'telephone': 10,\n",
              " 'water': 11,\n",
              " 'wrong': 12,\n",
              " 'yes': 13,\n",
              " 'you': 14}"
            ]
          },
          "metadata": {},
          "execution_count": 4
        }
      ]
    },
    {
      "cell_type": "code",
      "source": [
        "# \n",
        "dir_path = \"/content/drive/MyDrive/Projects/GP Project/Dataset/croppedDatasetV2/new_testSet\"\n",
        "dic = list(train_dataset.class_indices)\n",
        "myarr = []\n",
        "\n",
        "for i in os.listdir(dir_path):\n",
        "    my_image = load_img(dir_path + '//' + i , target_size=(IMAGE_HEIGHT_WIDTH, IMAGE_HEIGHT_WIDTH))\n",
        "    name = i\n",
        "    name = name.split(\"_\")[0]\n",
        "    \n",
        "    myarr.append(my_dic.get(name))\n",
        "    # print(name)\n",
        "\n",
        "print(myarr)"
      ],
      "metadata": {
        "colab": {
          "base_uri": "https://localhost:8080/"
        },
        "id": "PTbD_i-gku-p",
        "outputId": "fdd3e473-8263-43c6-835c-cd981884991b"
      },
      "execution_count": null,
      "outputs": [
        {
          "output_type": "stream",
          "name": "stdout",
          "text": [
            "[0, 0, 0, 0, 0, 0, 1, 1, 1, 1, 1, 1, 2, 2, 2, 2, 2, 2, 3, 3, 3, 3, 3, 3, 4, 4, 4, 4, 4, 4, 5, 5, 5, 5, 5, 5, 6, 6, 6, 6, 6, 6, 7, 7, 7, 7, 7, 7, 8, 8, 8, 8, 8, 8, 9, 9, 9, 9, 9, 9, 10, 10, 10, 10, 10, 10, 11, 11, 11, 11, 11, 11, 12, 12, 12, 12, 12, 12, 13, 13, 13, 13, 13, 13, 14, 14, 14, 14, 14, 14]\n"
          ]
        }
      ]
    },
    {
      "cell_type": "code",
      "source": [
        "from keras.applications.vgg16 import preprocess_input\n",
        "model = load_model(\"/content/drive/MyDrive/Projects/GP Project/Models/models_2/VGG16_Augmented1.h5\")\n",
        "\n",
        "out_predicitons0 = []\n",
        "for i in os.listdir(dir_path):\n",
        "    my_image = load_img(dir_path + '//' + i , target_size=(IMAGE_HEIGHT_WIDTH, IMAGE_HEIGHT_WIDTH))\n",
        "    # plt.title(i)\n",
        "    # plt.imshow(my_image)\n",
        "    # plt.show()\n",
        "    \n",
        "    #preprocess the image\n",
        "    my_image = img_to_array(my_image)\n",
        "    my_image = my_image.reshape((1, my_image.shape[0], my_image.shape[1], my_image.shape[2]))\n",
        "    my_image = preprocess_input(my_image)\n",
        "\n",
        "    #make the prediction\n",
        "    prediction = model.predict(my_image).argmax()\n",
        "    out_predicitons0.append(prediction)\n",
        "\n",
        "    dic = list(train_dataset.class_indices)\n",
        "    #print(dic[prediction])\n",
        "\n",
        "print(confusion_matrix(myarr, out_predicitons0))\n",
        "print(classification_report(myarr, out_predicitons0))\n",
        "# sns.heatmap(confusion_matrix(myarr, out_predicitons0),cmap=sns.cubehelix_palette(as_cmap=True))"
      ],
      "metadata": {
        "colab": {
          "base_uri": "https://localhost:8080/"
        },
        "id": "tfJ_Maz0CJv9",
        "outputId": "71a5c4f6-69b6-4695-9c4d-ea46195a2e5f"
      },
      "execution_count": null,
      "outputs": [
        {
          "output_type": "stream",
          "name": "stdout",
          "text": [
            "1/1 [==============================] - 2s 2s/step\n",
            "1/1 [==============================] - 1s 1s/step\n",
            "1/1 [==============================] - 1s 1s/step\n",
            "1/1 [==============================] - 1s 1s/step\n",
            "1/1 [==============================] - 1s 1s/step\n",
            "1/1 [==============================] - 1s 1s/step\n",
            "1/1 [==============================] - 2s 2s/step\n",
            "1/1 [==============================] - 2s 2s/step\n",
            "1/1 [==============================] - 1s 1s/step\n",
            "1/1 [==============================] - 1s 1s/step\n",
            "1/1 [==============================] - 1s 1s/step\n",
            "1/1 [==============================] - 1s 1s/step\n",
            "1/1 [==============================] - 1s 1s/step\n",
            "1/1 [==============================] - 1s 1s/step\n",
            "1/1 [==============================] - 1s 1s/step\n",
            "1/1 [==============================] - 1s 1s/step\n",
            "1/1 [==============================] - 1s 1s/step\n",
            "1/1 [==============================] - 1s 1s/step\n",
            "1/1 [==============================] - 1s 1s/step\n",
            "1/1 [==============================] - 1s 1s/step\n",
            "1/1 [==============================] - 1s 1s/step\n",
            "1/1 [==============================] - 1s 1s/step\n",
            "1/1 [==============================] - 1s 1s/step\n",
            "1/1 [==============================] - 1s 1s/step\n",
            "1/1 [==============================] - 1s 1s/step\n",
            "1/1 [==============================] - 1s 1s/step\n",
            "1/1 [==============================] - 1s 1s/step\n",
            "1/1 [==============================] - 1s 1s/step\n",
            "1/1 [==============================] - 1s 1s/step\n",
            "1/1 [==============================] - 1s 1s/step\n",
            "1/1 [==============================] - 1s 1s/step\n",
            "1/1 [==============================] - 1s 1s/step\n",
            "1/1 [==============================] - 1s 1s/step\n",
            "1/1 [==============================] - 1s 1s/step\n",
            "1/1 [==============================] - 1s 1s/step\n",
            "1/1 [==============================] - 1s 1s/step\n",
            "1/1 [==============================] - 1s 1s/step\n",
            "1/1 [==============================] - 1s 1s/step\n",
            "1/1 [==============================] - 2s 2s/step\n",
            "1/1 [==============================] - 2s 2s/step\n",
            "1/1 [==============================] - 2s 2s/step\n",
            "1/1 [==============================] - 2s 2s/step\n",
            "1/1 [==============================] - 1s 1s/step\n",
            "1/1 [==============================] - 1s 1s/step\n",
            "1/1 [==============================] - 1s 1s/step\n",
            "1/1 [==============================] - 1s 1s/step\n",
            "1/1 [==============================] - 1s 1s/step\n",
            "1/1 [==============================] - 1s 1s/step\n",
            "1/1 [==============================] - 1s 1s/step\n",
            "1/1 [==============================] - 1s 1s/step\n",
            "1/1 [==============================] - 1s 1s/step\n",
            "1/1 [==============================] - 1s 1s/step\n",
            "1/1 [==============================] - 1s 1s/step\n",
            "1/1 [==============================] - 1s 1s/step\n",
            "1/1 [==============================] - 1s 1s/step\n",
            "1/1 [==============================] - 1s 1s/step\n",
            "1/1 [==============================] - 1s 1s/step\n",
            "1/1 [==============================] - 1s 1s/step\n",
            "1/1 [==============================] - 1s 1s/step\n",
            "1/1 [==============================] - 1s 1s/step\n",
            "1/1 [==============================] - 1s 1s/step\n",
            "1/1 [==============================] - 1s 1s/step\n",
            "1/1 [==============================] - 1s 1s/step\n",
            "1/1 [==============================] - 1s 1s/step\n",
            "1/1 [==============================] - 1s 1s/step\n",
            "1/1 [==============================] - 1s 1s/step\n",
            "1/1 [==============================] - 1s 1s/step\n",
            "1/1 [==============================] - 1s 1s/step\n",
            "1/1 [==============================] - 2s 2s/step\n",
            "1/1 [==============================] - 2s 2s/step\n",
            "1/1 [==============================] - 2s 2s/step\n",
            "1/1 [==============================] - 3s 3s/step\n",
            "1/1 [==============================] - 2s 2s/step\n",
            "1/1 [==============================] - 2s 2s/step\n",
            "1/1 [==============================] - 2s 2s/step\n",
            "1/1 [==============================] - 1s 1s/step\n",
            "1/1 [==============================] - 1s 1s/step\n",
            "1/1 [==============================] - 1s 1s/step\n",
            "1/1 [==============================] - 1s 1s/step\n",
            "1/1 [==============================] - 1s 1s/step\n",
            "1/1 [==============================] - 1s 1s/step\n",
            "1/1 [==============================] - 1s 1s/step\n",
            "1/1 [==============================] - 1s 1s/step\n",
            "1/1 [==============================] - 1s 1s/step\n",
            "1/1 [==============================] - 1s 1s/step\n",
            "1/1 [==============================] - 1s 1s/step\n",
            "1/1 [==============================] - 1s 1s/step\n",
            "1/1 [==============================] - 1s 1s/step\n",
            "1/1 [==============================] - 1s 1s/step\n",
            "1/1 [==============================] - 1s 1s/step\n",
            "[[5 0 0 0 0 0 0 1 0 0 0 0 0 0 0]\n",
            " [0 6 0 0 0 0 0 0 0 0 0 0 0 0 0]\n",
            " [0 0 6 0 0 0 0 0 0 0 0 0 0 0 0]\n",
            " [0 0 0 6 0 0 0 0 0 0 0 0 0 0 0]\n",
            " [0 0 0 0 5 0 0 0 1 0 0 0 0 0 0]\n",
            " [0 0 0 0 0 6 0 0 0 0 0 0 0 0 0]\n",
            " [0 0 0 0 0 0 6 0 0 0 0 0 0 0 0]\n",
            " [0 0 0 0 0 0 0 6 0 0 0 0 0 0 0]\n",
            " [0 0 0 0 0 0 0 0 6 0 0 0 0 0 0]\n",
            " [0 0 0 0 0 0 0 0 0 6 0 0 0 0 0]\n",
            " [0 0 0 0 0 0 0 0 0 0 6 0 0 0 0]\n",
            " [0 0 0 0 0 0 0 0 0 0 0 6 0 0 0]\n",
            " [0 0 0 0 0 0 0 0 0 0 0 0 6 0 0]\n",
            " [0 0 0 0 0 0 0 0 0 0 0 0 0 6 0]\n",
            " [0 0 0 0 0 0 0 0 0 0 0 0 0 2 4]]\n",
            "              precision    recall  f1-score   support\n",
            "\n",
            "           0       1.00      0.83      0.91         6\n",
            "           1       1.00      1.00      1.00         6\n",
            "           2       1.00      1.00      1.00         6\n",
            "           3       1.00      1.00      1.00         6\n",
            "           4       1.00      0.83      0.91         6\n",
            "           5       1.00      1.00      1.00         6\n",
            "           6       1.00      1.00      1.00         6\n",
            "           7       0.86      1.00      0.92         6\n",
            "           8       0.86      1.00      0.92         6\n",
            "           9       1.00      1.00      1.00         6\n",
            "          10       1.00      1.00      1.00         6\n",
            "          11       1.00      1.00      1.00         6\n",
            "          12       1.00      1.00      1.00         6\n",
            "          13       0.75      1.00      0.86         6\n",
            "          14       1.00      0.67      0.80         6\n",
            "\n",
            "    accuracy                           0.96        90\n",
            "   macro avg       0.96      0.96      0.95        90\n",
            "weighted avg       0.96      0.96      0.95        90\n",
            "\n"
          ]
        }
      ]
    },
    {
      "cell_type": "code",
      "source": [
        "from keras.applications.vgg16 import preprocess_input\n",
        "\n",
        "out_predicitons1 = []\n",
        "model1 = load_model(\"/content/drive/MyDrive/Projects/GP Project/Models/models_2/VGG19_Augmented1.h5\")\n",
        "for i in os.listdir(dir_path):\n",
        "    my_image = load_img(dir_path + '//' + i , target_size=(IMAGE_HEIGHT_WIDTH, IMAGE_HEIGHT_WIDTH))\n",
        "    # plt.title(i)\n",
        "    # plt.imshow(my_image)\n",
        "    # plt.show()\n",
        "    \n",
        "    #preprocess the image\n",
        "    my_image = img_to_array(my_image)\n",
        "    my_image = my_image.reshape((1, my_image.shape[0], my_image.shape[1], my_image.shape[2]))\n",
        "    my_image = preprocess_input(my_image)\n",
        "\n",
        "    #make the prediction\n",
        "    prediction = model1.predict(my_image).argmax()\n",
        "    out_predicitons1.append(prediction)\n",
        "\n",
        "    dic = list(train_dataset.class_indices)\n",
        "    #print(dic[prediction])\n",
        "\n",
        "print(confusion_matrix(myarr, out_predicitons1))\n",
        "print(classification_report(myarr, out_predicitons1))\n",
        "# sns.heatmap(confusion_matrix(myarr, out_predicitons1),cmap=sns.cubehelix_palette(as_cmap=True))\n",
        "# "
      ],
      "metadata": {
        "colab": {
          "base_uri": "https://localhost:8080/"
        },
        "id": "5Y1lBgbcD8oF",
        "outputId": "86455616-b783-40da-da40-7c72f6e2d914"
      },
      "execution_count": null,
      "outputs": [
        {
          "output_type": "stream",
          "name": "stdout",
          "text": [
            "1/1 [==============================] - 4s 4s/step\n",
            "1/1 [==============================] - 4s 4s/step\n",
            "1/1 [==============================] - 5s 5s/step\n",
            "1/1 [==============================] - 4s 4s/step\n",
            "1/1 [==============================] - 3s 3s/step\n",
            "1/1 [==============================] - 3s 3s/step\n",
            "1/1 [==============================] - 3s 3s/step\n",
            "1/1 [==============================] - 3s 3s/step\n",
            "1/1 [==============================] - 3s 3s/step\n",
            "1/1 [==============================] - 2s 2s/step\n",
            "1/1 [==============================] - 2s 2s/step\n",
            "1/1 [==============================] - 2s 2s/step\n",
            "1/1 [==============================] - 2s 2s/step\n",
            "1/1 [==============================] - 2s 2s/step\n",
            "1/1 [==============================] - 2s 2s/step\n",
            "1/1 [==============================] - 2s 2s/step\n",
            "1/1 [==============================] - 2s 2s/step\n",
            "1/1 [==============================] - 2s 2s/step\n",
            "1/1 [==============================] - 2s 2s/step\n",
            "1/1 [==============================] - 2s 2s/step\n",
            "1/1 [==============================] - 2s 2s/step\n",
            "1/1 [==============================] - 2s 2s/step\n",
            "1/1 [==============================] - 2s 2s/step\n",
            "1/1 [==============================] - 2s 2s/step\n",
            "1/1 [==============================] - 2s 2s/step\n",
            "1/1 [==============================] - 2s 2s/step\n",
            "1/1 [==============================] - 2s 2s/step\n",
            "1/1 [==============================] - 2s 2s/step\n",
            "1/1 [==============================] - 2s 2s/step\n",
            "1/1 [==============================] - 2s 2s/step\n",
            "1/1 [==============================] - 2s 2s/step\n",
            "1/1 [==============================] - 2s 2s/step\n",
            "1/1 [==============================] - 2s 2s/step\n",
            "1/1 [==============================] - 2s 2s/step\n",
            "1/1 [==============================] - 2s 2s/step\n",
            "1/1 [==============================] - 2s 2s/step\n",
            "1/1 [==============================] - 2s 2s/step\n",
            "1/1 [==============================] - 2s 2s/step\n",
            "1/1 [==============================] - 2s 2s/step\n",
            "1/1 [==============================] - 2s 2s/step\n",
            "1/1 [==============================] - 2s 2s/step\n",
            "1/1 [==============================] - 2s 2s/step\n",
            "1/1 [==============================] - 2s 2s/step\n",
            "1/1 [==============================] - 2s 2s/step\n",
            "1/1 [==============================] - 2s 2s/step\n",
            "1/1 [==============================] - 2s 2s/step\n",
            "1/1 [==============================] - 2s 2s/step\n",
            "1/1 [==============================] - 2s 2s/step\n",
            "1/1 [==============================] - 2s 2s/step\n",
            "1/1 [==============================] - 2s 2s/step\n",
            "1/1 [==============================] - 2s 2s/step\n",
            "1/1 [==============================] - 2s 2s/step\n",
            "1/1 [==============================] - 3s 3s/step\n",
            "1/1 [==============================] - 4s 4s/step\n",
            "1/1 [==============================] - 2s 2s/step\n",
            "1/1 [==============================] - 2s 2s/step\n",
            "1/1 [==============================] - 2s 2s/step\n",
            "1/1 [==============================] - 2s 2s/step\n",
            "1/1 [==============================] - 2s 2s/step\n",
            "1/1 [==============================] - 2s 2s/step\n",
            "1/1 [==============================] - 2s 2s/step\n",
            "1/1 [==============================] - 2s 2s/step\n",
            "1/1 [==============================] - 2s 2s/step\n",
            "1/1 [==============================] - 2s 2s/step\n",
            "1/1 [==============================] - 2s 2s/step\n",
            "1/1 [==============================] - 2s 2s/step\n",
            "1/1 [==============================] - 2s 2s/step\n",
            "1/1 [==============================] - 2s 2s/step\n",
            "1/1 [==============================] - 2s 2s/step\n",
            "1/1 [==============================] - 2s 2s/step\n",
            "1/1 [==============================] - 2s 2s/step\n",
            "1/1 [==============================] - 2s 2s/step\n",
            "1/1 [==============================] - 2s 2s/step\n",
            "1/1 [==============================] - 2s 2s/step\n",
            "1/1 [==============================] - 2s 2s/step\n",
            "1/1 [==============================] - 2s 2s/step\n",
            "1/1 [==============================] - 2s 2s/step\n",
            "1/1 [==============================] - 2s 2s/step\n",
            "1/1 [==============================] - 2s 2s/step\n",
            "1/1 [==============================] - 2s 2s/step\n",
            "1/1 [==============================] - 2s 2s/step\n",
            "1/1 [==============================] - 2s 2s/step\n",
            "1/1 [==============================] - 2s 2s/step\n",
            "1/1 [==============================] - 2s 2s/step\n",
            "1/1 [==============================] - 2s 2s/step\n",
            "1/1 [==============================] - 2s 2s/step\n",
            "1/1 [==============================] - 2s 2s/step\n",
            "1/1 [==============================] - 2s 2s/step\n",
            "1/1 [==============================] - 2s 2s/step\n",
            "1/1 [==============================] - 2s 2s/step\n",
            "[[6 0 0 0 0 0 0 0 0 0 0 0 0 0 0]\n",
            " [0 1 0 0 4 0 0 0 0 0 0 1 0 0 0]\n",
            " [0 0 6 0 0 0 0 0 0 0 0 0 0 0 0]\n",
            " [0 0 0 4 0 0 0 0 0 0 0 0 0 0 2]\n",
            " [0 0 0 0 6 0 0 0 0 0 0 0 0 0 0]\n",
            " [0 0 0 0 0 3 0 0 0 0 0 0 0 0 3]\n",
            " [0 0 0 0 0 0 6 0 0 0 0 0 0 0 0]\n",
            " [0 0 0 0 0 0 0 6 0 0 0 0 0 0 0]\n",
            " [0 0 0 0 0 0 0 0 6 0 0 0 0 0 0]\n",
            " [0 0 0 0 0 0 0 0 0 5 0 0 0 0 1]\n",
            " [0 0 0 0 0 0 0 1 0 0 4 0 0 0 1]\n",
            " [0 0 0 0 0 0 0 0 0 0 0 6 0 0 0]\n",
            " [0 0 0 0 0 0 0 0 0 0 0 0 6 0 0]\n",
            " [0 0 0 0 0 0 0 0 0 0 0 0 0 6 0]\n",
            " [0 0 0 0 0 0 0 0 1 0 0 0 0 4 1]]\n",
            "              precision    recall  f1-score   support\n",
            "\n",
            "           0       1.00      1.00      1.00         6\n",
            "           1       1.00      0.17      0.29         6\n",
            "           2       1.00      1.00      1.00         6\n",
            "           3       1.00      0.67      0.80         6\n",
            "           4       0.60      1.00      0.75         6\n",
            "           5       1.00      0.50      0.67         6\n",
            "           6       1.00      1.00      1.00         6\n",
            "           7       0.86      1.00      0.92         6\n",
            "           8       0.86      1.00      0.92         6\n",
            "           9       1.00      0.83      0.91         6\n",
            "          10       1.00      0.67      0.80         6\n",
            "          11       0.86      1.00      0.92         6\n",
            "          12       1.00      1.00      1.00         6\n",
            "          13       0.60      1.00      0.75         6\n",
            "          14       0.12      0.17      0.14         6\n",
            "\n",
            "    accuracy                           0.80        90\n",
            "   macro avg       0.86      0.80      0.79        90\n",
            "weighted avg       0.86      0.80      0.79        90\n",
            "\n"
          ]
        }
      ]
    },
    {
      "cell_type": "code",
      "source": [
        "model2 = load_model(\"/content/drive/MyDrive/Projects/GP Project/Models/models_3/mobileV2_Aug.h5\")\n",
        "out_predicitons2 = []\n",
        "for i in os.listdir(dir_path):\n",
        "    my_image = load_img(dir_path + '//' + i , target_size=(IMAGE_HEIGHT_WIDTH, IMAGE_HEIGHT_WIDTH))\n",
        "    my_image = img_to_array(my_image)\n",
        "    my_image = my_image.reshape((1, my_image.shape[0], my_image.shape[1], my_image.shape[2]))\n",
        "    my_image = preprocess_input(my_image)\n",
        "\n",
        "    #make the prediction\n",
        "    prediction = model2.predict(my_image).argmax()\n",
        "    out_predicitons2.append(prediction)\n",
        "\n",
        "    dic = list(train_dataset.class_indices)\n",
        "    #print(dic[prediction])\n",
        "\n",
        "print(confusion_matrix(myarr, out_predicitons2))\n",
        "print(classification_report(myarr, out_predicitons2))\n",
        "# sns.heatmap(confusion_matrix(myarr, out_predicitons2),cmap=sns.cubehelix_palette(as_cmap=True));"
      ],
      "metadata": {
        "colab": {
          "base_uri": "https://localhost:8080/"
        },
        "id": "BYAaIuCfnW4E",
        "outputId": "446974da-2dc7-499e-d60d-529fe0dd7913"
      },
      "execution_count": null,
      "outputs": [
        {
          "output_type": "stream",
          "name": "stdout",
          "text": [
            "1/1 [==============================] - 1s 858ms/step\n",
            "1/1 [==============================] - 0s 97ms/step\n",
            "1/1 [==============================] - 0s 100ms/step\n",
            "1/1 [==============================] - 0s 241ms/step\n",
            "1/1 [==============================] - 0s 179ms/step\n",
            "1/1 [==============================] - 0s 267ms/step\n",
            "1/1 [==============================] - 0s 222ms/step\n",
            "1/1 [==============================] - 0s 312ms/step\n",
            "1/1 [==============================] - 0s 279ms/step\n",
            "1/1 [==============================] - 0s 210ms/step\n",
            "1/1 [==============================] - 0s 181ms/step\n",
            "1/1 [==============================] - 0s 218ms/step\n",
            "1/1 [==============================] - 0s 234ms/step\n",
            "1/1 [==============================] - 0s 181ms/step\n",
            "1/1 [==============================] - 0s 214ms/step\n",
            "1/1 [==============================] - 0s 241ms/step\n",
            "1/1 [==============================] - 0s 230ms/step\n",
            "1/1 [==============================] - 0s 296ms/step\n",
            "1/1 [==============================] - 0s 257ms/step\n",
            "1/1 [==============================] - 0s 237ms/step\n",
            "1/1 [==============================] - 0s 206ms/step\n",
            "1/1 [==============================] - 0s 185ms/step\n",
            "1/1 [==============================] - 0s 204ms/step\n",
            "1/1 [==============================] - 0s 203ms/step\n",
            "1/1 [==============================] - 0s 311ms/step\n",
            "1/1 [==============================] - 0s 312ms/step\n",
            "1/1 [==============================] - 0s 248ms/step\n",
            "1/1 [==============================] - 0s 209ms/step\n",
            "1/1 [==============================] - 0s 104ms/step\n",
            "1/1 [==============================] - 0s 107ms/step\n",
            "1/1 [==============================] - 0s 107ms/step\n",
            "1/1 [==============================] - 0s 96ms/step\n",
            "1/1 [==============================] - 0s 107ms/step\n",
            "1/1 [==============================] - 0s 98ms/step\n",
            "1/1 [==============================] - 0s 97ms/step\n",
            "1/1 [==============================] - 0s 102ms/step\n",
            "1/1 [==============================] - 0s 113ms/step\n",
            "1/1 [==============================] - 0s 96ms/step\n",
            "1/1 [==============================] - 0s 98ms/step\n",
            "1/1 [==============================] - 0s 99ms/step\n",
            "1/1 [==============================] - 0s 103ms/step\n",
            "1/1 [==============================] - 0s 111ms/step\n",
            "1/1 [==============================] - 0s 107ms/step\n",
            "1/1 [==============================] - 0s 114ms/step\n",
            "1/1 [==============================] - 0s 98ms/step\n",
            "1/1 [==============================] - 0s 111ms/step\n",
            "1/1 [==============================] - 0s 98ms/step\n",
            "1/1 [==============================] - 0s 107ms/step\n",
            "1/1 [==============================] - 0s 104ms/step\n",
            "1/1 [==============================] - 0s 99ms/step\n",
            "1/1 [==============================] - 0s 112ms/step\n",
            "1/1 [==============================] - 0s 97ms/step\n",
            "1/1 [==============================] - 0s 109ms/step\n",
            "1/1 [==============================] - 0s 102ms/step\n",
            "1/1 [==============================] - 0s 103ms/step\n",
            "1/1 [==============================] - 0s 112ms/step\n",
            "1/1 [==============================] - 0s 111ms/step\n",
            "1/1 [==============================] - 0s 107ms/step\n",
            "1/1 [==============================] - 0s 103ms/step\n",
            "1/1 [==============================] - 0s 99ms/step\n",
            "1/1 [==============================] - 0s 99ms/step\n",
            "1/1 [==============================] - 0s 107ms/step\n",
            "1/1 [==============================] - 0s 101ms/step\n",
            "1/1 [==============================] - 0s 103ms/step\n",
            "1/1 [==============================] - 0s 111ms/step\n",
            "1/1 [==============================] - 0s 103ms/step\n",
            "1/1 [==============================] - 0s 110ms/step\n",
            "1/1 [==============================] - 0s 106ms/step\n",
            "1/1 [==============================] - 0s 97ms/step\n",
            "1/1 [==============================] - 0s 103ms/step\n",
            "1/1 [==============================] - 0s 96ms/step\n",
            "1/1 [==============================] - 0s 107ms/step\n",
            "1/1 [==============================] - 0s 103ms/step\n",
            "1/1 [==============================] - 0s 98ms/step\n",
            "1/1 [==============================] - 0s 97ms/step\n",
            "1/1 [==============================] - 0s 113ms/step\n",
            "1/1 [==============================] - 0s 97ms/step\n",
            "1/1 [==============================] - 0s 108ms/step\n",
            "1/1 [==============================] - 0s 100ms/step\n",
            "1/1 [==============================] - 0s 98ms/step\n",
            "1/1 [==============================] - 0s 114ms/step\n",
            "1/1 [==============================] - 0s 108ms/step\n",
            "1/1 [==============================] - 0s 105ms/step\n",
            "1/1 [==============================] - 0s 99ms/step\n",
            "1/1 [==============================] - 0s 110ms/step\n",
            "1/1 [==============================] - 0s 104ms/step\n",
            "1/1 [==============================] - 0s 104ms/step\n",
            "1/1 [==============================] - 0s 98ms/step\n",
            "1/1 [==============================] - 0s 109ms/step\n",
            "1/1 [==============================] - 0s 98ms/step\n",
            "[[0 0 0 0 0 0 0 0 0 0 0 0 0 4 2]\n",
            " [0 0 0 1 2 0 0 0 0 0 0 2 0 0 1]\n",
            " [0 0 6 0 0 0 0 0 0 0 0 0 0 0 0]\n",
            " [0 0 0 0 0 0 0 0 0 0 0 0 0 0 6]\n",
            " [0 0 0 0 6 0 0 0 0 0 0 0 0 0 0]\n",
            " [0 0 0 0 0 0 0 0 0 0 0 0 0 1 5]\n",
            " [0 0 0 0 0 0 3 0 0 0 0 0 0 0 3]\n",
            " [0 0 0 0 0 0 0 0 0 0 0 0 0 2 4]\n",
            " [0 0 0 0 2 0 1 0 0 0 0 0 0 0 3]\n",
            " [0 0 0 0 0 0 0 0 0 5 0 0 0 0 1]\n",
            " [0 0 0 0 0 0 0 0 0 0 0 0 0 3 3]\n",
            " [0 0 0 0 0 0 0 0 0 0 0 5 0 0 1]\n",
            " [0 0 0 0 0 0 1 0 0 0 0 0 5 0 0]\n",
            " [0 0 0 0 0 0 0 0 0 0 0 0 0 6 0]\n",
            " [0 0 0 0 0 0 1 0 0 0 0 0 0 4 1]]\n",
            "              precision    recall  f1-score   support\n",
            "\n",
            "           0       0.00      0.00      0.00         6\n",
            "           1       0.00      0.00      0.00         6\n",
            "           2       1.00      1.00      1.00         6\n",
            "           3       0.00      0.00      0.00         6\n",
            "           4       0.60      1.00      0.75         6\n",
            "           5       0.00      0.00      0.00         6\n",
            "           6       0.50      0.50      0.50         6\n",
            "           7       0.00      0.00      0.00         6\n",
            "           8       0.00      0.00      0.00         6\n",
            "           9       1.00      0.83      0.91         6\n",
            "          10       0.00      0.00      0.00         6\n",
            "          11       0.71      0.83      0.77         6\n",
            "          12       1.00      0.83      0.91         6\n",
            "          13       0.30      1.00      0.46         6\n",
            "          14       0.03      0.17      0.06         6\n",
            "\n",
            "    accuracy                           0.41        90\n",
            "   macro avg       0.34      0.41      0.36        90\n",
            "weighted avg       0.34      0.41      0.36        90\n",
            "\n"
          ]
        },
        {
          "output_type": "stream",
          "name": "stderr",
          "text": [
            "/usr/local/lib/python3.8/dist-packages/sklearn/metrics/_classification.py:1318: UndefinedMetricWarning: Precision and F-score are ill-defined and being set to 0.0 in labels with no predicted samples. Use `zero_division` parameter to control this behavior.\n",
            "  _warn_prf(average, modifier, msg_start, len(result))\n",
            "/usr/local/lib/python3.8/dist-packages/sklearn/metrics/_classification.py:1318: UndefinedMetricWarning: Precision and F-score are ill-defined and being set to 0.0 in labels with no predicted samples. Use `zero_division` parameter to control this behavior.\n",
            "  _warn_prf(average, modifier, msg_start, len(result))\n",
            "/usr/local/lib/python3.8/dist-packages/sklearn/metrics/_classification.py:1318: UndefinedMetricWarning: Precision and F-score are ill-defined and being set to 0.0 in labels with no predicted samples. Use `zero_division` parameter to control this behavior.\n",
            "  _warn_prf(average, modifier, msg_start, len(result))\n"
          ]
        }
      ]
    },
    {
      "cell_type": "code",
      "source": [
        "model3 = load_model(\"/content/drive/MyDrive/Projects/GP Project/Models/models_3/res50V2_Aug.h5\")\n",
        "out_predicitons3 = []\n",
        "for i in os.listdir(dir_path):\n",
        "    my_image = load_img(dir_path + '//' + i , target_size=(IMAGE_HEIGHT_WIDTH, IMAGE_HEIGHT_WIDTH))\n",
        "    my_image = img_to_array(my_image)\n",
        "    my_image = my_image.reshape((1, my_image.shape[0], my_image.shape[1], my_image.shape[2]))\n",
        "    my_image = preprocess_input(my_image)\n",
        "\n",
        "    #make the prediction\n",
        "    prediction = model3.predict(my_image).argmax()\n",
        "    out_predicitons3.append(prediction)\n",
        "\n",
        "    dic = list(train_dataset.class_indices)\n",
        "    #print(dic[prediction])\n",
        "\n",
        "print(confusion_matrix(myarr, out_predicitons3))\n",
        "print(classification_report(myarr, out_predicitons3))\n",
        "# sns.heatmap(confusion_matrix(myarr, out_predicitons3),cmap=sns.cubehelix_palette(as_cmap=True));"
      ],
      "metadata": {
        "colab": {
          "base_uri": "https://localhost:8080/"
        },
        "id": "1eBIXVx0oJ-4",
        "outputId": "7ae22d13-fdb4-4fa4-bce0-82dcf97aa1fd"
      },
      "execution_count": null,
      "outputs": [
        {
          "output_type": "stream",
          "name": "stdout",
          "text": [
            "1/1 [==============================] - 1s 1s/step\n",
            "1/1 [==============================] - 0s 382ms/step\n",
            "1/1 [==============================] - 0s 387ms/step\n",
            "1/1 [==============================] - 0s 408ms/step\n",
            "1/1 [==============================] - 0s 397ms/step\n",
            "1/1 [==============================] - 0s 479ms/step\n",
            "1/1 [==============================] - 0s 393ms/step\n",
            "1/1 [==============================] - 0s 380ms/step\n",
            "1/1 [==============================] - 0s 402ms/step\n",
            "1/1 [==============================] - 0s 384ms/step\n",
            "1/1 [==============================] - 0s 375ms/step\n",
            "1/1 [==============================] - 0s 380ms/step\n",
            "1/1 [==============================] - 0s 377ms/step\n",
            "1/1 [==============================] - 0s 385ms/step\n",
            "1/1 [==============================] - 0s 380ms/step\n",
            "1/1 [==============================] - 0s 391ms/step\n",
            "1/1 [==============================] - 0s 381ms/step\n",
            "1/1 [==============================] - 0s 383ms/step\n",
            "1/1 [==============================] - 0s 391ms/step\n",
            "1/1 [==============================] - 0s 381ms/step\n",
            "1/1 [==============================] - 0s 392ms/step\n",
            "1/1 [==============================] - 0s 379ms/step\n",
            "1/1 [==============================] - 0s 374ms/step\n",
            "1/1 [==============================] - 0s 389ms/step\n",
            "1/1 [==============================] - 0s 384ms/step\n",
            "1/1 [==============================] - 0s 378ms/step\n",
            "1/1 [==============================] - 0s 375ms/step\n",
            "1/1 [==============================] - 0s 396ms/step\n",
            "1/1 [==============================] - 0s 377ms/step\n",
            "1/1 [==============================] - 0s 389ms/step\n",
            "1/1 [==============================] - 0s 383ms/step\n",
            "1/1 [==============================] - 0s 394ms/step\n",
            "1/1 [==============================] - 0s 369ms/step\n",
            "1/1 [==============================] - 0s 379ms/step\n",
            "1/1 [==============================] - 0s 367ms/step\n",
            "1/1 [==============================] - 0s 382ms/step\n",
            "1/1 [==============================] - 0s 380ms/step\n",
            "1/1 [==============================] - 0s 360ms/step\n",
            "1/1 [==============================] - 0s 384ms/step\n",
            "1/1 [==============================] - 0s 394ms/step\n",
            "1/1 [==============================] - 0s 385ms/step\n",
            "1/1 [==============================] - 0s 376ms/step\n",
            "1/1 [==============================] - 0s 380ms/step\n",
            "1/1 [==============================] - 0s 381ms/step\n",
            "1/1 [==============================] - 0s 384ms/step\n",
            "1/1 [==============================] - 0s 371ms/step\n",
            "1/1 [==============================] - 0s 373ms/step\n",
            "1/1 [==============================] - 0s 371ms/step\n",
            "1/1 [==============================] - 0s 381ms/step\n",
            "1/1 [==============================] - 0s 384ms/step\n",
            "1/1 [==============================] - 0s 378ms/step\n",
            "1/1 [==============================] - 0s 383ms/step\n",
            "1/1 [==============================] - 0s 379ms/step\n",
            "1/1 [==============================] - 0s 374ms/step\n",
            "1/1 [==============================] - 0s 383ms/step\n",
            "1/1 [==============================] - 0s 371ms/step\n",
            "1/1 [==============================] - 0s 382ms/step\n",
            "1/1 [==============================] - 0s 371ms/step\n",
            "1/1 [==============================] - 0s 382ms/step\n",
            "1/1 [==============================] - 0s 396ms/step\n",
            "1/1 [==============================] - 0s 395ms/step\n",
            "1/1 [==============================] - 0s 378ms/step\n",
            "1/1 [==============================] - 0s 384ms/step\n",
            "1/1 [==============================] - 0s 378ms/step\n",
            "1/1 [==============================] - 0s 366ms/step\n",
            "1/1 [==============================] - 0s 370ms/step\n",
            "1/1 [==============================] - 0s 392ms/step\n",
            "1/1 [==============================] - 0s 368ms/step\n",
            "1/1 [==============================] - 0s 382ms/step\n",
            "1/1 [==============================] - 0s 379ms/step\n",
            "1/1 [==============================] - 0s 378ms/step\n",
            "1/1 [==============================] - 0s 385ms/step\n",
            "1/1 [==============================] - 0s 375ms/step\n",
            "1/1 [==============================] - 0s 385ms/step\n",
            "1/1 [==============================] - 0s 382ms/step\n",
            "1/1 [==============================] - 0s 375ms/step\n",
            "1/1 [==============================] - 0s 412ms/step\n",
            "1/1 [==============================] - 0s 373ms/step\n",
            "1/1 [==============================] - 0s 378ms/step\n",
            "1/1 [==============================] - 0s 378ms/step\n",
            "1/1 [==============================] - 0s 393ms/step\n",
            "1/1 [==============================] - 0s 366ms/step\n",
            "1/1 [==============================] - 0s 383ms/step\n",
            "1/1 [==============================] - 0s 384ms/step\n",
            "1/1 [==============================] - 0s 365ms/step\n",
            "1/1 [==============================] - 0s 384ms/step\n",
            "1/1 [==============================] - 0s 377ms/step\n",
            "1/1 [==============================] - 0s 386ms/step\n",
            "1/1 [==============================] - 0s 367ms/step\n",
            "1/1 [==============================] - 0s 388ms/step\n",
            "[[4 0 0 0 0 0 0 0 0 0 0 0 0 0 2]\n",
            " [3 0 0 0 0 0 0 0 0 0 0 0 0 0 3]\n",
            " [5 0 0 0 0 0 0 0 0 0 0 0 0 0 1]\n",
            " [1 0 0 0 0 0 0 0 0 0 0 0 0 0 5]\n",
            " [4 0 0 0 0 0 0 0 0 0 0 0 0 0 2]\n",
            " [1 0 0 0 0 0 0 0 0 0 0 0 0 0 5]\n",
            " [6 0 0 0 0 0 0 0 0 0 0 0 0 0 0]\n",
            " [3 0 0 0 0 0 0 0 0 0 0 0 0 0 3]\n",
            " [4 0 0 0 0 0 0 0 0 0 0 0 0 0 2]\n",
            " [6 0 0 0 0 0 0 0 0 0 0 0 0 0 0]\n",
            " [5 0 0 0 0 0 0 0 0 0 0 0 0 0 1]\n",
            " [6 0 0 0 0 0 0 0 0 0 0 0 0 0 0]\n",
            " [6 0 0 0 0 0 0 0 0 0 0 0 0 0 0]\n",
            " [6 0 0 0 0 0 0 0 0 0 0 0 0 0 0]\n",
            " [5 0 0 0 0 0 0 0 0 0 0 0 0 0 1]]\n",
            "              precision    recall  f1-score   support\n",
            "\n",
            "           0       0.06      0.67      0.11         6\n",
            "           1       0.00      0.00      0.00         6\n",
            "           2       0.00      0.00      0.00         6\n",
            "           3       0.00      0.00      0.00         6\n",
            "           4       0.00      0.00      0.00         6\n",
            "           5       0.00      0.00      0.00         6\n",
            "           6       0.00      0.00      0.00         6\n",
            "           7       0.00      0.00      0.00         6\n",
            "           8       0.00      0.00      0.00         6\n",
            "           9       0.00      0.00      0.00         6\n",
            "          10       0.00      0.00      0.00         6\n",
            "          11       0.00      0.00      0.00         6\n",
            "          12       0.00      0.00      0.00         6\n",
            "          13       0.00      0.00      0.00         6\n",
            "          14       0.04      0.17      0.06         6\n",
            "\n",
            "    accuracy                           0.06        90\n",
            "   macro avg       0.01      0.06      0.01        90\n",
            "weighted avg       0.01      0.06      0.01        90\n",
            "\n"
          ]
        },
        {
          "output_type": "stream",
          "name": "stderr",
          "text": [
            "/usr/local/lib/python3.8/dist-packages/sklearn/metrics/_classification.py:1318: UndefinedMetricWarning: Precision and F-score are ill-defined and being set to 0.0 in labels with no predicted samples. Use `zero_division` parameter to control this behavior.\n",
            "  _warn_prf(average, modifier, msg_start, len(result))\n",
            "/usr/local/lib/python3.8/dist-packages/sklearn/metrics/_classification.py:1318: UndefinedMetricWarning: Precision and F-score are ill-defined and being set to 0.0 in labels with no predicted samples. Use `zero_division` parameter to control this behavior.\n",
            "  _warn_prf(average, modifier, msg_start, len(result))\n",
            "/usr/local/lib/python3.8/dist-packages/sklearn/metrics/_classification.py:1318: UndefinedMetricWarning: Precision and F-score are ill-defined and being set to 0.0 in labels with no predicted samples. Use `zero_division` parameter to control this behavior.\n",
            "  _warn_prf(average, modifier, msg_start, len(result))\n"
          ]
        }
      ]
    },
    {
      "cell_type": "code",
      "source": [
        "model4 = load_model(\"/content/drive/MyDrive/Projects/GP Project/Models/models_3/res101V2_Aug.h5\")\n",
        "out_predicitons4 = []\n",
        "for i in os.listdir(dir_path):\n",
        "    my_image = load_img(dir_path + '//' + i , target_size=(IMAGE_HEIGHT_WIDTH, IMAGE_HEIGHT_WIDTH))\n",
        "    my_image = img_to_array(my_image)\n",
        "    my_image = my_image.reshape((1, my_image.shape[0], my_image.shape[1], my_image.shape[2]))\n",
        "    my_image = preprocess_input(my_image)\n",
        "\n",
        "    #make the prediction\n",
        "    prediction = model4.predict(my_image).argmax()\n",
        "    out_predicitons4.append(prediction)\n",
        "\n",
        "    dic = list(train_dataset.class_indices)\n",
        "   # print(dic[prediction])\n",
        "\n",
        "print(confusion_matrix(myarr, out_predicitons4))\n",
        "print(classification_report(myarr, out_predicitons4))\n",
        "# sns.heatmap(confusion_matrix(myarr, out_predicitons4),cmap=sns.cubehelix_palette(as_cmap=True));"
      ],
      "metadata": {
        "colab": {
          "base_uri": "https://localhost:8080/"
        },
        "id": "ce7Sb7d9osfT",
        "outputId": "083c8799-e1f7-4d3d-b75e-15eb54aa6795"
      },
      "execution_count": null,
      "outputs": [
        {
          "output_type": "stream",
          "name": "stdout",
          "text": [
            "1/1 [==============================] - 2s 2s/step\n",
            "1/1 [==============================] - 1s 740ms/step\n",
            "1/1 [==============================] - 1s 824ms/step\n",
            "1/1 [==============================] - 1s 758ms/step\n",
            "1/1 [==============================] - 1s 724ms/step\n",
            "1/1 [==============================] - 1s 741ms/step\n",
            "1/1 [==============================] - 1s 713ms/step\n",
            "1/1 [==============================] - 1s 728ms/step\n",
            "1/1 [==============================] - 1s 737ms/step\n",
            "1/1 [==============================] - 1s 735ms/step\n",
            "1/1 [==============================] - 1s 746ms/step\n",
            "1/1 [==============================] - 1s 741ms/step\n",
            "1/1 [==============================] - 1s 734ms/step\n",
            "1/1 [==============================] - 1s 748ms/step\n",
            "1/1 [==============================] - 1s 731ms/step\n",
            "1/1 [==============================] - 1s 712ms/step\n",
            "1/1 [==============================] - 1s 738ms/step\n",
            "1/1 [==============================] - 1s 732ms/step\n",
            "1/1 [==============================] - 1s 735ms/step\n",
            "1/1 [==============================] - 1s 740ms/step\n",
            "1/1 [==============================] - 1s 746ms/step\n",
            "1/1 [==============================] - 1s 755ms/step\n",
            "1/1 [==============================] - 1s 1s/step\n",
            "1/1 [==============================] - 3s 3s/step\n",
            "1/1 [==============================] - 1s 829ms/step\n",
            "1/1 [==============================] - 1s 735ms/step\n",
            "1/1 [==============================] - 1s 727ms/step\n",
            "1/1 [==============================] - 1s 738ms/step\n",
            "1/1 [==============================] - 1s 720ms/step\n",
            "1/1 [==============================] - 1s 1s/step\n",
            "1/1 [==============================] - 1s 789ms/step\n",
            "1/1 [==============================] - 1s 722ms/step\n",
            "1/1 [==============================] - 1s 723ms/step\n",
            "1/1 [==============================] - 1s 741ms/step\n",
            "1/1 [==============================] - 1s 718ms/step\n",
            "1/1 [==============================] - 1s 747ms/step\n",
            "1/1 [==============================] - 1s 742ms/step\n",
            "1/1 [==============================] - 1s 730ms/step\n",
            "1/1 [==============================] - 1s 730ms/step\n",
            "1/1 [==============================] - 1s 750ms/step\n",
            "1/1 [==============================] - 1s 725ms/step\n",
            "1/1 [==============================] - 1s 757ms/step\n",
            "1/1 [==============================] - 1s 726ms/step\n",
            "1/1 [==============================] - 1s 720ms/step\n",
            "1/1 [==============================] - 1s 724ms/step\n",
            "1/1 [==============================] - 1s 734ms/step\n",
            "1/1 [==============================] - 1s 732ms/step\n",
            "1/1 [==============================] - 1s 738ms/step\n",
            "1/1 [==============================] - 1s 762ms/step\n",
            "1/1 [==============================] - 1s 718ms/step\n",
            "1/1 [==============================] - 1s 722ms/step\n",
            "1/1 [==============================] - 1s 723ms/step\n",
            "1/1 [==============================] - 1s 736ms/step\n",
            "1/1 [==============================] - 1s 733ms/step\n",
            "1/1 [==============================] - 1s 741ms/step\n",
            "1/1 [==============================] - 1s 738ms/step\n",
            "1/1 [==============================] - 1s 714ms/step\n",
            "1/1 [==============================] - 1s 734ms/step\n",
            "1/1 [==============================] - 1s 722ms/step\n",
            "1/1 [==============================] - 1s 739ms/step\n",
            "1/1 [==============================] - 1s 739ms/step\n",
            "1/1 [==============================] - 1s 714ms/step\n",
            "1/1 [==============================] - 1s 732ms/step\n",
            "1/1 [==============================] - 1s 726ms/step\n",
            "1/1 [==============================] - 1s 758ms/step\n",
            "1/1 [==============================] - 1s 739ms/step\n",
            "1/1 [==============================] - 1s 731ms/step\n",
            "1/1 [==============================] - 1s 739ms/step\n",
            "1/1 [==============================] - 1s 737ms/step\n",
            "1/1 [==============================] - 1s 751ms/step\n",
            "1/1 [==============================] - 1s 750ms/step\n",
            "1/1 [==============================] - 1s 759ms/step\n",
            "1/1 [==============================] - 1s 737ms/step\n",
            "1/1 [==============================] - 1s 738ms/step\n",
            "1/1 [==============================] - 1s 729ms/step\n",
            "1/1 [==============================] - 1s 736ms/step\n",
            "1/1 [==============================] - 1s 754ms/step\n",
            "1/1 [==============================] - 1s 733ms/step\n",
            "1/1 [==============================] - 1s 738ms/step\n",
            "1/1 [==============================] - 1s 730ms/step\n",
            "1/1 [==============================] - 1s 725ms/step\n",
            "1/1 [==============================] - 1s 723ms/step\n",
            "1/1 [==============================] - 1s 730ms/step\n",
            "1/1 [==============================] - 1s 729ms/step\n",
            "1/1 [==============================] - 1s 724ms/step\n",
            "1/1 [==============================] - 1s 742ms/step\n",
            "1/1 [==============================] - 1s 739ms/step\n",
            "1/1 [==============================] - 1s 732ms/step\n",
            "1/1 [==============================] - 1s 727ms/step\n",
            "1/1 [==============================] - 1s 731ms/step\n",
            "[[0 0 0 6 0 0 0 0 0 0 0 0 0 0 0]\n",
            " [0 0 0 6 0 0 0 0 0 0 0 0 0 0 0]\n",
            " [0 0 0 6 0 0 0 0 0 0 0 0 0 0 0]\n",
            " [0 0 0 6 0 0 0 0 0 0 0 0 0 0 0]\n",
            " [0 0 0 6 0 0 0 0 0 0 0 0 0 0 0]\n",
            " [0 0 0 6 0 0 0 0 0 0 0 0 0 0 0]\n",
            " [0 0 0 6 0 0 0 0 0 0 0 0 0 0 0]\n",
            " [0 0 0 6 0 0 0 0 0 0 0 0 0 0 0]\n",
            " [0 0 0 6 0 0 0 0 0 0 0 0 0 0 0]\n",
            " [0 0 0 6 0 0 0 0 0 0 0 0 0 0 0]\n",
            " [0 0 0 5 0 1 0 0 0 0 0 0 0 0 0]\n",
            " [0 0 0 6 0 0 0 0 0 0 0 0 0 0 0]\n",
            " [0 0 0 6 0 0 0 0 0 0 0 0 0 0 0]\n",
            " [0 0 0 6 0 0 0 0 0 0 0 0 0 0 0]\n",
            " [0 0 0 6 0 0 0 0 0 0 0 0 0 0 0]]\n",
            "              precision    recall  f1-score   support\n",
            "\n",
            "           0       0.00      0.00      0.00         6\n",
            "           1       0.00      0.00      0.00         6\n",
            "           2       0.00      0.00      0.00         6\n",
            "           3       0.07      1.00      0.13         6\n",
            "           4       0.00      0.00      0.00         6\n",
            "           5       0.00      0.00      0.00         6\n",
            "           6       0.00      0.00      0.00         6\n",
            "           7       0.00      0.00      0.00         6\n",
            "           8       0.00      0.00      0.00         6\n",
            "           9       0.00      0.00      0.00         6\n",
            "          10       0.00      0.00      0.00         6\n",
            "          11       0.00      0.00      0.00         6\n",
            "          12       0.00      0.00      0.00         6\n",
            "          13       0.00      0.00      0.00         6\n",
            "          14       0.00      0.00      0.00         6\n",
            "\n",
            "    accuracy                           0.07        90\n",
            "   macro avg       0.00      0.07      0.01        90\n",
            "weighted avg       0.00      0.07      0.01        90\n",
            "\n"
          ]
        },
        {
          "output_type": "stream",
          "name": "stderr",
          "text": [
            "/usr/local/lib/python3.8/dist-packages/sklearn/metrics/_classification.py:1318: UndefinedMetricWarning: Precision and F-score are ill-defined and being set to 0.0 in labels with no predicted samples. Use `zero_division` parameter to control this behavior.\n",
            "  _warn_prf(average, modifier, msg_start, len(result))\n",
            "/usr/local/lib/python3.8/dist-packages/sklearn/metrics/_classification.py:1318: UndefinedMetricWarning: Precision and F-score are ill-defined and being set to 0.0 in labels with no predicted samples. Use `zero_division` parameter to control this behavior.\n",
            "  _warn_prf(average, modifier, msg_start, len(result))\n",
            "/usr/local/lib/python3.8/dist-packages/sklearn/metrics/_classification.py:1318: UndefinedMetricWarning: Precision and F-score are ill-defined and being set to 0.0 in labels with no predicted samples. Use `zero_division` parameter to control this behavior.\n",
            "  _warn_prf(average, modifier, msg_start, len(result))\n"
          ]
        }
      ]
    },
    {
      "cell_type": "code",
      "source": [
        "model5 = load_model(\"/content/drive/MyDrive/Projects/GP Project/Models/models_3/effcientb7_Aug.h5\")\n",
        "out_predicitons5 = []\n",
        "for i in os.listdir(dir_path):\n",
        "    my_image = load_img(dir_path + '//' + i , target_size=(IMAGE_HEIGHT_WIDTH, IMAGE_HEIGHT_WIDTH))\n",
        "    my_image = img_to_array(my_image)\n",
        "    my_image = my_image.reshape((1, my_image.shape[0], my_image.shape[1], my_image.shape[2]))\n",
        "    my_image = preprocess_input(my_image)\n",
        "\n",
        "    #make the prediction\n",
        "    prediction = model5.predict(my_image).argmax()\n",
        "    out_predicitons5.append(prediction)\n",
        "\n",
        "    dic = list(train_dataset.class_indices)\n",
        "   # print(dic[prediction])\n",
        "\n",
        "print(confusion_matrix(myarr, out_predicitons5))\n",
        "print(classification_report(myarr, out_predicitons5))\n",
        "# sns.heatmap(confusion_matrix(myarr, out_predicitons5),cmap=sns.cubehelix_palette(as_cmap=True));"
      ],
      "metadata": {
        "colab": {
          "base_uri": "https://localhost:8080/"
        },
        "id": "4957M9rzpEDN",
        "outputId": "62d8e4ca-cf23-4201-c412-bd090e0a2f43"
      },
      "execution_count": null,
      "outputs": [
        {
          "output_type": "stream",
          "name": "stdout",
          "text": [
            "1/1 [==============================] - 6s 6s/step\n",
            "1/1 [==============================] - 1s 1s/step\n",
            "1/1 [==============================] - 1s 1s/step\n",
            "1/1 [==============================] - 1s 1s/step\n",
            "1/1 [==============================] - 1s 1s/step\n",
            "1/1 [==============================] - 1s 1s/step\n",
            "1/1 [==============================] - 1s 1s/step\n",
            "1/1 [==============================] - 1s 1s/step\n",
            "1/1 [==============================] - 1s 1s/step\n",
            "1/1 [==============================] - 1s 1s/step\n",
            "1/1 [==============================] - 1s 1s/step\n",
            "1/1 [==============================] - 1s 1s/step\n",
            "1/1 [==============================] - 1s 1s/step\n",
            "1/1 [==============================] - 1s 1s/step\n",
            "1/1 [==============================] - 1s 1s/step\n",
            "1/1 [==============================] - 1s 1s/step\n",
            "1/1 [==============================] - 1s 1s/step\n",
            "1/1 [==============================] - 1s 1s/step\n",
            "1/1 [==============================] - 1s 1s/step\n",
            "1/1 [==============================] - 1s 1s/step\n",
            "1/1 [==============================] - 1s 1s/step\n",
            "1/1 [==============================] - 1s 1s/step\n",
            "1/1 [==============================] - 1s 1s/step\n",
            "1/1 [==============================] - 1s 1s/step\n",
            "1/1 [==============================] - 1s 1s/step\n",
            "1/1 [==============================] - 1s 1s/step\n",
            "1/1 [==============================] - 1s 1s/step\n",
            "1/1 [==============================] - 1s 1s/step\n",
            "1/1 [==============================] - 1s 1s/step\n",
            "1/1 [==============================] - 1s 1s/step\n",
            "1/1 [==============================] - 1s 1s/step\n",
            "1/1 [==============================] - 1s 1s/step\n",
            "1/1 [==============================] - 1s 1s/step\n",
            "1/1 [==============================] - 1s 1s/step\n",
            "1/1 [==============================] - 1s 1s/step\n",
            "1/1 [==============================] - 1s 1s/step\n",
            "1/1 [==============================] - 1s 1s/step\n",
            "1/1 [==============================] - 1s 1s/step\n",
            "1/1 [==============================] - 1s 1s/step\n",
            "1/1 [==============================] - 1s 1s/step\n",
            "1/1 [==============================] - 1s 1s/step\n",
            "1/1 [==============================] - 1s 1s/step\n",
            "1/1 [==============================] - 1s 1s/step\n",
            "1/1 [==============================] - 1s 1s/step\n",
            "1/1 [==============================] - 1s 1s/step\n",
            "1/1 [==============================] - 1s 1s/step\n",
            "1/1 [==============================] - 1s 1s/step\n",
            "1/1 [==============================] - 1s 1s/step\n",
            "1/1 [==============================] - 1s 1s/step\n",
            "1/1 [==============================] - 1s 1s/step\n",
            "1/1 [==============================] - 1s 1s/step\n",
            "1/1 [==============================] - 1s 1s/step\n",
            "1/1 [==============================] - 1s 1s/step\n",
            "1/1 [==============================] - 2s 2s/step\n",
            "1/1 [==============================] - 2s 2s/step\n",
            "1/1 [==============================] - 2s 2s/step\n",
            "1/1 [==============================] - 1s 1s/step\n",
            "1/1 [==============================] - 1s 1s/step\n",
            "1/1 [==============================] - 1s 1s/step\n",
            "1/1 [==============================] - 1s 1s/step\n",
            "1/1 [==============================] - 1s 1s/step\n",
            "1/1 [==============================] - 1s 1s/step\n",
            "1/1 [==============================] - 1s 1s/step\n",
            "1/1 [==============================] - 1s 1s/step\n",
            "1/1 [==============================] - 1s 1s/step\n",
            "1/1 [==============================] - 1s 1s/step\n",
            "1/1 [==============================] - 1s 1s/step\n",
            "1/1 [==============================] - 1s 1s/step\n",
            "1/1 [==============================] - 1s 1s/step\n",
            "1/1 [==============================] - 1s 1s/step\n",
            "1/1 [==============================] - 1s 1s/step\n",
            "1/1 [==============================] - 1s 1s/step\n",
            "1/1 [==============================] - 1s 1s/step\n",
            "1/1 [==============================] - 1s 1s/step\n",
            "1/1 [==============================] - 1s 1s/step\n",
            "1/1 [==============================] - 1s 1s/step\n",
            "1/1 [==============================] - 1s 1s/step\n",
            "1/1 [==============================] - 1s 1s/step\n",
            "1/1 [==============================] - 1s 1s/step\n",
            "1/1 [==============================] - 1s 1s/step\n",
            "1/1 [==============================] - 1s 1s/step\n",
            "1/1 [==============================] - 1s 1s/step\n",
            "1/1 [==============================] - 1s 1s/step\n",
            "1/1 [==============================] - 1s 1s/step\n",
            "1/1 [==============================] - 1s 1s/step\n",
            "1/1 [==============================] - 1s 1s/step\n",
            "1/1 [==============================] - 1s 1s/step\n",
            "1/1 [==============================] - 1s 1s/step\n",
            "1/1 [==============================] - 1s 1s/step\n",
            "1/1 [==============================] - 1s 1s/step\n",
            "[[0 0 0 0 0 0 0 3 0 0 0 0 0 3 0]\n",
            " [0 0 0 0 0 0 0 0 0 0 0 6 0 0 0]\n",
            " [0 0 6 0 0 0 0 0 0 0 0 0 0 0 0]\n",
            " [0 0 0 0 0 0 0 4 0 0 0 0 0 2 0]\n",
            " [0 0 0 0 0 0 1 0 0 0 0 4 0 1 0]\n",
            " [0 0 0 0 0 0 0 0 0 0 1 0 0 5 0]\n",
            " [0 0 0 0 0 0 0 2 0 0 0 1 0 3 0]\n",
            " [0 0 0 0 0 0 0 1 0 0 0 0 0 5 0]\n",
            " [0 0 0 0 0 0 2 0 0 0 0 3 0 1 0]\n",
            " [0 0 0 0 0 0 0 6 0 0 0 0 0 0 0]\n",
            " [0 0 1 0 0 0 0 2 0 0 0 0 0 3 0]\n",
            " [0 0 0 0 0 0 0 0 0 0 0 6 0 0 0]\n",
            " [0 0 0 0 0 0 0 0 0 0 0 1 0 5 0]\n",
            " [0 0 0 0 0 1 0 2 0 0 0 0 0 3 0]\n",
            " [0 0 0 0 0 0 0 0 0 0 0 3 0 3 0]]\n",
            "              precision    recall  f1-score   support\n",
            "\n",
            "           0       0.00      0.00      0.00         6\n",
            "           1       0.00      0.00      0.00         6\n",
            "           2       0.86      1.00      0.92         6\n",
            "           3       0.00      0.00      0.00         6\n",
            "           4       0.00      0.00      0.00         6\n",
            "           5       0.00      0.00      0.00         6\n",
            "           6       0.00      0.00      0.00         6\n",
            "           7       0.05      0.17      0.08         6\n",
            "           8       0.00      0.00      0.00         6\n",
            "           9       0.00      0.00      0.00         6\n",
            "          10       0.00      0.00      0.00         6\n",
            "          11       0.25      1.00      0.40         6\n",
            "          12       0.00      0.00      0.00         6\n",
            "          13       0.09      0.50      0.15         6\n",
            "          14       0.00      0.00      0.00         6\n",
            "\n",
            "    accuracy                           0.18        90\n",
            "   macro avg       0.08      0.18      0.10        90\n",
            "weighted avg       0.08      0.18      0.10        90\n",
            "\n"
          ]
        },
        {
          "output_type": "stream",
          "name": "stderr",
          "text": [
            "/usr/local/lib/python3.8/dist-packages/sklearn/metrics/_classification.py:1318: UndefinedMetricWarning: Precision and F-score are ill-defined and being set to 0.0 in labels with no predicted samples. Use `zero_division` parameter to control this behavior.\n",
            "  _warn_prf(average, modifier, msg_start, len(result))\n",
            "/usr/local/lib/python3.8/dist-packages/sklearn/metrics/_classification.py:1318: UndefinedMetricWarning: Precision and F-score are ill-defined and being set to 0.0 in labels with no predicted samples. Use `zero_division` parameter to control this behavior.\n",
            "  _warn_prf(average, modifier, msg_start, len(result))\n",
            "/usr/local/lib/python3.8/dist-packages/sklearn/metrics/_classification.py:1318: UndefinedMetricWarning: Precision and F-score are ill-defined and being set to 0.0 in labels with no predicted samples. Use `zero_division` parameter to control this behavior.\n",
            "  _warn_prf(average, modifier, msg_start, len(result))\n"
          ]
        }
      ]
    },
    {
      "cell_type": "code",
      "source": [
        "model6 = load_model(\"/content/drive/MyDrive/Projects/GP Project/Models/models_3/effcientV2L_Aug.h5\")\n",
        "out_predicitons6 = []\n",
        "for i in os.listdir(dir_path):\n",
        "    my_image = load_img(dir_path + '//' + i , target_size=(IMAGE_HEIGHT_WIDTH, IMAGE_HEIGHT_WIDTH))\n",
        "    my_image = img_to_array(my_image)\n",
        "    my_image = my_image.reshape((1, my_image.shape[0], my_image.shape[1], my_image.shape[2]))\n",
        "    my_image = preprocess_input(my_image)\n",
        "\n",
        "    #make the prediction\n",
        "    prediction = model6.predict(my_image).argmax()\n",
        "    out_predicitons6.append(prediction)\n",
        "\n",
        "    dic = list(train_dataset.class_indices)\n",
        "    #print(dic[prediction])\n",
        "\n",
        "print(confusion_matrix(myarr, out_predicitons6))\n",
        "print(classification_report(myarr, out_predicitons6))\n",
        "# sns.heatmap(confusion_matrix(myarr, out_predicitons6),cmap=sns.cubehelix_palette(as_cmap=True));"
      ],
      "metadata": {
        "colab": {
          "base_uri": "https://localhost:8080/"
        },
        "id": "vsf_ChXOpW-J",
        "outputId": "f6387c64-f41d-4342-8916-943d5ba6d66c"
      },
      "execution_count": null,
      "outputs": [
        {
          "output_type": "stream",
          "name": "stdout",
          "text": [
            "1/1 [==============================] - 7s 7s/step\n",
            "1/1 [==============================] - 1s 1s/step\n",
            "1/1 [==============================] - 2s 2s/step\n",
            "1/1 [==============================] - 1s 1s/step\n",
            "1/1 [==============================] - 1s 1s/step\n",
            "1/1 [==============================] - 1s 1s/step\n",
            "1/1 [==============================] - 1s 1s/step\n",
            "1/1 [==============================] - 2s 2s/step\n",
            "1/1 [==============================] - 1s 1s/step\n",
            "1/1 [==============================] - 1s 1s/step\n",
            "1/1 [==============================] - 2s 2s/step\n",
            "1/1 [==============================] - 2s 2s/step\n",
            "1/1 [==============================] - 2s 2s/step\n",
            "1/1 [==============================] - 1s 1s/step\n",
            "1/1 [==============================] - 1s 1s/step\n",
            "1/1 [==============================] - 2s 2s/step\n",
            "1/1 [==============================] - 2s 2s/step\n",
            "1/1 [==============================] - 1s 1s/step\n",
            "1/1 [==============================] - 1s 1s/step\n",
            "1/1 [==============================] - 1s 1s/step\n",
            "1/1 [==============================] - 2s 2s/step\n",
            "1/1 [==============================] - 2s 2s/step\n",
            "1/1 [==============================] - 1s 1s/step\n",
            "1/1 [==============================] - 1s 1s/step\n",
            "1/1 [==============================] - 2s 2s/step\n",
            "1/1 [==============================] - 1s 1s/step\n",
            "1/1 [==============================] - 1s 1s/step\n",
            "1/1 [==============================] - 2s 2s/step\n",
            "1/1 [==============================] - 3s 3s/step\n",
            "1/1 [==============================] - 2s 2s/step\n",
            "1/1 [==============================] - 1s 1s/step\n",
            "1/1 [==============================] - 2s 2s/step\n",
            "1/1 [==============================] - 2s 2s/step\n",
            "1/1 [==============================] - 2s 2s/step\n",
            "1/1 [==============================] - 1s 1s/step\n",
            "1/1 [==============================] - 2s 2s/step\n",
            "1/1 [==============================] - 1s 1s/step\n",
            "1/1 [==============================] - 2s 2s/step\n",
            "1/1 [==============================] - 2s 2s/step\n",
            "1/1 [==============================] - 3s 3s/step\n",
            "1/1 [==============================] - 3s 3s/step\n",
            "1/1 [==============================] - 1s 1s/step\n",
            "1/1 [==============================] - 1s 1s/step\n",
            "1/1 [==============================] - 2s 2s/step\n",
            "1/1 [==============================] - 1s 1s/step\n",
            "1/1 [==============================] - 2s 2s/step\n",
            "1/1 [==============================] - 2s 2s/step\n",
            "1/1 [==============================] - 2s 2s/step\n",
            "1/1 [==============================] - 1s 1s/step\n",
            "1/1 [==============================] - 2s 2s/step\n",
            "1/1 [==============================] - 1s 1s/step\n",
            "1/1 [==============================] - 2s 2s/step\n",
            "1/1 [==============================] - 1s 1s/step\n",
            "1/1 [==============================] - 1s 1s/step\n",
            "1/1 [==============================] - 1s 1s/step\n",
            "1/1 [==============================] - 1s 1s/step\n",
            "1/1 [==============================] - 1s 1s/step\n",
            "1/1 [==============================] - 2s 2s/step\n",
            "1/1 [==============================] - 2s 2s/step\n",
            "1/1 [==============================] - 2s 2s/step\n",
            "1/1 [==============================] - 2s 2s/step\n",
            "1/1 [==============================] - 2s 2s/step\n",
            "1/1 [==============================] - 2s 2s/step\n",
            "1/1 [==============================] - 1s 1s/step\n",
            "1/1 [==============================] - 2s 2s/step\n",
            "1/1 [==============================] - 1s 1s/step\n",
            "1/1 [==============================] - 1s 1s/step\n",
            "1/1 [==============================] - 1s 1s/step\n",
            "1/1 [==============================] - 2s 2s/step\n",
            "1/1 [==============================] - 1s 1s/step\n",
            "1/1 [==============================] - 2s 2s/step\n",
            "1/1 [==============================] - 2s 2s/step\n",
            "1/1 [==============================] - 2s 2s/step\n",
            "1/1 [==============================] - 2s 2s/step\n",
            "1/1 [==============================] - 1s 1s/step\n",
            "1/1 [==============================] - 2s 2s/step\n",
            "1/1 [==============================] - 2s 2s/step\n",
            "1/1 [==============================] - 2s 2s/step\n",
            "1/1 [==============================] - 1s 1s/step\n",
            "1/1 [==============================] - 1s 1s/step\n",
            "1/1 [==============================] - 2s 2s/step\n",
            "1/1 [==============================] - 2s 2s/step\n",
            "1/1 [==============================] - 1s 1s/step\n",
            "1/1 [==============================] - 1s 1s/step\n",
            "1/1 [==============================] - 2s 2s/step\n",
            "1/1 [==============================] - 2s 2s/step\n",
            "1/1 [==============================] - 2s 2s/step\n",
            "1/1 [==============================] - 1s 1s/step\n",
            "1/1 [==============================] - 1s 1s/step\n",
            "1/1 [==============================] - 1s 1s/step\n",
            "[[0 0 0 0 0 0 0 0 0 5 0 0 1 0 0]\n",
            " [0 0 0 0 0 0 0 1 0 0 0 3 2 0 0]\n",
            " [1 0 0 0 0 0 0 0 0 5 0 0 0 0 0]\n",
            " [0 0 0 0 0 0 0 2 0 2 0 0 2 0 0]\n",
            " [0 0 0 0 0 0 1 0 0 0 0 4 1 0 0]\n",
            " [0 0 0 0 0 0 0 2 0 2 0 1 1 0 0]\n",
            " [0 0 0 0 0 0 0 0 0 0 0 5 1 0 0]\n",
            " [0 0 1 0 0 0 0 3 0 1 0 1 0 0 0]\n",
            " [0 0 0 0 0 0 0 0 0 0 0 4 2 0 0]\n",
            " [0 0 0 0 0 0 0 0 0 5 0 1 0 0 0]\n",
            " [0 0 1 0 0 0 0 1 0 2 0 1 0 0 1]\n",
            " [0 0 0 0 0 0 0 2 1 1 0 2 0 0 0]\n",
            " [0 0 0 0 0 0 0 0 0 4 0 1 1 0 0]\n",
            " [0 1 1 0 0 0 0 3 0 1 0 0 0 0 0]\n",
            " [0 0 0 0 0 0 0 0 1 3 0 1 1 0 0]]\n",
            "              precision    recall  f1-score   support\n",
            "\n",
            "           0       0.00      0.00      0.00         6\n",
            "           1       0.00      0.00      0.00         6\n",
            "           2       0.00      0.00      0.00         6\n",
            "           3       0.00      0.00      0.00         6\n",
            "           4       0.00      0.00      0.00         6\n",
            "           5       0.00      0.00      0.00         6\n",
            "           6       0.00      0.00      0.00         6\n",
            "           7       0.21      0.50      0.30         6\n",
            "           8       0.00      0.00      0.00         6\n",
            "           9       0.16      0.83      0.27         6\n",
            "          10       0.00      0.00      0.00         6\n",
            "          11       0.08      0.33      0.13         6\n",
            "          12       0.08      0.17      0.11         6\n",
            "          13       0.00      0.00      0.00         6\n",
            "          14       0.00      0.00      0.00         6\n",
            "\n",
            "    accuracy                           0.12        90\n",
            "   macro avg       0.04      0.12      0.05        90\n",
            "weighted avg       0.04      0.12      0.05        90\n",
            "\n"
          ]
        },
        {
          "output_type": "stream",
          "name": "stderr",
          "text": [
            "/usr/local/lib/python3.8/dist-packages/sklearn/metrics/_classification.py:1318: UndefinedMetricWarning: Precision and F-score are ill-defined and being set to 0.0 in labels with no predicted samples. Use `zero_division` parameter to control this behavior.\n",
            "  _warn_prf(average, modifier, msg_start, len(result))\n",
            "/usr/local/lib/python3.8/dist-packages/sklearn/metrics/_classification.py:1318: UndefinedMetricWarning: Precision and F-score are ill-defined and being set to 0.0 in labels with no predicted samples. Use `zero_division` parameter to control this behavior.\n",
            "  _warn_prf(average, modifier, msg_start, len(result))\n",
            "/usr/local/lib/python3.8/dist-packages/sklearn/metrics/_classification.py:1318: UndefinedMetricWarning: Precision and F-score are ill-defined and being set to 0.0 in labels with no predicted samples. Use `zero_division` parameter to control this behavior.\n",
            "  _warn_prf(average, modifier, msg_start, len(result))\n"
          ]
        }
      ]
    },
    {
      "cell_type": "code",
      "source": [
        "model7 = load_model(\"/content/drive/MyDrive/Projects/GP Project/Models/models_3/effcientV2M_Aug.h5\")\n",
        "out_predicitons7 = []\n",
        "for i in os.listdir(dir_path):\n",
        "    my_image = load_img(dir_path + '//' + i , target_size=(IMAGE_HEIGHT_WIDTH, IMAGE_HEIGHT_WIDTH))\n",
        "    my_image = img_to_array(my_image)\n",
        "    my_image = my_image.reshape((1, my_image.shape[0], my_image.shape[1], my_image.shape[2]))\n",
        "    my_image = preprocess_input(my_image)\n",
        "\n",
        "    #make the prediction\n",
        "    prediction = model7.predict(my_image).argmax()\n",
        "    out_predicitons7.append(prediction)\n",
        "\n",
        "    dic = list(train_dataset.class_indices)\n",
        "    print(dic[prediction])\n",
        "\n",
        "print(confusion_matrix(myarr, out_predicitons7))\n",
        "print(classification_report(myarr, out_predicitons7))\n",
        "# sns.heatmap(confusion_matrix(myarr, out_predicitons7),cmap=sns.cubehelix_palette(as_cmap=True));"
      ],
      "metadata": {
        "colab": {
          "base_uri": "https://localhost:8080/"
        },
        "id": "4oekoVu5pppw",
        "outputId": "1f3579de-fc65-425e-d5c9-0abaff7f9b52"
      },
      "execution_count": null,
      "outputs": [
        {
          "output_type": "stream",
          "name": "stdout",
          "text": [
            "1/1 [==============================] - 5s 5s/step\n",
            "wrong\n",
            "1/1 [==============================] - 1s 755ms/step\n",
            "wrong\n",
            "1/1 [==============================] - 1s 749ms/step\n",
            "wrong\n",
            "1/1 [==============================] - 1s 738ms/step\n",
            "shirt\n",
            "1/1 [==============================] - 1s 753ms/step\n",
            "yes\n",
            "1/1 [==============================] - 1s 756ms/step\n",
            "shirt\n",
            "1/1 [==============================] - 1s 756ms/step\n",
            "shirt\n",
            "1/1 [==============================] - 1s 757ms/step\n",
            "food\n",
            "1/1 [==============================] - 1s 745ms/step\n",
            "shirt\n",
            "1/1 [==============================] - 1s 745ms/step\n",
            "wrong\n",
            "1/1 [==============================] - 1s 748ms/step\n",
            "food\n",
            "1/1 [==============================] - 1s 760ms/step\n",
            "shirt\n",
            "1/1 [==============================] - 1s 764ms/step\n",
            "full\n",
            "1/1 [==============================] - 1s 749ms/step\n",
            "full\n",
            "1/1 [==============================] - 1s 755ms/step\n",
            "full\n",
            "1/1 [==============================] - 1s 734ms/step\n",
            "full\n",
            "1/1 [==============================] - 1s 767ms/step\n",
            "full\n",
            "1/1 [==============================] - 1s 767ms/step\n",
            "full\n",
            "1/1 [==============================] - 1s 750ms/step\n",
            "wrong\n",
            "1/1 [==============================] - 1s 775ms/step\n",
            "police\n",
            "1/1 [==============================] - 1s 783ms/step\n",
            "wrong\n",
            "1/1 [==============================] - 1s 779ms/step\n",
            "full\n",
            "1/1 [==============================] - 1s 773ms/step\n",
            "hello\n",
            "1/1 [==============================] - 1s 1s/step\n",
            "yes\n",
            "1/1 [==============================] - 1s 1s/step\n",
            "full\n",
            "1/1 [==============================] - 2s 2s/step\n",
            "shirt\n",
            "1/1 [==============================] - 1s 1s/step\n",
            "shirt\n",
            "1/1 [==============================] - 1s 1s/step\n",
            "shirt\n",
            "1/1 [==============================] - 1s 760ms/step\n",
            "full\n",
            "1/1 [==============================] - 1s 744ms/step\n",
            "full\n",
            "1/1 [==============================] - 1s 733ms/step\n",
            "full\n",
            "1/1 [==============================] - 1s 767ms/step\n",
            "wrong\n",
            "1/1 [==============================] - 1s 750ms/step\n",
            "shirt\n",
            "1/1 [==============================] - 1s 759ms/step\n",
            "full\n",
            "1/1 [==============================] - 1s 764ms/step\n",
            "full\n",
            "1/1 [==============================] - 1s 756ms/step\n",
            "full\n",
            "1/1 [==============================] - 1s 755ms/step\n",
            "yes\n",
            "1/1 [==============================] - 1s 760ms/step\n",
            "yes\n",
            "1/1 [==============================] - 1s 745ms/step\n",
            "hello\n",
            "1/1 [==============================] - 1s 737ms/step\n",
            "i\n",
            "1/1 [==============================] - 1s 766ms/step\n",
            "food\n",
            "1/1 [==============================] - 1s 761ms/step\n",
            "have\n",
            "1/1 [==============================] - 1s 769ms/step\n",
            "wrong\n",
            "1/1 [==============================] - 1s 749ms/step\n",
            "full\n",
            "1/1 [==============================] - 1s 743ms/step\n",
            "i\n",
            "1/1 [==============================] - 1s 751ms/step\n",
            "full\n",
            "1/1 [==============================] - 1s 749ms/step\n",
            "shirt\n",
            "1/1 [==============================] - 1s 752ms/step\n",
            "full\n",
            "1/1 [==============================] - 1s 749ms/step\n",
            "food\n",
            "1/1 [==============================] - 1s 747ms/step\n",
            "i\n",
            "1/1 [==============================] - 1s 757ms/step\n",
            "shirt\n",
            "1/1 [==============================] - 1s 742ms/step\n",
            "shirt\n",
            "1/1 [==============================] - 1s 776ms/step\n",
            "drink\n",
            "1/1 [==============================] - 1s 735ms/step\n",
            "shirt\n",
            "1/1 [==============================] - 1s 756ms/step\n",
            "full\n",
            "1/1 [==============================] - 1s 748ms/step\n",
            "shirt\n",
            "1/1 [==============================] - 1s 742ms/step\n",
            "full\n",
            "1/1 [==============================] - 1s 752ms/step\n",
            "drink\n",
            "1/1 [==============================] - 1s 753ms/step\n",
            "full\n",
            "1/1 [==============================] - 1s 766ms/step\n",
            "full\n",
            "1/1 [==============================] - 1s 751ms/step\n",
            "full\n",
            "1/1 [==============================] - 1s 754ms/step\n",
            "shirt\n",
            "1/1 [==============================] - 1s 752ms/step\n",
            "shirt\n",
            "1/1 [==============================] - 1s 737ms/step\n",
            "full\n",
            "1/1 [==============================] - 1s 758ms/step\n",
            "drink\n",
            "1/1 [==============================] - 1s 757ms/step\n",
            "full\n",
            "1/1 [==============================] - 1s 807ms/step\n",
            "wrong\n",
            "1/1 [==============================] - 1s 795ms/step\n",
            "food\n",
            "1/1 [==============================] - 1s 760ms/step\n",
            "water\n",
            "1/1 [==============================] - 1s 765ms/step\n",
            "food\n",
            "1/1 [==============================] - 1s 762ms/step\n",
            "hello\n",
            "1/1 [==============================] - 1s 773ms/step\n",
            "hello\n",
            "1/1 [==============================] - 1s 754ms/step\n",
            "drink\n",
            "1/1 [==============================] - 1s 762ms/step\n",
            "full\n",
            "1/1 [==============================] - 1s 762ms/step\n",
            "full\n",
            "1/1 [==============================] - 1s 758ms/step\n",
            "full\n",
            "1/1 [==============================] - 1s 766ms/step\n",
            "full\n",
            "1/1 [==============================] - 1s 794ms/step\n",
            "full\n",
            "1/1 [==============================] - 1s 764ms/step\n",
            "shirt\n",
            "1/1 [==============================] - 1s 764ms/step\n",
            "full\n",
            "1/1 [==============================] - 1s 767ms/step\n",
            "full\n",
            "1/1 [==============================] - 1s 762ms/step\n",
            "full\n",
            "1/1 [==============================] - 1s 751ms/step\n",
            "full\n",
            "1/1 [==============================] - 1s 790ms/step\n",
            "full\n",
            "1/1 [==============================] - 1s 778ms/step\n",
            "drink\n",
            "1/1 [==============================] - 1s 769ms/step\n",
            "hello\n",
            "1/1 [==============================] - 1s 779ms/step\n",
            "drink\n",
            "1/1 [==============================] - 1s 783ms/step\n",
            "police\n",
            "1/1 [==============================] - 1s 772ms/step\n",
            "shirt\n",
            "1/1 [==============================] - 1s 781ms/step\n",
            "full\n",
            "[[0 0 0 0 0 0 0 0 0 2 0 0 3 1 0]\n",
            " [0 2 0 0 0 0 0 0 0 3 0 0 1 0 0]\n",
            " [0 0 6 0 0 0 0 0 0 0 0 0 0 0 0]\n",
            " [0 0 1 0 1 0 0 1 0 0 0 0 2 1 0]\n",
            " [0 0 3 0 0 0 0 0 0 3 0 0 0 0 0]\n",
            " [0 0 4 0 0 0 0 0 0 1 0 0 1 0 0]\n",
            " [0 1 0 1 1 1 0 0 0 0 0 0 0 2 0]\n",
            " [0 0 3 0 0 1 0 0 0 1 0 0 1 0 0]\n",
            " [1 1 0 0 0 1 0 0 0 3 0 0 0 0 0]\n",
            " [1 0 4 0 0 0 0 0 0 1 0 0 0 0 0]\n",
            " [1 0 3 0 0 0 0 0 0 2 0 0 0 0 0]\n",
            " [0 2 0 0 2 0 0 0 0 0 0 1 1 0 0]\n",
            " [1 0 5 0 0 0 0 0 0 0 0 0 0 0 0]\n",
            " [0 0 5 0 0 0 0 0 0 1 0 0 0 0 0]\n",
            " [2 0 1 0 1 0 0 1 0 1 0 0 0 0 0]]\n",
            "              precision    recall  f1-score   support\n",
            "\n",
            "           0       0.00      0.00      0.00         6\n",
            "           1       0.33      0.33      0.33         6\n",
            "           2       0.17      1.00      0.29         6\n",
            "           3       0.00      0.00      0.00         6\n",
            "           4       0.00      0.00      0.00         6\n",
            "           5       0.00      0.00      0.00         6\n",
            "           6       0.00      0.00      0.00         6\n",
            "           7       0.00      0.00      0.00         6\n",
            "           8       0.00      0.00      0.00         6\n",
            "           9       0.06      0.17      0.08         6\n",
            "          10       0.00      0.00      0.00         6\n",
            "          11       1.00      0.17      0.29         6\n",
            "          12       0.00      0.00      0.00         6\n",
            "          13       0.00      0.00      0.00         6\n",
            "          14       0.00      0.00      0.00         6\n",
            "\n",
            "    accuracy                           0.11        90\n",
            "   macro avg       0.10      0.11      0.07        90\n",
            "weighted avg       0.10      0.11      0.07        90\n",
            "\n"
          ]
        },
        {
          "output_type": "stream",
          "name": "stderr",
          "text": [
            "/usr/local/lib/python3.8/dist-packages/sklearn/metrics/_classification.py:1318: UndefinedMetricWarning: Precision and F-score are ill-defined and being set to 0.0 in labels with no predicted samples. Use `zero_division` parameter to control this behavior.\n",
            "  _warn_prf(average, modifier, msg_start, len(result))\n",
            "/usr/local/lib/python3.8/dist-packages/sklearn/metrics/_classification.py:1318: UndefinedMetricWarning: Precision and F-score are ill-defined and being set to 0.0 in labels with no predicted samples. Use `zero_division` parameter to control this behavior.\n",
            "  _warn_prf(average, modifier, msg_start, len(result))\n",
            "/usr/local/lib/python3.8/dist-packages/sklearn/metrics/_classification.py:1318: UndefinedMetricWarning: Precision and F-score are ill-defined and being set to 0.0 in labels with no predicted samples. Use `zero_division` parameter to control this behavior.\n",
            "  _warn_prf(average, modifier, msg_start, len(result))\n"
          ]
        }
      ]
    },
    {
      "cell_type": "code",
      "source": [],
      "metadata": {
        "id": "3qiK6cqHFOtu"
      },
      "execution_count": null,
      "outputs": []
    },
    {
      "cell_type": "code",
      "source": [
        "import pandas as pd\n",
        "outputss = [out_predicitons0,out_predicitons1,out_predicitons2,out_predicitons3,out_predicitons4,out_predicitons5,\\\n",
        "            out_predicitons6,out_predicitons7]\n",
        "\n",
        "my_titles = [\"VGG16\",\"VGG19\",\"MobileV2\",\"ResNet50V2\",\"ResNet101V2\",\"EffcientNetB7\",\"EffcientNetV2L\",\"EffcientNetV2M\"]\n",
        "\n",
        "for i in range(len(outputss)):\n",
        "  df = pd.DataFrame(confusion_matrix(myarr, outputss[i]))\n",
        "  df = df.rename(columns=lambda x: str(dic[x]))\n",
        "  df = df.rename(index=lambda x: str(dic[x]))\n",
        "  plt.figure()\n",
        "  plt.title(my_titles[i])\n",
        "  sns.heatmap(df,cmap=sns.cubehelix_palette(as_cmap=True))\n",
        "  plt.show()\n"
      ],
      "metadata": {
        "colab": {
          "base_uri": "https://localhost:8080/",
          "height": 1000
        },
        "id": "tx754thsp1eI",
        "outputId": "02bb45d7-5801-4bb3-fb8d-b87515e34fdc"
      },
      "execution_count": null,
      "outputs": [
        {
          "output_type": "display_data",
          "data": {
            "text/plain": [
              "<Figure size 432x288 with 2 Axes>"
            ],
            "image/png": "[encoded data removed]"
          },
          "metadata": {
            "needs_background": "light"
          }
        },
        {
          "output_type": "display_data",
          "data": {
            "text/plain": [
              "<Figure size 432x288 with 2 Axes>"
            ],
            "image/png": "[encoded data removed]"
          },
          "metadata": {
            "needs_background": "light"
          }
        },
        {
          "output_type": "display_data",
          "data": {
            "text/plain": [
              "<Figure size 432x288 with 2 Axes>"
            ],
            "image/png": "[encoded data removed]"
          },
          "metadata": {
            "needs_background": "light"
          }
        },
        {
          "output_type": "display_data",
          "data": {
            "text/plain": [
              "<Figure size 432x288 with 2 Axes>"
            ],
            "image/png": "[encoded data removed]"
          },
          "metadata": {
            "needs_background": "light"
          }
        },
        {
          "output_type": "display_data",
          "data": {
            "text/plain": [
              "<Figure size 432x288 with 2 Axes>"
            ],
            "image/png": "[encoded data removed]"
          },
          "metadata": {
            "needs_background": "light"
          }
        },
        {
          "output_type": "display_data",
          "data": {
            "text/plain": [
              "<Figure size 432x288 with 2 Axes>"
            ],
            "image/png": "[encoded data removed]"
          },
          "metadata": {
            "needs_background": "light"
          }
        },
        {
          "output_type": "display_data",
          "data": {
            "text/plain": [
              "<Figure size 432x288 with 2 Axes>"
            ],
            "image/png": "[encoded data removed]"
          },
          "metadata": {
            "needs_background": "light"
          }
        },
        {
          "output_type": "display_data",
          "data": {
            "text/plain": [
              "<Figure size 432x288 with 2 Axes>"
            ],
            "image/png": "[encoded data removed]"
          },
          "metadata": {
            "needs_background": "light"
          }
        }
      ]
    },
    {
      "cell_type": "code",
      "source": [
        "x = []\n",
        "y = [\"VGG16\",\"VGG19\",\"MobileV2\",\"EffcientNetB7\",\"EffcientNetV2M\",\"EffcientNetV2L\",\"ResNet50\",\"ResNet101V2\"]\n",
        "\n",
        "for i in range(len(outputss)):\n",
        "  # str(my_titles[i])+\" Model Accuracy =\\t\"+str(accuracy_score(myarr, outputss[i]))\n",
        "  #print(str(my_titles[i])+\" Model F1 Score =\\t\"+str(f1_score(myarr, outputss[i], average='macro')))\n",
        "\n",
        "  x.append(f1_score(myarr, outputss[i], average='macro'))\n",
        "\n",
        "x.sort(reverse=True)\n",
        "plt.figure(figsize=(12,6)) \n",
        "plt.title(\"F1 Score Comparison\")\n",
        "plt.bar(y,x,0.4,color = \"green\")\n",
        "plt.xlabel(\"Model Name\")\n",
        "plt.ylabel(\"F1 Score\")"
      ],
      "metadata": {
        "colab": {
          "base_uri": "https://localhost:8080/",
          "height": 421
        },
        "id": "u_r9hCnXGtsn",
        "outputId": "c481190d-1c0d-4efa-ea7c-c3aa8cc9cb15"
      },
      "execution_count": null,
      "outputs": [
        {
          "output_type": "execute_result",
          "data": {
            "text/plain": [
              "Text(0, 0.5, 'F1 Score')"
            ]
          },
          "metadata": {},
          "execution_count": 27
        },
        {
          "output_type": "display_data",
          "data": {
            "text/plain": [
              "<Figure size 864x432 with 1 Axes>"
            ],
            "image/png": "[encoded data removed]"
          },
          "metadata": {
            "needs_background": "light"
          }
        }
      ]
    },
    {
      "cell_type": "code",
      "source": [
        "x = []\n",
        "y = [\"VGG16\",\"VGG19\",\"MobileV2\",\"EffcientNetB7\",\"EffcientNetV2L\",\"EffcientNetV2M\",\"ResNet101\",\"ResNet50\"]\n",
        "\n",
        "for i in range(len(outputss)):\n",
        "  #print(str(my_titles[i])+\" Model Accuracy =\\t\"+str(accuracy_score(myarr, outputss[i])))\n",
        "  x.append(accuracy_score(myarr, outputss[i])*100)\n",
        "\n",
        "x.sort(reverse=True)\n",
        "plt.figure(figsize=(12,6)) \n",
        "plt.title(\"Model Accuracy Comparison\")\n",
        "plt.bar(y,x,0.4,color = \"green\")\n",
        "plt.xlabel(\"Model Name\")\n",
        "plt.ylabel(\"Percentage\")"
      ],
      "metadata": {
        "colab": {
          "base_uri": "https://localhost:8080/",
          "height": 421
        },
        "id": "5dAAWRzLzm8_",
        "outputId": "5d895dda-8674-4ede-860f-ca84f37eecc3"
      },
      "execution_count": null,
      "outputs": [
        {
          "output_type": "execute_result",
          "data": {
            "text/plain": [
              "Text(0, 0.5, 'Percentage')"
            ]
          },
          "metadata": {},
          "execution_count": 26
        },
        {
          "output_type": "display_data",
          "data": {
            "text/plain": [
              "<Figure size 864x432 with 1 Axes>"
            ],
            "image/png": "[encoded data removed]"
          },
          "metadata": {
            "needs_background": "light"
          }
        }
      ]
    },
    {
      "cell_type": "code",
      "source": [
        "x = []\n",
        "y = [\"VGG16\",\"VGG19\",\"MobileV2\"]\n",
        "\n",
        "for i in range(3):\n",
        "  # str(my_titles[i])+\" Model Accuracy =\\t\"+str(accuracy_score(myarr, outputss[i]))\n",
        "  x.append(accuracy_score(myarr, outputss[i])*100)\n",
        "\n",
        "plt.figure(figsize=(4,6)) \n",
        "plt.title(\"Best Three Model Accuracy Comparison\")\n",
        "plt.bar(y,x,0.6,color = \"orange\")\n",
        "plt.xlabel(\"Model Name\")\n",
        "plt.ylabel(\"Percentage\")"
      ],
      "metadata": {
        "colab": {
          "base_uri": "https://localhost:8080/",
          "height": 421
        },
        "id": "pXVbj5QT5lHE",
        "outputId": "a388c242-92b9-4703-96b3-de4797da3310"
      },
      "execution_count": null,
      "outputs": [
        {
          "output_type": "execute_result",
          "data": {
            "text/plain": [
              "Text(0, 0.5, 'Percentage')"
            ]
          },
          "metadata": {},
          "execution_count": 18
        },
        {
          "output_type": "display_data",
          "data": {
            "text/plain": [
              "<Figure size 288x432 with 1 Axes>"
            ],
            "image/png": "[encoded data removed]"
          },
          "metadata": {
            "needs_background": "light"
          }
        }
      ]
    },
    {
      "cell_type": "code",
      "source": [],
      "metadata": {
        "id": "f5-oP9K8Fdxj"
      },
      "execution_count": null,
      "outputs": []
    }
  ]
}