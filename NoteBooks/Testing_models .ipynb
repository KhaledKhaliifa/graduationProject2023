{
  "nbformat": 4,
  "nbformat_minor": 0,
  "metadata": {
    "colab": {
      "provenance": []
    },
    "kernelspec": {
      "name": "python3",
      "display_name": "Python 3"
    },
    "language_info": {
      "name": "python"
    },
    "accelerator": "GPU",
    "gpuClass": "standard"
  },
  "cells": [
    {
      "cell_type": "code",
      "execution_count": null,
      "metadata": {
        "id": "UAtrU_6cRJK8"
      },
      "outputs": [],
      "source": [
        "import cv2\n",
        "import os\n",
        "import tensorflow as tf\n",
        "from PIL import Image\n",
        "import pandas as pd\n",
        "import seaborn as sns\n",
        "import numpy as np\n",
        "import matplotlib.pyplot as plt\n",
        "from keras.models import Model, load_model\n",
        "from operator import itemgetter\n",
        "from sklearn.metrics import classification_report, confusion_matrix, accuracy_score, roc_auc_score, f1_score\n",
        "from tensorflow.keras.preprocessing.image import ImageDataGenerator , img_to_array, load_img\n",
        "from keras.applications.vgg16 import preprocess_input as prevgg16\n",
        "from keras.applications.vgg19 import preprocess_input as prevgg19\n",
        "from keras.applications.resnet_v2 import preprocess_input as preres\n",
        "from keras.applications.mobilenet_v2 import preprocess_input as premob\n",
        "from keras.applications.efficientnet_v2 import preprocess_input as preeffV2\n",
        "from keras.applications.efficientnet import preprocess_input as preeff\n",
        "from keras.applications.inception_v3 import preprocess_input as preinc\n",
        "from google.colab import drive"
      ]
    },
    {
      "cell_type": "code",
      "source": [
        "drive.mount('/content/drive')"
      ],
      "metadata": {
        "colab": {
          "base_uri": "https://localhost:8080/"
        },
        "id": "b_uGrrCvTGhw",
        "outputId": "3787f128-6439-4808-f47c-a4f9ac769f99"
      },
      "execution_count": null,
      "outputs": [
        {
          "output_type": "stream",
          "name": "stdout",
          "text": [
            "Drive already mounted at /content/drive; to attempt to forcibly remount, call drive.mount(\"/content/drive\", force_remount=True).\n"
          ]
        }
      ]
    },
    {
      "cell_type": "markdown",
      "source": [
        "# Testing Old Models "
      ],
      "metadata": {
        "id": "6hMOs3uWJMB5"
      }
    },
    {
      "cell_type": "code",
      "source": [
        "#Loading Training Dataset\n",
        "IMAGE_HEIGHT_WIDTH = 350\n",
        "train = ImageDataGenerator(rescale = 1./255)\n",
        "train_dataset = train.flow_from_directory('/content/drive/MyDrive/Projects/GP Project/Dataset/croppedDataset/trainSet',\n",
        "                                          target_size = (IMAGE_HEIGHT_WIDTH,IMAGE_HEIGHT_WIDTH),\n",
        "                                          batch_size = 32,\n",
        "                                          class_mode = \"categorical\")"
      ],
      "metadata": {
        "colab": {
          "base_uri": "https://localhost:8080/"
        },
        "id": "0xZ0lAWEJp3i",
        "outputId": "9fdf4b3c-46ae-4681-b358-d20777f233f8"
      },
      "execution_count": null,
      "outputs": [
        {
          "output_type": "stream",
          "name": "stdout",
          "text": [
            "Found 140 images belonging to 7 classes.\n"
          ]
        }
      ]
    },
    {
      "cell_type": "code",
      "source": [
        "#making a dictionary with each word in our dataset as a key\n",
        "my_dic = dict(train_dataset.class_indices)\n",
        "\n",
        "#making a list of the dataset words\n",
        "dic = list(train_dataset.class_indices)\n",
        "my_dic"
      ],
      "metadata": {
        "colab": {
          "base_uri": "https://localhost:8080/"
        },
        "id": "5jQy6Gb4KoCG",
        "outputId": "ee96861e-192d-4b96-ad97-4114d5c02fe8"
      },
      "execution_count": null,
      "outputs": [
        {
          "output_type": "execute_result",
          "data": {
            "text/plain": [
              "{'bed': 0,\n",
              " 'father': 1,\n",
              " 'full': 2,\n",
              " 'police': 3,\n",
              " 'shirt': 4,\n",
              " 'water': 5,\n",
              " 'wrong': 6}"
            ]
          },
          "metadata": {},
          "execution_count": 4
        }
      ]
    },
    {
      "cell_type": "code",
      "source": [
        "#loading the testset\n",
        "dir_path = \"/content/drive/MyDrive/Projects/GP Project/Dataset/croppedDataset/newTest\"\n",
        "y_test_old = []\n",
        "\n",
        "#getting ytest to compare it with our predicted output\n",
        "for i in os.listdir(dir_path):\n",
        "    my_image = load_img(dir_path + '/' + i , target_size=(IMAGE_HEIGHT_WIDTH, IMAGE_HEIGHT_WIDTH))\n",
        "    name = i\n",
        "    name = name.split(\"_\")[0]\n",
        "    \n",
        "    y_test_old.append(my_dic.get(name))\n",
        "\n",
        "print(y_test_old)"
      ],
      "metadata": {
        "colab": {
          "base_uri": "https://localhost:8080/"
        },
        "id": "OzcUEtAkLSZ6",
        "outputId": "c3cf2d52-e2a6-4902-d3d9-f306f5c6504f"
      },
      "execution_count": null,
      "outputs": [
        {
          "output_type": "stream",
          "name": "stdout",
          "text": [
            "[3, 3, 3, 2, 2, 4, 4, 6, 6, 5, 5, 5, 6, 4, 5, 2, 3, 4, 4, 3, 2, 2, 6, 5, 6, 1, 1, 1, 1, 1, 0, 0, 0, 0, 0]\n"
          ]
        }
      ]
    },
    {
      "cell_type": "code",
      "source": [
        "#loading Vgg16 Model\n",
        "model = load_model(\"/content/drive/MyDrive/Projects/GP Project/Models/models_1/vgg16_1.h5\")\n",
        "out_predicitons10 = []\n",
        "\n",
        "for i in os.listdir(dir_path):\n",
        "    my_image = load_img(dir_path + '//' + i , target_size=(IMAGE_HEIGHT_WIDTH, IMAGE_HEIGHT_WIDTH))\n",
        "    \n",
        "    #preprocess the image\n",
        "    my_image = img_to_array(my_image)\n",
        "    my_image = my_image.reshape((1, my_image.shape[0], my_image.shape[1], my_image.shape[2]))\n",
        "    my_image = prevgg16(my_image)\n",
        "\n",
        "    #make the prediction\n",
        "    prediction = model.predict(my_image).argmax()\n",
        "    out_predicitons10.append(prediction)\n",
        "\n",
        "print(confusion_matrix(y_test_old, out_predicitons10))\n",
        "print(classification_report(y_test_old, out_predicitons10))"
      ],
      "metadata": {
        "colab": {
          "base_uri": "https://localhost:8080/"
        },
        "id": "EQrm9Xeoa7_M",
        "outputId": "8d20f6d2-cf49-4783-c2a9-1f50b8f17d60"
      },
      "execution_count": null,
      "outputs": [
        {
          "output_type": "stream",
          "name": "stdout",
          "text": [
            "1/1 [==============================] - 4s 4s/step\n",
            "1/1 [==============================] - 0s 35ms/step\n",
            "1/1 [==============================] - 0s 30ms/step\n",
            "1/1 [==============================] - 0s 38ms/step\n",
            "1/1 [==============================] - 0s 35ms/step\n",
            "1/1 [==============================] - 0s 46ms/step\n",
            "1/1 [==============================] - 0s 27ms/step\n",
            "1/1 [==============================] - 0s 94ms/step\n",
            "1/1 [==============================] - 0s 84ms/step\n",
            "1/1 [==============================] - 0s 65ms/step\n",
            "1/1 [==============================] - 0s 55ms/step\n",
            "1/1 [==============================] - 0s 28ms/step\n",
            "1/1 [==============================] - 0s 76ms/step\n",
            "1/1 [==============================] - 0s 80ms/step\n",
            "1/1 [==============================] - 0s 23ms/step\n",
            "1/1 [==============================] - 0s 24ms/step\n",
            "1/1 [==============================] - 0s 28ms/step\n",
            "1/1 [==============================] - 0s 26ms/step\n",
            "1/1 [==============================] - 0s 43ms/step\n",
            "1/1 [==============================] - 0s 23ms/step\n",
            "1/1 [==============================] - 0s 24ms/step\n",
            "1/1 [==============================] - 0s 44ms/step\n",
            "1/1 [==============================] - 0s 24ms/step\n",
            "1/1 [==============================] - 0s 54ms/step\n",
            "1/1 [==============================] - 0s 29ms/step\n",
            "1/1 [==============================] - 0s 27ms/step\n",
            "1/1 [==============================] - 0s 23ms/step\n",
            "1/1 [==============================] - 0s 25ms/step\n",
            "1/1 [==============================] - 0s 67ms/step\n",
            "1/1 [==============================] - 0s 25ms/step\n",
            "1/1 [==============================] - 0s 24ms/step\n",
            "1/1 [==============================] - 0s 25ms/step\n",
            "1/1 [==============================] - 0s 22ms/step\n",
            "1/1 [==============================] - 0s 52ms/step\n",
            "1/1 [==============================] - 0s 41ms/step\n",
            "[[5 0 0 0 0 0 0]\n",
            " [0 4 0 0 0 1 0]\n",
            " [0 0 0 0 5 0 0]\n",
            " [0 0 0 3 2 0 0]\n",
            " [0 0 0 0 5 0 0]\n",
            " [2 0 0 1 0 2 0]\n",
            " [0 0 0 0 0 0 5]]\n",
            "              precision    recall  f1-score   support\n",
            "\n",
            "           0       0.71      1.00      0.83         5\n",
            "           1       1.00      0.80      0.89         5\n",
            "           2       0.00      0.00      0.00         5\n",
            "           3       0.75      0.60      0.67         5\n",
            "           4       0.42      1.00      0.59         5\n",
            "           5       0.67      0.40      0.50         5\n",
            "           6       1.00      1.00      1.00         5\n",
            "\n",
            "    accuracy                           0.69        35\n",
            "   macro avg       0.65      0.69      0.64        35\n",
            "weighted avg       0.65      0.69      0.64        35\n",
            "\n"
          ]
        },
        {
          "output_type": "stream",
          "name": "stderr",
          "text": [
            "/usr/local/lib/python3.8/dist-packages/sklearn/metrics/_classification.py:1318: UndefinedMetricWarning: Precision and F-score are ill-defined and being set to 0.0 in labels with no predicted samples. Use `zero_division` parameter to control this behavior.\n",
            "  _warn_prf(average, modifier, msg_start, len(result))\n",
            "/usr/local/lib/python3.8/dist-packages/sklearn/metrics/_classification.py:1318: UndefinedMetricWarning: Precision and F-score are ill-defined and being set to 0.0 in labels with no predicted samples. Use `zero_division` parameter to control this behavior.\n",
            "  _warn_prf(average, modifier, msg_start, len(result))\n",
            "/usr/local/lib/python3.8/dist-packages/sklearn/metrics/_classification.py:1318: UndefinedMetricWarning: Precision and F-score are ill-defined and being set to 0.0 in labels with no predicted samples. Use `zero_division` parameter to control this behavior.\n",
            "  _warn_prf(average, modifier, msg_start, len(result))\n"
          ]
        }
      ]
    },
    {
      "cell_type": "code",
      "source": [
        "#loading ResNet50V2 Model\n",
        "model = load_model(\"/content/drive/MyDrive/Projects/GP Project/Models/models_1/res50V2_cropped.h5\")\n",
        "out_predicitons11 = []\n",
        "\n",
        "for i in os.listdir(dir_path):\n",
        "    my_image = load_img(dir_path + '//' + i , target_size=(IMAGE_HEIGHT_WIDTH, IMAGE_HEIGHT_WIDTH))\n",
        "\n",
        "    #preprocess the image\n",
        "    my_image = img_to_array(my_image)\n",
        "    my_image = my_image.reshape((1, my_image.shape[0], my_image.shape[1], my_image.shape[2]))\n",
        "    my_image = preres(my_image)\n",
        "\n",
        "    #make the prediction\n",
        "    prediction = model.predict(my_image).argmax()\n",
        "    out_predicitons11.append(prediction)\n",
        "\n",
        "print(confusion_matrix(y_test_old, out_predicitons11))\n",
        "print(classification_report(y_test_old, out_predicitons11))"
      ],
      "metadata": {
        "colab": {
          "base_uri": "https://localhost:8080/"
        },
        "id": "46tdZ6TEa70W",
        "outputId": "7f47ca1d-1922-4b5e-ebb1-0afd3718cfa7"
      },
      "execution_count": null,
      "outputs": [
        {
          "output_type": "stream",
          "name": "stdout",
          "text": [
            "1/1 [==============================] - 3s 3s/step\n",
            "1/1 [==============================] - 0s 31ms/step\n",
            "1/1 [==============================] - 0s 31ms/step\n",
            "1/1 [==============================] - 0s 32ms/step\n",
            "1/1 [==============================] - 0s 32ms/step\n",
            "1/1 [==============================] - 0s 30ms/step\n",
            "1/1 [==============================] - 0s 37ms/step\n",
            "1/1 [==============================] - 0s 34ms/step\n",
            "1/1 [==============================] - 0s 34ms/step\n",
            "1/1 [==============================] - 0s 36ms/step\n",
            "1/1 [==============================] - 0s 30ms/step\n",
            "1/1 [==============================] - 0s 22ms/step\n",
            "1/1 [==============================] - 0s 22ms/step\n",
            "1/1 [==============================] - 0s 22ms/step\n",
            "1/1 [==============================] - 0s 21ms/step\n",
            "1/1 [==============================] - 0s 24ms/step\n",
            "1/1 [==============================] - 0s 22ms/step\n",
            "1/1 [==============================] - 0s 28ms/step\n",
            "1/1 [==============================] - 0s 21ms/step\n",
            "1/1 [==============================] - 0s 21ms/step\n",
            "1/1 [==============================] - 0s 21ms/step\n",
            "1/1 [==============================] - 0s 26ms/step\n",
            "1/1 [==============================] - 0s 21ms/step\n",
            "1/1 [==============================] - 0s 21ms/step\n",
            "1/1 [==============================] - 0s 21ms/step\n",
            "1/1 [==============================] - 0s 21ms/step\n",
            "1/1 [==============================] - 0s 26ms/step\n",
            "1/1 [==============================] - 0s 20ms/step\n",
            "1/1 [==============================] - 0s 21ms/step\n",
            "1/1 [==============================] - 0s 20ms/step\n",
            "1/1 [==============================] - 0s 20ms/step\n",
            "1/1 [==============================] - 0s 21ms/step\n",
            "1/1 [==============================] - 0s 20ms/step\n",
            "1/1 [==============================] - 0s 20ms/step\n",
            "1/1 [==============================] - 0s 21ms/step\n",
            "[[5 0 0 0 0 0 0]\n",
            " [0 2 0 0 0 3 0]\n",
            " [0 0 1 0 4 0 0]\n",
            " [0 0 0 2 3 0 0]\n",
            " [0 0 0 0 4 0 1]\n",
            " [0 0 0 0 0 5 0]\n",
            " [0 0 0 0 0 0 5]]\n",
            "              precision    recall  f1-score   support\n",
            "\n",
            "           0       1.00      1.00      1.00         5\n",
            "           1       1.00      0.40      0.57         5\n",
            "           2       1.00      0.20      0.33         5\n",
            "           3       1.00      0.40      0.57         5\n",
            "           4       0.36      0.80      0.50         5\n",
            "           5       0.62      1.00      0.77         5\n",
            "           6       0.83      1.00      0.91         5\n",
            "\n",
            "    accuracy                           0.69        35\n",
            "   macro avg       0.83      0.69      0.66        35\n",
            "weighted avg       0.83      0.69      0.66        35\n",
            "\n"
          ]
        }
      ]
    },
    {
      "cell_type": "code",
      "source": [
        "#loading MobileV2 model\n",
        "model = load_model(\"/content/drive/MyDrive/Projects/GP Project/Models/models_1/mobileV2_cropped.h5\")\n",
        "out_predicitons12 = []\n",
        "\n",
        "for i in os.listdir(dir_path):\n",
        "    my_image = load_img(dir_path + '//' + i , target_size=(IMAGE_HEIGHT_WIDTH, IMAGE_HEIGHT_WIDTH))\n",
        "    \n",
        "    #preprocess the image\n",
        "    my_image = img_to_array(my_image)\n",
        "    my_image = my_image.reshape((1, my_image.shape[0], my_image.shape[1], my_image.shape[2]))\n",
        "    my_image = premob(my_image)\n",
        "\n",
        "    #make the prediction\n",
        "    prediction = model.predict(my_image).argmax()\n",
        "    out_predicitons12.append(prediction)\n",
        "\n",
        "print(confusion_matrix(y_test_old, out_predicitons12))\n",
        "print(classification_report(y_test_old, out_predicitons12))"
      ],
      "metadata": {
        "colab": {
          "base_uri": "https://localhost:8080/"
        },
        "id": "O7ElBg0Ga7yC",
        "outputId": "8110a8e2-b3ab-45cb-a8a4-0fff8230781f"
      },
      "execution_count": null,
      "outputs": [
        {
          "output_type": "stream",
          "name": "stdout",
          "text": [
            "1/1 [==============================] - 1s 1s/step\n",
            "1/1 [==============================] - 0s 26ms/step\n",
            "1/1 [==============================] - 0s 20ms/step\n",
            "1/1 [==============================] - 0s 19ms/step\n",
            "1/1 [==============================] - 0s 19ms/step\n",
            "1/1 [==============================] - 0s 20ms/step\n",
            "1/1 [==============================] - 0s 18ms/step\n",
            "1/1 [==============================] - 0s 19ms/step\n",
            "1/1 [==============================] - 0s 19ms/step\n",
            "1/1 [==============================] - 0s 20ms/step\n",
            "1/1 [==============================] - 0s 19ms/step\n",
            "1/1 [==============================] - 0s 20ms/step\n",
            "1/1 [==============================] - 0s 47ms/step\n",
            "1/1 [==============================] - 0s 20ms/step\n",
            "1/1 [==============================] - 0s 22ms/step\n",
            "1/1 [==============================] - 0s 20ms/step\n",
            "1/1 [==============================] - 0s 21ms/step\n",
            "1/1 [==============================] - 0s 19ms/step\n",
            "1/1 [==============================] - 0s 26ms/step\n",
            "1/1 [==============================] - 0s 19ms/step\n",
            "1/1 [==============================] - 0s 19ms/step\n",
            "1/1 [==============================] - 0s 19ms/step\n",
            "1/1 [==============================] - 0s 19ms/step\n",
            "1/1 [==============================] - 0s 19ms/step\n",
            "1/1 [==============================] - 0s 19ms/step\n",
            "1/1 [==============================] - 0s 20ms/step\n",
            "1/1 [==============================] - 0s 19ms/step\n",
            "1/1 [==============================] - 0s 20ms/step\n",
            "1/1 [==============================] - 0s 19ms/step\n",
            "1/1 [==============================] - 0s 21ms/step\n",
            "1/1 [==============================] - 0s 19ms/step\n",
            "1/1 [==============================] - 0s 19ms/step\n",
            "1/1 [==============================] - 0s 21ms/step\n",
            "1/1 [==============================] - 0s 20ms/step\n",
            "1/1 [==============================] - 0s 19ms/step\n",
            "[[5 0 0 0 0 0 0]\n",
            " [0 5 0 0 0 0 0]\n",
            " [0 0 5 0 0 0 0]\n",
            " [0 0 1 4 0 0 0]\n",
            " [0 0 4 0 0 0 1]\n",
            " [0 0 0 0 0 5 0]\n",
            " [0 0 0 0 0 0 5]]\n",
            "              precision    recall  f1-score   support\n",
            "\n",
            "           0       1.00      1.00      1.00         5\n",
            "           1       1.00      1.00      1.00         5\n",
            "           2       0.50      1.00      0.67         5\n",
            "           3       1.00      0.80      0.89         5\n",
            "           4       0.00      0.00      0.00         5\n",
            "           5       1.00      1.00      1.00         5\n",
            "           6       0.83      1.00      0.91         5\n",
            "\n",
            "    accuracy                           0.83        35\n",
            "   macro avg       0.76      0.83      0.78        35\n",
            "weighted avg       0.76      0.83      0.78        35\n",
            "\n"
          ]
        },
        {
          "output_type": "stream",
          "name": "stderr",
          "text": [
            "/usr/local/lib/python3.8/dist-packages/sklearn/metrics/_classification.py:1318: UndefinedMetricWarning: Precision and F-score are ill-defined and being set to 0.0 in labels with no predicted samples. Use `zero_division` parameter to control this behavior.\n",
            "  _warn_prf(average, modifier, msg_start, len(result))\n",
            "/usr/local/lib/python3.8/dist-packages/sklearn/metrics/_classification.py:1318: UndefinedMetricWarning: Precision and F-score are ill-defined and being set to 0.0 in labels with no predicted samples. Use `zero_division` parameter to control this behavior.\n",
            "  _warn_prf(average, modifier, msg_start, len(result))\n",
            "/usr/local/lib/python3.8/dist-packages/sklearn/metrics/_classification.py:1318: UndefinedMetricWarning: Precision and F-score are ill-defined and being set to 0.0 in labels with no predicted samples. Use `zero_division` parameter to control this behavior.\n",
            "  _warn_prf(average, modifier, msg_start, len(result))\n"
          ]
        }
      ]
    },
    {
      "cell_type": "code",
      "source": [
        "#loading InceptionV3 model\n",
        "model = load_model(\"/content/drive/MyDrive/Projects/GP Project/Models/models_1/inceptionV3_cropped.h5\")\n",
        "out_predicitons13 = []\n",
        "\n",
        "for i in os.listdir(dir_path):\n",
        "    my_image = load_img(dir_path + '//' + i , target_size=(IMAGE_HEIGHT_WIDTH, IMAGE_HEIGHT_WIDTH))\n",
        "    \n",
        "    #preprocess the image\n",
        "    my_image = img_to_array(my_image)\n",
        "    my_image = my_image.reshape((1, my_image.shape[0], my_image.shape[1], my_image.shape[2]))\n",
        "    my_image = preinc(my_image)\n",
        "\n",
        "    #make the prediction\n",
        "    prediction = model.predict(my_image).argmax()\n",
        "    out_predicitons13.append(prediction)\n",
        "\n",
        "\n",
        "print(confusion_matrix(y_test_old, out_predicitons13))\n",
        "print(classification_report(y_test_old, out_predicitons13))"
      ],
      "metadata": {
        "colab": {
          "base_uri": "https://localhost:8080/"
        },
        "id": "z0bvu4H5a7vo",
        "outputId": "c8a3240a-0b99-42f2-f652-cac9e7975975"
      },
      "execution_count": null,
      "outputs": [
        {
          "output_type": "stream",
          "name": "stdout",
          "text": [
            "1/1 [==============================] - 2s 2s/step\n",
            "1/1 [==============================] - 0s 24ms/step\n",
            "1/1 [==============================] - 0s 24ms/step\n",
            "1/1 [==============================] - 0s 25ms/step\n",
            "1/1 [==============================] - 0s 25ms/step\n",
            "1/1 [==============================] - 0s 27ms/step\n",
            "1/1 [==============================] - 0s 25ms/step\n",
            "1/1 [==============================] - 0s 26ms/step\n",
            "1/1 [==============================] - 0s 25ms/step\n",
            "1/1 [==============================] - 0s 26ms/step\n",
            "1/1 [==============================] - 0s 24ms/step\n",
            "1/1 [==============================] - 0s 25ms/step\n",
            "1/1 [==============================] - 0s 24ms/step\n",
            "1/1 [==============================] - 0s 24ms/step\n",
            "1/1 [==============================] - 0s 25ms/step\n",
            "1/1 [==============================] - 0s 28ms/step\n",
            "1/1 [==============================] - 0s 25ms/step\n",
            "1/1 [==============================] - 0s 27ms/step\n",
            "1/1 [==============================] - 0s 27ms/step\n",
            "1/1 [==============================] - 0s 25ms/step\n",
            "1/1 [==============================] - 0s 24ms/step\n",
            "1/1 [==============================] - 0s 24ms/step\n",
            "1/1 [==============================] - 0s 28ms/step\n",
            "1/1 [==============================] - 0s 24ms/step\n",
            "1/1 [==============================] - 0s 49ms/step\n",
            "1/1 [==============================] - 0s 55ms/step\n",
            "1/1 [==============================] - 0s 45ms/step\n",
            "1/1 [==============================] - 0s 48ms/step\n",
            "1/1 [==============================] - 0s 43ms/step\n",
            "1/1 [==============================] - 0s 55ms/step\n",
            "1/1 [==============================] - 0s 60ms/step\n",
            "1/1 [==============================] - 0s 40ms/step\n",
            "1/1 [==============================] - 0s 43ms/step\n",
            "1/1 [==============================] - 0s 61ms/step\n",
            "1/1 [==============================] - 0s 41ms/step\n",
            "[[5 0 0 0 0 0 0]\n",
            " [0 5 0 0 0 0 0]\n",
            " [0 0 1 0 4 0 0]\n",
            " [1 0 0 3 1 0 0]\n",
            " [0 0 0 0 5 0 0]\n",
            " [2 3 0 0 0 0 0]\n",
            " [0 0 0 0 4 0 1]]\n",
            "              precision    recall  f1-score   support\n",
            "\n",
            "           0       0.62      1.00      0.77         5\n",
            "           1       0.62      1.00      0.77         5\n",
            "           2       1.00      0.20      0.33         5\n",
            "           3       1.00      0.60      0.75         5\n",
            "           4       0.36      1.00      0.53         5\n",
            "           5       0.00      0.00      0.00         5\n",
            "           6       1.00      0.20      0.33         5\n",
            "\n",
            "    accuracy                           0.57        35\n",
            "   macro avg       0.66      0.57      0.50        35\n",
            "weighted avg       0.66      0.57      0.50        35\n",
            "\n"
          ]
        },
        {
          "output_type": "stream",
          "name": "stderr",
          "text": [
            "/usr/local/lib/python3.8/dist-packages/sklearn/metrics/_classification.py:1318: UndefinedMetricWarning: Precision and F-score are ill-defined and being set to 0.0 in labels with no predicted samples. Use `zero_division` parameter to control this behavior.\n",
            "  _warn_prf(average, modifier, msg_start, len(result))\n",
            "/usr/local/lib/python3.8/dist-packages/sklearn/metrics/_classification.py:1318: UndefinedMetricWarning: Precision and F-score are ill-defined and being set to 0.0 in labels with no predicted samples. Use `zero_division` parameter to control this behavior.\n",
            "  _warn_prf(average, modifier, msg_start, len(result))\n",
            "/usr/local/lib/python3.8/dist-packages/sklearn/metrics/_classification.py:1318: UndefinedMetricWarning: Precision and F-score are ill-defined and being set to 0.0 in labels with no predicted samples. Use `zero_division` parameter to control this behavior.\n",
            "  _warn_prf(average, modifier, msg_start, len(result))\n"
          ]
        }
      ]
    },
    {
      "cell_type": "code",
      "source": [
        "#making a list with the predicted outputs\n",
        "outputss = [out_predicitons10,out_predicitons11,out_predicitons12,out_predicitons13]\n",
        "my_titles = [\"VGG16\",\"ResNet50V2\",\"MobileV2\",\"InceptionV3\"]\n",
        "\n",
        "#ploting heatmap \n",
        "for i in range(len(outputss)):\n",
        "  df = pd.DataFrame(confusion_matrix(y_test_old, outputss[i]))\n",
        "  df = df.rename(columns=lambda x: str(dic[x]))\n",
        "  df = df.rename(index=lambda x: str(dic[x]))\n",
        "  plt.figure()\n",
        "  plt.title(my_titles[i])\n",
        "  sns.heatmap(df,cmap=sns.cubehelix_palette(as_cmap=True))\n",
        "  plt.show()"
      ],
      "metadata": {
        "colab": {
          "base_uri": "https://localhost:8080/",
          "height": 1000
        },
        "id": "O_pItgkXbvA8",
        "outputId": "1fd46345-2d9b-4736-9000-d3a6b1b1ba4a"
      },
      "execution_count": null,
      "outputs": [
        {
          "output_type": "display_data",
          "data": {
            "text/plain": [
              "<Figure size 432x288 with 2 Axes>"
            ],
            "image/png": "[encoded data removed]"
          },
          "metadata": {
            "needs_background": "light"
          }
        },
        {
          "output_type": "display_data",
          "data": {
            "text/plain": [
              "<Figure size 432x288 with 2 Axes>"
            ],
            "image/png": "[encoded data removed]"
          },
          "metadata": {
            "needs_background": "light"
          }
        },
        {
          "output_type": "display_data",
          "data": {
            "text/plain": [
              "<Figure size 432x288 with 2 Axes>"
            ],
            "image/png": "[encoded data removed]"
          },
          "metadata": {
            "needs_background": "light"
          }
        },
        {
          "output_type": "display_data",
          "data": {
            "text/plain": [
              "<Figure size 432x288 with 2 Axes>"
            ],
            "image/png": "[encoded data removed]"
          },
          "metadata": {
            "needs_background": "light"
          }
        }
      ]
    },
    {
      "cell_type": "code",
      "source": [
        "# function to add value labels\n",
        "def addlabels(x,y):\n",
        "    for i in range(len(x)):\n",
        "        plt.text(i, y[i]/2, round(y[i],3), ha = 'center')"
      ],
      "metadata": {
        "id": "PP4Yw17S5gdY"
      },
      "execution_count": null,
      "outputs": []
    },
    {
      "cell_type": "code",
      "source": [
        "def index_to_model(i):\n",
        "  x = \"\"\n",
        "  if i==0:\n",
        "    x = \"VGG16\"\n",
        "  elif i == 1:\n",
        "    x = \"ResNet50V2\"\n",
        "  elif i == 2:\n",
        "    x = \"MobileNetV2\"\n",
        "  else: \n",
        "    x = \"InceptionV3\"\n",
        "  return x"
      ],
      "metadata": {
        "id": "T64WLyuB5id6"
      },
      "execution_count": null,
      "outputs": []
    },
    {
      "cell_type": "code",
      "source": [
        "#plotting the f1-score comparison\n",
        "x = []\n",
        "y = [\"MobileV2\",\"ResNet50V2\",\"VGG16\",\"InceptionV3\"]\n",
        "\n",
        "\n",
        "for i in range(len(outputss)):\n",
        "  x.append(f1_score(y_test_old, outputss[i], average='macro'))\n",
        "\n",
        "x.sort(reverse=True)\n",
        "plt.figure(figsize=(5,6)) \n",
        "plt.title(\"F1 Score Comparison\")\n",
        "plt.bar(y,x,0.4,color = \"Orange\")\n",
        "addlabels(y,x)\n",
        "plt.xlabel(\"Model Name\")\n",
        "plt.ylabel(\"F1 Score\")"
      ],
      "metadata": {
        "colab": {
          "base_uri": "https://localhost:8080/",
          "height": 422
        },
        "id": "qIGrznN7cVDt",
        "outputId": "ca4001eb-b3ef-4cec-c8b4-7e7fccfd5336"
      },
      "execution_count": null,
      "outputs": [
        {
          "output_type": "execute_result",
          "data": {
            "text/plain": [
              "Text(0, 0.5, 'F1 Score')"
            ]
          },
          "metadata": {},
          "execution_count": 13
        },
        {
          "output_type": "display_data",
          "data": {
            "text/plain": [
              "<Figure size 360x432 with 1 Axes>"
            ],
            "image/png": "[encoded data removed]"
          },
          "metadata": {
            "needs_background": "light"
          }
        }
      ]
    },
    {
      "cell_type": "code",
      "source": [
        "#plotting accuracy score comparison\n",
        "x = []\n",
        "y = [\"MobileV2\",\"ResNet50V2\",\"VGG16\",\"InceptionV3\"]\n",
        "\n",
        "for i in range(len(outputss)):\n",
        "  x.append(accuracy_score(y_test_old, outputss[i])*100)\n",
        "\n",
        "x.sort(reverse=True)\n",
        "plt.figure(figsize=(5,6)) \n",
        "plt.title(\"Model Accuracy Comparison\")\n",
        "plt.bar(y,x,0.4,color = \"Orange\")\n",
        "addlabels(y,x)\n",
        "plt.xlabel(\"Model Name\")\n",
        "plt.ylabel(\"Accuracy\")"
      ],
      "metadata": {
        "colab": {
          "base_uri": "https://localhost:8080/",
          "height": 422
        },
        "id": "KtuTSdLgcpQu",
        "outputId": "3e62406a-169a-4500-e0f8-bb70ed113ca1"
      },
      "execution_count": null,
      "outputs": [
        {
          "output_type": "execute_result",
          "data": {
            "text/plain": [
              "Text(0, 0.5, 'Accuracy')"
            ]
          },
          "metadata": {},
          "execution_count": 14
        },
        {
          "output_type": "display_data",
          "data": {
            "text/plain": [
              "<Figure size 360x432 with 1 Axes>"
            ],
            "image/png": "[encoded data removed]"
          },
          "metadata": {
            "needs_background": "light"
          }
        }
      ]
    },
    {
      "cell_type": "code",
      "source": [
        "from sklearn.metrics import precision_recall_fscore_support\n",
        "pre =[]\n",
        "rec = []\n",
        "\n",
        "for i in range(len(outputss)):\n",
        "  precision, recall, f1, _ = precision_recall_fscore_support(y_test_old, outputss[i], average='weighted')\n",
        "  pre.append((index_to_model(i),precision))\n",
        "  rec.append((index_to_model(i),recall))\n",
        "\n",
        "#for debugging\n",
        "# print(pre)\n",
        "# print(rec)"
      ],
      "metadata": {
        "colab": {
          "base_uri": "https://localhost:8080/"
        },
        "id": "fcjPzy2zkTzA",
        "outputId": "4a89405b-1dd7-40f3-a32a-05bd8a1b0337"
      },
      "execution_count": null,
      "outputs": [
        {
          "output_type": "stream",
          "name": "stderr",
          "text": [
            "/usr/local/lib/python3.8/dist-packages/sklearn/metrics/_classification.py:1318: UndefinedMetricWarning: Precision and F-score are ill-defined and being set to 0.0 in labels with no predicted samples. Use `zero_division` parameter to control this behavior.\n",
            "  _warn_prf(average, modifier, msg_start, len(result))\n",
            "/usr/local/lib/python3.8/dist-packages/sklearn/metrics/_classification.py:1318: UndefinedMetricWarning: Precision and F-score are ill-defined and being set to 0.0 in labels with no predicted samples. Use `zero_division` parameter to control this behavior.\n",
            "  _warn_prf(average, modifier, msg_start, len(result))\n",
            "/usr/local/lib/python3.8/dist-packages/sklearn/metrics/_classification.py:1318: UndefinedMetricWarning: Precision and F-score are ill-defined and being set to 0.0 in labels with no predicted samples. Use `zero_division` parameter to control this behavior.\n",
            "  _warn_prf(average, modifier, msg_start, len(result))\n"
          ]
        }
      ]
    },
    {
      "cell_type": "code",
      "source": [
        "#sort ba sort \n",
        "def sort_tuples(tuples):\n",
        "    # Sort the tuples by the second item in descending order using the itemgetter function\n",
        "    return sorted(tuples, key=itemgetter(1),reverse=True)\n",
        " "
      ],
      "metadata": {
        "id": "NKc0dkpysS3s"
      },
      "execution_count": null,
      "outputs": []
    },
    {
      "cell_type": "code",
      "source": [
        "# pre.sort(reverse=True)\n",
        "pre = sort_tuples(pre)\n",
        "labels, values = zip(*pre)\n",
        "plt.figure(figsize=(5,6)) \n",
        "plt.title(\"Model Precision Comparison\")\n",
        "plt.bar(labels,values,0.4,color = \"orange\")\n",
        "addlabels(labels,values)\n",
        "plt.xlabel(\"Model Name\")\n",
        "plt.ylabel(\"Precision\")"
      ],
      "metadata": {
        "colab": {
          "base_uri": "https://localhost:8080/",
          "height": 422
        },
        "id": "ekyeLi24mU5c",
        "outputId": "ca61dbc1-7274-47e7-d6bf-cd5142de1c2b"
      },
      "execution_count": null,
      "outputs": [
        {
          "output_type": "execute_result",
          "data": {
            "text/plain": [
              "Text(0, 0.5, 'Precision')"
            ]
          },
          "metadata": {},
          "execution_count": 17
        },
        {
          "output_type": "display_data",
          "data": {
            "text/plain": [
              "<Figure size 360x432 with 1 Axes>"
            ],
            "image/png": "[encoded data removed]"
          },
          "metadata": {
            "needs_background": "light"
          }
        }
      ]
    },
    {
      "cell_type": "code",
      "source": [
        "# pre.sort(reverse=True)\n",
        "rec = sort_tuples(rec)\n",
        "# print(rec)\n",
        "labels, values = zip(*rec)\n",
        "plt.figure(figsize=(5,6)) \n",
        "plt.title(\"Model Recall Comparison\")\n",
        "plt.bar(labels,values,0.4,color = \"orange\")\n",
        "addlabels(labels,values)\n",
        "plt.xlabel(\"Model Name\")\n",
        "plt.ylabel(\"Recall\")"
      ],
      "metadata": {
        "colab": {
          "base_uri": "https://localhost:8080/",
          "height": 422
        },
        "id": "4odwiMymmwjZ",
        "outputId": "701f3a3f-255c-48d6-d40e-3fcb157f9dcb"
      },
      "execution_count": null,
      "outputs": [
        {
          "output_type": "execute_result",
          "data": {
            "text/plain": [
              "Text(0, 0.5, 'Recall')"
            ]
          },
          "metadata": {},
          "execution_count": 18
        },
        {
          "output_type": "display_data",
          "data": {
            "text/plain": [
              "<Figure size 360x432 with 1 Axes>"
            ],
            "image/png": "[encoded data removed]"
          },
          "metadata": {
            "needs_background": "light"
          }
        }
      ]
    },
    {
      "cell_type": "code",
      "source": [],
      "metadata": {
        "id": "S48do1zrmwc8"
      },
      "execution_count": null,
      "outputs": []
    },
    {
      "cell_type": "markdown",
      "source": [
        "# Testing Final Models\n",
        " "
      ],
      "metadata": {
        "id": "XpLXvWKUJgUe"
      }
    },
    {
      "cell_type": "code",
      "source": [
        "#Loading Training Dataset\n",
        "IMAGE_HEIGHT_WIDTH = 350\n",
        "train = ImageDataGenerator(rescale = 1./255)\n",
        "train_dataset = train.flow_from_directory('/content/drive/MyDrive/Projects/GP Project/Dataset/croppedDatasetV2/trainSet',\n",
        "                                          target_size = (IMAGE_HEIGHT_WIDTH,IMAGE_HEIGHT_WIDTH),\n",
        "                                          batch_size = 32,\n",
        "                                          class_mode = \"categorical\")"
      ],
      "metadata": {
        "colab": {
          "base_uri": "https://localhost:8080/"
        },
        "id": "yaN8_wjfbXxx",
        "outputId": "ff0a0c60-1246-48ff-ec1b-7b42cec30a37"
      },
      "execution_count": null,
      "outputs": [
        {
          "output_type": "stream",
          "name": "stdout",
          "text": [
            "Found 900 images belonging to 15 classes.\n"
          ]
        }
      ]
    },
    {
      "cell_type": "code",
      "source": [
        "#making a dictionary with each word in our dataset as a key\n",
        "my_dic = dict(train_dataset.class_indices)\n",
        "\n",
        "#making a list of the dataset words\n",
        "dic = list(train_dataset.class_indices)\n",
        "my_dic"
      ],
      "metadata": {
        "colab": {
          "base_uri": "https://localhost:8080/"
        },
        "id": "mu7lWOgwbXt-",
        "outputId": "7ff81d9a-1e8a-417d-b9a6-5601e90b60f7"
      },
      "execution_count": null,
      "outputs": [
        {
          "output_type": "execute_result",
          "data": {
            "text/plain": [
              "{'drink': 0,\n",
              " 'food': 1,\n",
              " 'full': 2,\n",
              " 'have': 3,\n",
              " 'hello': 4,\n",
              " 'i': 5,\n",
              " 'i love you': 6,\n",
              " 'police': 7,\n",
              " 'prefer': 8,\n",
              " 'shirt': 9,\n",
              " 'telephone': 10,\n",
              " 'water': 11,\n",
              " 'wrong': 12,\n",
              " 'yes': 13,\n",
              " 'you': 14}"
            ]
          },
          "metadata": {},
          "execution_count": 20
        }
      ]
    },
    {
      "cell_type": "code",
      "source": [
        "#loading the testset\n",
        "dir_path = \"/content/drive/MyDrive/Projects/GP Project/Dataset/croppedDatasetV2/new_testSet\"\n",
        "y_test = []\n",
        "\n",
        "#getting ytest to compare it with our predicted output\n",
        "for i in os.listdir(dir_path):\n",
        "    my_image = load_img(dir_path + '//' + i , target_size=(IMAGE_HEIGHT_WIDTH, IMAGE_HEIGHT_WIDTH))\n",
        "    name = i\n",
        "    name = name.split(\"_\")[0]\n",
        "    \n",
        "    y_test.append(my_dic.get(name))\n",
        "\n",
        "print(y_test)"
      ],
      "metadata": {
        "colab": {
          "base_uri": "https://localhost:8080/"
        },
        "id": "PTbD_i-gku-p",
        "outputId": "e406a5ae-768d-4023-bb4b-d6f9f5575135"
      },
      "execution_count": null,
      "outputs": [
        {
          "output_type": "stream",
          "name": "stdout",
          "text": [
            "[0, 0, 0, 0, 0, 0, 1, 1, 1, 1, 1, 1, 2, 2, 2, 2, 2, 2, 3, 3, 3, 3, 3, 3, 4, 4, 4, 4, 4, 4, 5, 5, 5, 5, 5, 5, 6, 6, 6, 6, 6, 6, 7, 7, 7, 7, 7, 7, 8, 8, 8, 8, 8, 8, 9, 9, 9, 9, 9, 9, 10, 10, 10, 10, 10, 10, 11, 11, 11, 11, 11, 11, 12, 12, 12, 12, 12, 12, 13, 13, 13, 13, 13, 13, 14, 14, 14, 14, 14, 14]\n"
          ]
        }
      ]
    },
    {
      "cell_type": "code",
      "source": [
        "#loading VGG16 model\n",
        "model = load_model(\"/content/drive/MyDrive/Projects/GP Project/Models/models_2/VGG16_Augmented1.h5\")\n",
        "out_predicitons0 = []\n",
        "\n",
        "for i in os.listdir(dir_path):\n",
        "    my_image = load_img(dir_path + '//' + i , target_size=(IMAGE_HEIGHT_WIDTH, IMAGE_HEIGHT_WIDTH))\n",
        "    \n",
        "    #preprocess the image\n",
        "    my_image = img_to_array(my_image)\n",
        "    my_image = my_image.reshape((1, my_image.shape[0], my_image.shape[1], my_image.shape[2]))\n",
        "    my_image = prevgg16(my_image)\n",
        "\n",
        "    #make the prediction\n",
        "    prediction = model.predict(my_image).argmax()\n",
        "    out_predicitons0.append(prediction)\n",
        "\n",
        "print(confusion_matrix(y_test, out_predicitons0))\n",
        "print(classification_report(y_test, out_predicitons0))"
      ],
      "metadata": {
        "colab": {
          "base_uri": "https://localhost:8080/"
        },
        "id": "tfJ_Maz0CJv9",
        "outputId": "1fba7ff7-5192-4861-8949-ec49c956ec03"
      },
      "execution_count": null,
      "outputs": [
        {
          "output_type": "stream",
          "name": "stdout",
          "text": [
            "1/1 [==============================] - 0s 117ms/step\n",
            "1/1 [==============================] - 0s 15ms/step\n",
            "1/1 [==============================] - 0s 15ms/step\n",
            "1/1 [==============================] - 0s 17ms/step\n",
            "1/1 [==============================] - 0s 17ms/step\n",
            "1/1 [==============================] - 0s 18ms/step\n",
            "1/1 [==============================] - 0s 18ms/step\n",
            "1/1 [==============================] - 0s 16ms/step\n",
            "1/1 [==============================] - 0s 19ms/step\n",
            "1/1 [==============================] - 0s 16ms/step\n",
            "1/1 [==============================] - 0s 18ms/step\n",
            "1/1 [==============================] - 0s 16ms/step\n",
            "1/1 [==============================] - 0s 16ms/step\n",
            "1/1 [==============================] - 0s 17ms/step\n",
            "1/1 [==============================] - 0s 15ms/step\n",
            "1/1 [==============================] - 0s 21ms/step\n",
            "1/1 [==============================] - 0s 18ms/step\n",
            "1/1 [==============================] - 0s 16ms/step\n",
            "1/1 [==============================] - 0s 22ms/step\n",
            "1/1 [==============================] - 0s 15ms/step\n",
            "1/1 [==============================] - 0s 17ms/step\n",
            "1/1 [==============================] - 0s 16ms/step\n",
            "1/1 [==============================] - 0s 15ms/step\n",
            "1/1 [==============================] - 0s 16ms/step\n",
            "1/1 [==============================] - 0s 15ms/step\n",
            "1/1 [==============================] - 0s 17ms/step\n",
            "1/1 [==============================] - 0s 17ms/step\n",
            "1/1 [==============================] - 0s 30ms/step\n",
            "1/1 [==============================] - 0s 27ms/step\n",
            "1/1 [==============================] - 0s 46ms/step\n",
            "1/1 [==============================] - 0s 32ms/step\n",
            "1/1 [==============================] - 0s 28ms/step\n",
            "1/1 [==============================] - 0s 24ms/step\n",
            "1/1 [==============================] - 0s 15ms/step\n",
            "1/1 [==============================] - 0s 21ms/step\n",
            "1/1 [==============================] - 0s 15ms/step\n",
            "1/1 [==============================] - 0s 18ms/step\n",
            "1/1 [==============================] - 0s 15ms/step\n",
            "1/1 [==============================] - 0s 15ms/step\n",
            "1/1 [==============================] - 0s 18ms/step\n",
            "1/1 [==============================] - 0s 15ms/step\n",
            "1/1 [==============================] - 0s 16ms/step\n",
            "1/1 [==============================] - 0s 16ms/step\n",
            "1/1 [==============================] - 0s 16ms/step\n",
            "1/1 [==============================] - 0s 24ms/step\n",
            "1/1 [==============================] - 0s 15ms/step\n",
            "1/1 [==============================] - 0s 16ms/step\n",
            "1/1 [==============================] - 0s 15ms/step\n",
            "1/1 [==============================] - 0s 19ms/step\n",
            "1/1 [==============================] - 0s 15ms/step\n",
            "1/1 [==============================] - 0s 16ms/step\n",
            "1/1 [==============================] - 0s 17ms/step\n",
            "1/1 [==============================] - 0s 15ms/step\n",
            "1/1 [==============================] - 0s 15ms/step\n",
            "1/1 [==============================] - 0s 15ms/step\n",
            "1/1 [==============================] - 0s 16ms/step\n",
            "1/1 [==============================] - 0s 16ms/step\n",
            "1/1 [==============================] - 0s 15ms/step\n",
            "1/1 [==============================] - 0s 20ms/step\n",
            "1/1 [==============================] - 0s 16ms/step\n",
            "1/1 [==============================] - 0s 15ms/step\n",
            "1/1 [==============================] - 0s 15ms/step\n",
            "1/1 [==============================] - 0s 15ms/step\n",
            "1/1 [==============================] - 0s 16ms/step\n",
            "1/1 [==============================] - 0s 17ms/step\n",
            "1/1 [==============================] - 0s 15ms/step\n",
            "1/1 [==============================] - 0s 17ms/step\n",
            "1/1 [==============================] - 0s 17ms/step\n",
            "1/1 [==============================] - 0s 16ms/step\n",
            "1/1 [==============================] - 0s 17ms/step\n",
            "1/1 [==============================] - 0s 16ms/step\n",
            "1/1 [==============================] - 0s 16ms/step\n",
            "1/1 [==============================] - 0s 18ms/step\n",
            "1/1 [==============================] - 0s 22ms/step\n",
            "1/1 [==============================] - 0s 15ms/step\n",
            "1/1 [==============================] - 0s 16ms/step\n",
            "1/1 [==============================] - 0s 19ms/step\n",
            "1/1 [==============================] - 0s 15ms/step\n",
            "1/1 [==============================] - 0s 16ms/step\n",
            "1/1 [==============================] - 0s 16ms/step\n",
            "1/1 [==============================] - 0s 18ms/step\n",
            "1/1 [==============================] - 0s 18ms/step\n",
            "1/1 [==============================] - 0s 16ms/step\n",
            "1/1 [==============================] - 0s 19ms/step\n",
            "1/1 [==============================] - 0s 17ms/step\n",
            "1/1 [==============================] - 0s 17ms/step\n",
            "1/1 [==============================] - 0s 18ms/step\n",
            "1/1 [==============================] - 0s 18ms/step\n",
            "1/1 [==============================] - 0s 19ms/step\n",
            "1/1 [==============================] - 0s 16ms/step\n",
            "[[5 0 0 0 0 0 0 1 0 0 0 0 0 0 0]\n",
            " [0 6 0 0 0 0 0 0 0 0 0 0 0 0 0]\n",
            " [0 0 6 0 0 0 0 0 0 0 0 0 0 0 0]\n",
            " [0 0 0 6 0 0 0 0 0 0 0 0 0 0 0]\n",
            " [0 0 0 0 5 0 0 0 1 0 0 0 0 0 0]\n",
            " [0 0 0 0 0 6 0 0 0 0 0 0 0 0 0]\n",
            " [0 0 0 0 0 0 6 0 0 0 0 0 0 0 0]\n",
            " [0 0 0 0 0 0 0 6 0 0 0 0 0 0 0]\n",
            " [0 0 0 0 0 0 0 0 6 0 0 0 0 0 0]\n",
            " [0 0 0 0 0 0 0 0 0 6 0 0 0 0 0]\n",
            " [0 0 0 0 0 0 0 0 0 0 6 0 0 0 0]\n",
            " [0 0 0 0 0 0 0 0 0 0 0 6 0 0 0]\n",
            " [0 0 0 0 0 0 0 0 0 0 0 0 6 0 0]\n",
            " [0 0 0 0 0 0 0 0 0 0 0 0 0 6 0]\n",
            " [0 0 0 0 0 0 0 0 0 0 0 0 0 2 4]]\n",
            "              precision    recall  f1-score   support\n",
            "\n",
            "           0       1.00      0.83      0.91         6\n",
            "           1       1.00      1.00      1.00         6\n",
            "           2       1.00      1.00      1.00         6\n",
            "           3       1.00      1.00      1.00         6\n",
            "           4       1.00      0.83      0.91         6\n",
            "           5       1.00      1.00      1.00         6\n",
            "           6       1.00      1.00      1.00         6\n",
            "           7       0.86      1.00      0.92         6\n",
            "           8       0.86      1.00      0.92         6\n",
            "           9       1.00      1.00      1.00         6\n",
            "          10       1.00      1.00      1.00         6\n",
            "          11       1.00      1.00      1.00         6\n",
            "          12       1.00      1.00      1.00         6\n",
            "          13       0.75      1.00      0.86         6\n",
            "          14       1.00      0.67      0.80         6\n",
            "\n",
            "    accuracy                           0.96        90\n",
            "   macro avg       0.96      0.96      0.95        90\n",
            "weighted avg       0.96      0.96      0.95        90\n",
            "\n"
          ]
        }
      ]
    },
    {
      "cell_type": "code",
      "source": [
        "#loading VGG19 Model\n",
        "out_predicitons1 = []\n",
        "model1 = load_model(\"/content/drive/MyDrive/Projects/GP Project/Models/models_2/VGG19_Augmented1.h5\")\n",
        "\n",
        "for i in os.listdir(dir_path):\n",
        "    my_image = load_img(dir_path + '//' + i , target_size=(IMAGE_HEIGHT_WIDTH, IMAGE_HEIGHT_WIDTH))\n",
        "    \n",
        "    #preprocess the image\n",
        "    my_image = img_to_array(my_image)\n",
        "    my_image = my_image.reshape((1, my_image.shape[0], my_image.shape[1], my_image.shape[2]))\n",
        "    my_image = prevgg19(my_image)\n",
        "\n",
        "    #make the prediction\n",
        "    prediction = model1.predict(my_image).argmax()\n",
        "    out_predicitons1.append(prediction)\n",
        "\n",
        "print(confusion_matrix(y_test, out_predicitons1))\n",
        "print(classification_report(y_test, out_predicitons1)) "
      ],
      "metadata": {
        "colab": {
          "base_uri": "https://localhost:8080/"
        },
        "id": "5Y1lBgbcD8oF",
        "outputId": "625d4132-7d83-40af-8204-9d5624fc4eb5"
      },
      "execution_count": null,
      "outputs": [
        {
          "output_type": "stream",
          "name": "stdout",
          "text": [
            "1/1 [==============================] - 0s 125ms/step\n",
            "1/1 [==============================] - 0s 16ms/step\n",
            "1/1 [==============================] - 0s 17ms/step\n",
            "1/1 [==============================] - 0s 24ms/step\n",
            "1/1 [==============================] - 0s 16ms/step\n",
            "1/1 [==============================] - 0s 19ms/step\n",
            "1/1 [==============================] - 0s 16ms/step\n",
            "1/1 [==============================] - 0s 18ms/step\n",
            "1/1 [==============================] - 0s 19ms/step\n",
            "1/1 [==============================] - 0s 16ms/step\n",
            "1/1 [==============================] - 0s 19ms/step\n",
            "1/1 [==============================] - 0s 16ms/step\n",
            "1/1 [==============================] - 0s 16ms/step\n",
            "1/1 [==============================] - 0s 19ms/step\n",
            "1/1 [==============================] - 0s 16ms/step\n",
            "1/1 [==============================] - 0s 18ms/step\n",
            "1/1 [==============================] - 0s 18ms/step\n",
            "1/1 [==============================] - 0s 16ms/step\n",
            "1/1 [==============================] - 0s 17ms/step\n",
            "1/1 [==============================] - 0s 16ms/step\n",
            "1/1 [==============================] - 0s 16ms/step\n",
            "1/1 [==============================] - 0s 25ms/step\n",
            "1/1 [==============================] - 0s 15ms/step\n",
            "1/1 [==============================] - 0s 21ms/step\n",
            "1/1 [==============================] - 0s 18ms/step\n",
            "1/1 [==============================] - 0s 18ms/step\n",
            "1/1 [==============================] - 0s 18ms/step\n",
            "1/1 [==============================] - 0s 21ms/step\n",
            "1/1 [==============================] - 0s 16ms/step\n",
            "1/1 [==============================] - 0s 16ms/step\n",
            "1/1 [==============================] - 0s 17ms/step\n",
            "1/1 [==============================] - 0s 29ms/step\n",
            "1/1 [==============================] - 0s 18ms/step\n",
            "1/1 [==============================] - 0s 16ms/step\n",
            "1/1 [==============================] - 0s 18ms/step\n",
            "1/1 [==============================] - 0s 18ms/step\n",
            "1/1 [==============================] - 0s 17ms/step\n",
            "1/1 [==============================] - 0s 16ms/step\n",
            "1/1 [==============================] - 0s 16ms/step\n",
            "1/1 [==============================] - 0s 20ms/step\n",
            "1/1 [==============================] - 0s 17ms/step\n",
            "1/1 [==============================] - 0s 19ms/step\n",
            "1/1 [==============================] - 0s 18ms/step\n",
            "1/1 [==============================] - 0s 18ms/step\n",
            "1/1 [==============================] - 0s 18ms/step\n",
            "1/1 [==============================] - 0s 20ms/step\n",
            "1/1 [==============================] - 0s 16ms/step\n",
            "1/1 [==============================] - 0s 18ms/step\n",
            "1/1 [==============================] - 0s 18ms/step\n",
            "1/1 [==============================] - 0s 16ms/step\n",
            "1/1 [==============================] - 0s 16ms/step\n",
            "1/1 [==============================] - 0s 16ms/step\n",
            "1/1 [==============================] - 0s 20ms/step\n",
            "1/1 [==============================] - 0s 18ms/step\n",
            "1/1 [==============================] - 0s 18ms/step\n",
            "1/1 [==============================] - 0s 16ms/step\n",
            "1/1 [==============================] - 0s 16ms/step\n",
            "1/1 [==============================] - 0s 16ms/step\n",
            "1/1 [==============================] - 0s 16ms/step\n",
            "1/1 [==============================] - 0s 21ms/step\n",
            "1/1 [==============================] - 0s 18ms/step\n",
            "1/1 [==============================] - 0s 17ms/step\n",
            "1/1 [==============================] - 0s 16ms/step\n",
            "1/1 [==============================] - 0s 17ms/step\n",
            "1/1 [==============================] - 0s 21ms/step\n",
            "1/1 [==============================] - 0s 16ms/step\n",
            "1/1 [==============================] - 0s 16ms/step\n",
            "1/1 [==============================] - 0s 16ms/step\n",
            "1/1 [==============================] - 0s 16ms/step\n",
            "1/1 [==============================] - 0s 16ms/step\n",
            "1/1 [==============================] - 0s 16ms/step\n",
            "1/1 [==============================] - 0s 16ms/step\n",
            "1/1 [==============================] - 0s 16ms/step\n",
            "1/1 [==============================] - 0s 16ms/step\n",
            "1/1 [==============================] - 0s 18ms/step\n",
            "1/1 [==============================] - 0s 19ms/step\n",
            "1/1 [==============================] - 0s 17ms/step\n",
            "1/1 [==============================] - 0s 17ms/step\n",
            "1/1 [==============================] - 0s 19ms/step\n",
            "1/1 [==============================] - 0s 16ms/step\n",
            "1/1 [==============================] - 0s 16ms/step\n",
            "1/1 [==============================] - 0s 16ms/step\n",
            "1/1 [==============================] - 0s 16ms/step\n",
            "1/1 [==============================] - 0s 18ms/step\n",
            "1/1 [==============================] - 0s 18ms/step\n",
            "1/1 [==============================] - 0s 18ms/step\n",
            "1/1 [==============================] - 0s 25ms/step\n",
            "1/1 [==============================] - 0s 17ms/step\n",
            "1/1 [==============================] - 0s 16ms/step\n",
            "1/1 [==============================] - 0s 16ms/step\n",
            "[[6 0 0 0 0 0 0 0 0 0 0 0 0 0 0]\n",
            " [0 1 0 0 4 0 0 0 0 0 0 1 0 0 0]\n",
            " [0 0 6 0 0 0 0 0 0 0 0 0 0 0 0]\n",
            " [0 0 0 4 0 0 0 0 0 0 0 0 0 0 2]\n",
            " [0 0 0 0 6 0 0 0 0 0 0 0 0 0 0]\n",
            " [0 0 0 0 0 3 0 0 0 0 0 0 0 0 3]\n",
            " [0 0 0 0 0 0 6 0 0 0 0 0 0 0 0]\n",
            " [0 0 0 0 0 0 0 6 0 0 0 0 0 0 0]\n",
            " [0 0 0 0 0 0 0 0 6 0 0 0 0 0 0]\n",
            " [0 0 0 0 0 0 0 0 0 5 0 0 0 0 1]\n",
            " [0 0 0 0 0 0 0 1 0 0 4 0 0 0 1]\n",
            " [0 0 0 0 0 0 0 0 0 0 0 6 0 0 0]\n",
            " [0 0 0 0 0 0 0 0 0 0 0 0 6 0 0]\n",
            " [0 0 0 0 0 0 0 0 0 0 0 0 0 6 0]\n",
            " [0 0 0 0 0 0 0 0 1 0 0 0 0 4 1]]\n",
            "              precision    recall  f1-score   support\n",
            "\n",
            "           0       1.00      1.00      1.00         6\n",
            "           1       1.00      0.17      0.29         6\n",
            "           2       1.00      1.00      1.00         6\n",
            "           3       1.00      0.67      0.80         6\n",
            "           4       0.60      1.00      0.75         6\n",
            "           5       1.00      0.50      0.67         6\n",
            "           6       1.00      1.00      1.00         6\n",
            "           7       0.86      1.00      0.92         6\n",
            "           8       0.86      1.00      0.92         6\n",
            "           9       1.00      0.83      0.91         6\n",
            "          10       1.00      0.67      0.80         6\n",
            "          11       0.86      1.00      0.92         6\n",
            "          12       1.00      1.00      1.00         6\n",
            "          13       0.60      1.00      0.75         6\n",
            "          14       0.12      0.17      0.14         6\n",
            "\n",
            "    accuracy                           0.80        90\n",
            "   macro avg       0.86      0.80      0.79        90\n",
            "weighted avg       0.86      0.80      0.79        90\n",
            "\n"
          ]
        }
      ]
    },
    {
      "cell_type": "code",
      "source": [
        "#loading MobileV2 model \n",
        "model2 = load_model(\"/content/drive/MyDrive/Projects/GP Project/Models/models_3/mobileV2_Aug.h5\")\n",
        "out_predicitons2 = []\n",
        "\n",
        "for i in os.listdir(dir_path):\n",
        "    my_image = load_img(dir_path + '//' + i , target_size=(IMAGE_HEIGHT_WIDTH, IMAGE_HEIGHT_WIDTH))\n",
        "\n",
        "    #preprocess the image\n",
        "    my_image = img_to_array(my_image)\n",
        "    my_image = my_image.reshape((1, my_image.shape[0], my_image.shape[1], my_image.shape[2]))\n",
        "    my_image = premob(my_image)\n",
        "\n",
        "    #make the prediction\n",
        "    prediction = model2.predict(my_image).argmax()\n",
        "    out_predicitons2.append(prediction)\n",
        "\n",
        "\n",
        "print(confusion_matrix(y_test, out_predicitons2))\n",
        "print(classification_report(y_test, out_predicitons2))"
      ],
      "metadata": {
        "colab": {
          "base_uri": "https://localhost:8080/"
        },
        "id": "BYAaIuCfnW4E",
        "outputId": "45950a35-527b-49df-eac9-29aaccca8d90"
      },
      "execution_count": null,
      "outputs": [
        {
          "output_type": "stream",
          "name": "stdout",
          "text": [
            "1/1 [==============================] - 1s 644ms/step\n",
            "1/1 [==============================] - 0s 19ms/step\n",
            "1/1 [==============================] - 0s 21ms/step\n",
            "1/1 [==============================] - 0s 19ms/step\n",
            "1/1 [==============================] - 0s 19ms/step\n",
            "1/1 [==============================] - 0s 20ms/step\n",
            "1/1 [==============================] - 0s 21ms/step\n",
            "1/1 [==============================] - 0s 19ms/step\n",
            "1/1 [==============================] - 0s 23ms/step\n",
            "1/1 [==============================] - 0s 20ms/step\n",
            "1/1 [==============================] - 0s 19ms/step\n",
            "1/1 [==============================] - 0s 22ms/step\n",
            "1/1 [==============================] - 0s 20ms/step\n",
            "1/1 [==============================] - 0s 20ms/step\n",
            "1/1 [==============================] - 0s 24ms/step\n",
            "1/1 [==============================] - 0s 19ms/step\n",
            "1/1 [==============================] - 0s 18ms/step\n",
            "1/1 [==============================] - 0s 20ms/step\n",
            "1/1 [==============================] - 0s 19ms/step\n",
            "1/1 [==============================] - 0s 19ms/step\n",
            "1/1 [==============================] - 0s 21ms/step\n",
            "1/1 [==============================] - 0s 19ms/step\n",
            "1/1 [==============================] - 0s 19ms/step\n",
            "1/1 [==============================] - 0s 18ms/step\n",
            "1/1 [==============================] - 0s 20ms/step\n",
            "1/1 [==============================] - 0s 21ms/step\n",
            "1/1 [==============================] - 0s 18ms/step\n",
            "1/1 [==============================] - 0s 21ms/step\n",
            "1/1 [==============================] - 0s 19ms/step\n",
            "1/1 [==============================] - 0s 19ms/step\n",
            "1/1 [==============================] - 0s 24ms/step\n",
            "1/1 [==============================] - 0s 18ms/step\n",
            "1/1 [==============================] - 0s 21ms/step\n",
            "1/1 [==============================] - 0s 19ms/step\n",
            "1/1 [==============================] - 0s 20ms/step\n",
            "1/1 [==============================] - 0s 21ms/step\n",
            "1/1 [==============================] - 0s 32ms/step\n",
            "1/1 [==============================] - 0s 33ms/step\n",
            "1/1 [==============================] - 0s 27ms/step\n",
            "1/1 [==============================] - 0s 30ms/step\n",
            "1/1 [==============================] - 0s 31ms/step\n",
            "1/1 [==============================] - 0s 36ms/step\n",
            "1/1 [==============================] - 0s 28ms/step\n",
            "1/1 [==============================] - 0s 28ms/step\n",
            "1/1 [==============================] - 0s 32ms/step\n",
            "1/1 [==============================] - 0s 30ms/step\n",
            "1/1 [==============================] - 0s 38ms/step\n",
            "1/1 [==============================] - 0s 27ms/step\n",
            "1/1 [==============================] - 0s 27ms/step\n",
            "1/1 [==============================] - 0s 28ms/step\n",
            "1/1 [==============================] - 0s 27ms/step\n",
            "1/1 [==============================] - 0s 32ms/step\n",
            "1/1 [==============================] - 0s 30ms/step\n",
            "1/1 [==============================] - 0s 27ms/step\n",
            "1/1 [==============================] - 0s 31ms/step\n",
            "1/1 [==============================] - 0s 34ms/step\n",
            "1/1 [==============================] - 0s 27ms/step\n",
            "1/1 [==============================] - 0s 28ms/step\n",
            "1/1 [==============================] - 0s 32ms/step\n",
            "1/1 [==============================] - 0s 29ms/step\n",
            "1/1 [==============================] - 0s 27ms/step\n",
            "1/1 [==============================] - 0s 27ms/step\n",
            "1/1 [==============================] - 0s 27ms/step\n",
            "1/1 [==============================] - 0s 30ms/step\n",
            "1/1 [==============================] - 0s 27ms/step\n",
            "1/1 [==============================] - 0s 30ms/step\n",
            "1/1 [==============================] - 0s 32ms/step\n",
            "1/1 [==============================] - 0s 33ms/step\n",
            "1/1 [==============================] - 0s 34ms/step\n",
            "1/1 [==============================] - 0s 33ms/step\n",
            "1/1 [==============================] - 0s 34ms/step\n",
            "1/1 [==============================] - 0s 29ms/step\n",
            "1/1 [==============================] - 0s 35ms/step\n",
            "1/1 [==============================] - 0s 31ms/step\n",
            "1/1 [==============================] - 0s 30ms/step\n",
            "1/1 [==============================] - 0s 30ms/step\n",
            "1/1 [==============================] - 0s 29ms/step\n",
            "1/1 [==============================] - 0s 29ms/step\n",
            "1/1 [==============================] - 0s 27ms/step\n",
            "1/1 [==============================] - 0s 21ms/step\n",
            "1/1 [==============================] - 0s 21ms/step\n",
            "1/1 [==============================] - 0s 22ms/step\n",
            "1/1 [==============================] - 0s 20ms/step\n",
            "1/1 [==============================] - 0s 22ms/step\n",
            "1/1 [==============================] - 0s 21ms/step\n",
            "1/1 [==============================] - 0s 19ms/step\n",
            "1/1 [==============================] - 0s 18ms/step\n",
            "1/1 [==============================] - 0s 22ms/step\n",
            "1/1 [==============================] - 0s 19ms/step\n",
            "1/1 [==============================] - 0s 21ms/step\n",
            "[[6 0 0 0 0 0 0 0 0 0 0 0 0 0 0]\n",
            " [0 4 0 0 1 0 0 0 0 0 0 0 0 0 1]\n",
            " [0 0 6 0 0 0 0 0 0 0 0 0 0 0 0]\n",
            " [0 0 0 4 0 0 0 0 0 0 0 0 0 0 2]\n",
            " [0 0 0 0 6 0 0 0 0 0 0 0 0 0 0]\n",
            " [0 0 0 0 0 6 0 0 0 0 0 0 0 0 0]\n",
            " [0 0 0 0 0 0 6 0 0 0 0 0 0 0 0]\n",
            " [0 0 0 0 0 0 0 5 0 0 0 0 0 0 1]\n",
            " [0 0 0 0 3 0 0 0 3 0 0 0 0 0 0]\n",
            " [0 0 0 0 0 0 0 0 0 6 0 0 0 0 0]\n",
            " [0 0 0 0 0 0 0 0 0 0 6 0 0 0 0]\n",
            " [0 0 0 1 0 0 0 0 0 0 0 5 0 0 0]\n",
            " [0 0 0 0 0 0 0 0 0 0 0 0 6 0 0]\n",
            " [0 0 0 0 0 0 0 0 0 0 0 0 0 6 0]\n",
            " [0 0 0 0 0 0 0 0 0 0 0 0 0 4 2]]\n",
            "              precision    recall  f1-score   support\n",
            "\n",
            "           0       1.00      1.00      1.00         6\n",
            "           1       1.00      0.67      0.80         6\n",
            "           2       1.00      1.00      1.00         6\n",
            "           3       0.80      0.67      0.73         6\n",
            "           4       0.60      1.00      0.75         6\n",
            "           5       1.00      1.00      1.00         6\n",
            "           6       1.00      1.00      1.00         6\n",
            "           7       1.00      0.83      0.91         6\n",
            "           8       1.00      0.50      0.67         6\n",
            "           9       1.00      1.00      1.00         6\n",
            "          10       1.00      1.00      1.00         6\n",
            "          11       1.00      0.83      0.91         6\n",
            "          12       1.00      1.00      1.00         6\n",
            "          13       0.60      1.00      0.75         6\n",
            "          14       0.33      0.33      0.33         6\n",
            "\n",
            "    accuracy                           0.86        90\n",
            "   macro avg       0.89      0.86      0.86        90\n",
            "weighted avg       0.89      0.86      0.86        90\n",
            "\n"
          ]
        }
      ]
    },
    {
      "cell_type": "code",
      "source": [
        "model3 = load_model(\"/content/drive/MyDrive/Projects/GP Project/Models/models_3/res50V2_Aug.h5\")\n",
        "out_predicitons3 = []\n",
        "for i in os.listdir(dir_path):\n",
        "    my_image = load_img(dir_path + '//' + i , target_size=(IMAGE_HEIGHT_WIDTH, IMAGE_HEIGHT_WIDTH))\n",
        "    \n",
        "    #preprocess the image    \n",
        "    my_image = img_to_array(my_image)\n",
        "    my_image = my_image.reshape((1, my_image.shape[0], my_image.shape[1], my_image.shape[2]))\n",
        "    my_image = preres(my_image)\n",
        "\n",
        "    #make the prediction\n",
        "    prediction = model3.predict(my_image).argmax()\n",
        "    out_predicitons3.append(prediction)\n",
        "\n",
        "print(confusion_matrix(y_test, out_predicitons3))\n",
        "print(classification_report(y_test, out_predicitons3))"
      ],
      "metadata": {
        "colab": {
          "base_uri": "https://localhost:8080/"
        },
        "id": "1eBIXVx0oJ-4",
        "outputId": "296d055d-8fda-4831-fc6d-3a9d2334d8ae"
      },
      "execution_count": null,
      "outputs": [
        {
          "output_type": "stream",
          "name": "stdout",
          "text": [
            "1/1 [==============================] - 1s 674ms/step\n",
            "1/1 [==============================] - 0s 32ms/step\n",
            "1/1 [==============================] - 0s 22ms/step\n",
            "1/1 [==============================] - 0s 21ms/step\n",
            "1/1 [==============================] - 0s 21ms/step\n",
            "1/1 [==============================] - 0s 22ms/step\n",
            "1/1 [==============================] - 0s 21ms/step\n",
            "1/1 [==============================] - 0s 22ms/step\n",
            "1/1 [==============================] - 0s 21ms/step\n",
            "1/1 [==============================] - 0s 21ms/step\n",
            "1/1 [==============================] - 0s 20ms/step\n",
            "1/1 [==============================] - 0s 21ms/step\n",
            "1/1 [==============================] - 0s 23ms/step\n",
            "1/1 [==============================] - 0s 23ms/step\n",
            "1/1 [==============================] - 0s 23ms/step\n",
            "1/1 [==============================] - 0s 23ms/step\n",
            "1/1 [==============================] - 0s 31ms/step\n",
            "1/1 [==============================] - 0s 22ms/step\n",
            "1/1 [==============================] - 0s 24ms/step\n",
            "1/1 [==============================] - 0s 21ms/step\n",
            "1/1 [==============================] - 0s 21ms/step\n",
            "1/1 [==============================] - 0s 25ms/step\n",
            "1/1 [==============================] - 0s 21ms/step\n",
            "1/1 [==============================] - 0s 21ms/step\n",
            "1/1 [==============================] - 0s 24ms/step\n",
            "1/1 [==============================] - 0s 21ms/step\n",
            "1/1 [==============================] - 0s 25ms/step\n",
            "1/1 [==============================] - 0s 26ms/step\n",
            "1/1 [==============================] - 0s 24ms/step\n",
            "1/1 [==============================] - 0s 21ms/step\n",
            "1/1 [==============================] - 0s 23ms/step\n",
            "1/1 [==============================] - 0s 20ms/step\n",
            "1/1 [==============================] - 0s 21ms/step\n",
            "1/1 [==============================] - 0s 22ms/step\n",
            "1/1 [==============================] - 0s 31ms/step\n",
            "1/1 [==============================] - 0s 22ms/step\n",
            "1/1 [==============================] - 0s 33ms/step\n",
            "1/1 [==============================] - 0s 23ms/step\n",
            "1/1 [==============================] - 0s 23ms/step\n",
            "1/1 [==============================] - 0s 22ms/step\n",
            "1/1 [==============================] - 0s 22ms/step\n",
            "1/1 [==============================] - 0s 21ms/step\n",
            "1/1 [==============================] - 0s 27ms/step\n",
            "1/1 [==============================] - 0s 22ms/step\n",
            "1/1 [==============================] - 0s 21ms/step\n",
            "1/1 [==============================] - 0s 21ms/step\n",
            "1/1 [==============================] - 0s 21ms/step\n",
            "1/1 [==============================] - 0s 21ms/step\n",
            "1/1 [==============================] - 0s 22ms/step\n",
            "1/1 [==============================] - 0s 22ms/step\n",
            "1/1 [==============================] - 0s 22ms/step\n",
            "1/1 [==============================] - 0s 21ms/step\n",
            "1/1 [==============================] - 0s 22ms/step\n",
            "1/1 [==============================] - 0s 21ms/step\n",
            "1/1 [==============================] - 0s 20ms/step\n",
            "1/1 [==============================] - 0s 24ms/step\n",
            "1/1 [==============================] - 0s 23ms/step\n",
            "1/1 [==============================] - 0s 21ms/step\n",
            "1/1 [==============================] - 0s 22ms/step\n",
            "1/1 [==============================] - 0s 20ms/step\n",
            "1/1 [==============================] - 0s 24ms/step\n",
            "1/1 [==============================] - 0s 21ms/step\n",
            "1/1 [==============================] - 0s 21ms/step\n",
            "1/1 [==============================] - 0s 28ms/step\n",
            "1/1 [==============================] - 0s 22ms/step\n",
            "1/1 [==============================] - 0s 22ms/step\n",
            "1/1 [==============================] - 0s 24ms/step\n",
            "1/1 [==============================] - 0s 22ms/step\n",
            "1/1 [==============================] - 0s 24ms/step\n",
            "1/1 [==============================] - 0s 22ms/step\n",
            "1/1 [==============================] - 0s 21ms/step\n",
            "1/1 [==============================] - 0s 26ms/step\n",
            "1/1 [==============================] - 0s 21ms/step\n",
            "1/1 [==============================] - 0s 21ms/step\n",
            "1/1 [==============================] - 0s 21ms/step\n",
            "1/1 [==============================] - 0s 30ms/step\n",
            "1/1 [==============================] - 0s 22ms/step\n",
            "1/1 [==============================] - 0s 22ms/step\n",
            "1/1 [==============================] - 0s 22ms/step\n",
            "1/1 [==============================] - 0s 22ms/step\n",
            "1/1 [==============================] - 0s 21ms/step\n",
            "1/1 [==============================] - 0s 22ms/step\n",
            "1/1 [==============================] - 0s 21ms/step\n",
            "1/1 [==============================] - 0s 21ms/step\n",
            "1/1 [==============================] - 0s 20ms/step\n",
            "1/1 [==============================] - 0s 21ms/step\n",
            "1/1 [==============================] - 0s 22ms/step\n",
            "1/1 [==============================] - 0s 22ms/step\n",
            "1/1 [==============================] - 0s 21ms/step\n",
            "1/1 [==============================] - 0s 30ms/step\n",
            "[[6 0 0 0 0 0 0 0 0 0 0 0 0 0 0]\n",
            " [0 6 0 0 0 0 0 0 0 0 0 0 0 0 0]\n",
            " [0 0 6 0 0 0 0 0 0 0 0 0 0 0 0]\n",
            " [0 0 0 5 0 0 0 1 0 0 0 0 0 0 0]\n",
            " [0 0 0 0 5 0 0 0 1 0 0 0 0 0 0]\n",
            " [0 0 0 0 0 5 0 0 0 0 0 0 0 0 1]\n",
            " [0 0 0 0 0 0 6 0 0 0 0 0 0 0 0]\n",
            " [5 0 0 0 0 0 0 1 0 0 0 0 0 0 0]\n",
            " [0 0 0 0 2 0 0 0 4 0 0 0 0 0 0]\n",
            " [0 0 0 0 0 0 0 0 0 6 0 0 0 0 0]\n",
            " [0 0 0 0 0 0 0 1 0 0 5 0 0 0 0]\n",
            " [0 0 0 0 0 0 0 0 0 0 0 6 0 0 0]\n",
            " [0 0 0 0 0 0 0 0 0 0 0 0 6 0 0]\n",
            " [0 0 0 0 0 0 0 0 0 0 0 0 0 6 0]\n",
            " [0 0 0 0 0 0 0 0 0 0 0 0 0 2 4]]\n",
            "              precision    recall  f1-score   support\n",
            "\n",
            "           0       0.55      1.00      0.71         6\n",
            "           1       1.00      1.00      1.00         6\n",
            "           2       1.00      1.00      1.00         6\n",
            "           3       1.00      0.83      0.91         6\n",
            "           4       0.71      0.83      0.77         6\n",
            "           5       1.00      0.83      0.91         6\n",
            "           6       1.00      1.00      1.00         6\n",
            "           7       0.33      0.17      0.22         6\n",
            "           8       0.80      0.67      0.73         6\n",
            "           9       1.00      1.00      1.00         6\n",
            "          10       1.00      0.83      0.91         6\n",
            "          11       1.00      1.00      1.00         6\n",
            "          12       1.00      1.00      1.00         6\n",
            "          13       0.75      1.00      0.86         6\n",
            "          14       0.80      0.67      0.73         6\n",
            "\n",
            "    accuracy                           0.86        90\n",
            "   macro avg       0.86      0.86      0.85        90\n",
            "weighted avg       0.86      0.86      0.85        90\n",
            "\n"
          ]
        }
      ]
    },
    {
      "cell_type": "code",
      "source": [
        "#loading Resnet101V2 model\n",
        "model4 = load_model(\"/content/drive/MyDrive/Projects/GP Project/Models/models_3/res101V2_Aug.h5\")\n",
        "out_predicitons4 = []\n",
        "for i in os.listdir(dir_path):\n",
        "    my_image = load_img(dir_path + '//' + i , target_size=(IMAGE_HEIGHT_WIDTH, IMAGE_HEIGHT_WIDTH))\n",
        "    \n",
        "    #preprocess the image    \n",
        "    my_image = img_to_array(my_image)\n",
        "    my_image = my_image.reshape((1, my_image.shape[0], my_image.shape[1], my_image.shape[2]))\n",
        "    my_image = preres(my_image)\n",
        "\n",
        "    #make the prediction\n",
        "    prediction = model4.predict(my_image).argmax()\n",
        "    out_predicitons4.append(prediction)\n",
        "\n",
        "print(confusion_matrix(y_test, out_predicitons4))\n",
        "print(classification_report(y_test, out_predicitons4))"
      ],
      "metadata": {
        "colab": {
          "base_uri": "https://localhost:8080/"
        },
        "id": "ce7Sb7d9osfT",
        "outputId": "443ad19e-a9f6-4bf8-f89e-da595bcdbae7"
      },
      "execution_count": null,
      "outputs": [
        {
          "output_type": "stream",
          "name": "stdout",
          "text": [
            "1/1 [==============================] - 1s 1s/step\n",
            "1/1 [==============================] - 0s 29ms/step\n",
            "1/1 [==============================] - 0s 30ms/step\n",
            "1/1 [==============================] - 0s 31ms/step\n",
            "1/1 [==============================] - 0s 31ms/step\n",
            "1/1 [==============================] - 0s 31ms/step\n",
            "1/1 [==============================] - 0s 29ms/step\n",
            "1/1 [==============================] - 0s 35ms/step\n",
            "1/1 [==============================] - 0s 29ms/step\n",
            "1/1 [==============================] - 0s 29ms/step\n",
            "1/1 [==============================] - 0s 34ms/step\n",
            "1/1 [==============================] - 0s 29ms/step\n",
            "1/1 [==============================] - 0s 28ms/step\n",
            "1/1 [==============================] - 0s 30ms/step\n",
            "1/1 [==============================] - 0s 29ms/step\n",
            "1/1 [==============================] - 0s 29ms/step\n",
            "1/1 [==============================] - 0s 29ms/step\n",
            "1/1 [==============================] - 0s 28ms/step\n",
            "1/1 [==============================] - 0s 29ms/step\n",
            "1/1 [==============================] - 0s 29ms/step\n",
            "1/1 [==============================] - 0s 30ms/step\n",
            "1/1 [==============================] - 0s 27ms/step\n",
            "1/1 [==============================] - 0s 31ms/step\n",
            "1/1 [==============================] - 0s 40ms/step\n",
            "1/1 [==============================] - 0s 30ms/step\n",
            "1/1 [==============================] - 0s 30ms/step\n",
            "1/1 [==============================] - 0s 32ms/step\n",
            "1/1 [==============================] - 0s 36ms/step\n",
            "1/1 [==============================] - 0s 30ms/step\n",
            "1/1 [==============================] - 0s 30ms/step\n",
            "1/1 [==============================] - 0s 28ms/step\n",
            "1/1 [==============================] - 0s 29ms/step\n",
            "1/1 [==============================] - 0s 29ms/step\n",
            "1/1 [==============================] - 0s 36ms/step\n",
            "1/1 [==============================] - 0s 30ms/step\n",
            "1/1 [==============================] - 0s 38ms/step\n",
            "1/1 [==============================] - 0s 29ms/step\n",
            "1/1 [==============================] - 0s 31ms/step\n",
            "1/1 [==============================] - 0s 30ms/step\n",
            "1/1 [==============================] - 0s 28ms/step\n",
            "1/1 [==============================] - 0s 29ms/step\n",
            "1/1 [==============================] - 0s 29ms/step\n",
            "1/1 [==============================] - 0s 29ms/step\n",
            "1/1 [==============================] - 0s 28ms/step\n",
            "1/1 [==============================] - 0s 29ms/step\n",
            "1/1 [==============================] - 0s 31ms/step\n",
            "1/1 [==============================] - 0s 32ms/step\n",
            "1/1 [==============================] - 0s 32ms/step\n",
            "1/1 [==============================] - 0s 29ms/step\n",
            "1/1 [==============================] - 0s 29ms/step\n",
            "1/1 [==============================] - 0s 29ms/step\n",
            "1/1 [==============================] - 0s 28ms/step\n",
            "1/1 [==============================] - 0s 31ms/step\n",
            "1/1 [==============================] - 0s 28ms/step\n",
            "1/1 [==============================] - 0s 33ms/step\n",
            "1/1 [==============================] - 0s 28ms/step\n",
            "1/1 [==============================] - 0s 29ms/step\n",
            "1/1 [==============================] - 0s 29ms/step\n",
            "1/1 [==============================] - 0s 28ms/step\n",
            "1/1 [==============================] - 0s 28ms/step\n",
            "1/1 [==============================] - 0s 29ms/step\n",
            "1/1 [==============================] - 0s 28ms/step\n",
            "1/1 [==============================] - 0s 28ms/step\n",
            "1/1 [==============================] - 0s 28ms/step\n",
            "1/1 [==============================] - 0s 31ms/step\n",
            "1/1 [==============================] - 0s 28ms/step\n",
            "1/1 [==============================] - 0s 29ms/step\n",
            "1/1 [==============================] - 0s 29ms/step\n",
            "1/1 [==============================] - 0s 29ms/step\n",
            "1/1 [==============================] - 0s 28ms/step\n",
            "1/1 [==============================] - 0s 29ms/step\n",
            "1/1 [==============================] - 0s 31ms/step\n",
            "1/1 [==============================] - 0s 31ms/step\n",
            "1/1 [==============================] - 0s 31ms/step\n",
            "1/1 [==============================] - 0s 31ms/step\n",
            "1/1 [==============================] - 0s 29ms/step\n",
            "1/1 [==============================] - 0s 28ms/step\n",
            "1/1 [==============================] - 0s 28ms/step\n",
            "1/1 [==============================] - 0s 27ms/step\n",
            "1/1 [==============================] - 0s 27ms/step\n",
            "1/1 [==============================] - 0s 27ms/step\n",
            "1/1 [==============================] - 0s 29ms/step\n",
            "1/1 [==============================] - 0s 29ms/step\n",
            "1/1 [==============================] - 0s 29ms/step\n",
            "1/1 [==============================] - 0s 29ms/step\n",
            "1/1 [==============================] - 0s 32ms/step\n",
            "1/1 [==============================] - 0s 28ms/step\n",
            "1/1 [==============================] - 0s 28ms/step\n",
            "1/1 [==============================] - 0s 28ms/step\n",
            "1/1 [==============================] - 0s 29ms/step\n",
            "[[6 0 0 0 0 0 0 0 0 0 0 0 0 0 0]\n",
            " [0 2 0 0 4 0 0 0 0 0 0 0 0 0 0]\n",
            " [0 0 6 0 0 0 0 0 0 0 0 0 0 0 0]\n",
            " [0 0 0 6 0 0 0 0 0 0 0 0 0 0 0]\n",
            " [0 0 0 0 6 0 0 0 0 0 0 0 0 0 0]\n",
            " [0 0 0 1 0 3 0 0 0 0 0 0 0 0 2]\n",
            " [0 0 0 0 1 0 5 0 0 0 0 0 0 0 0]\n",
            " [0 0 0 0 0 0 0 6 0 0 0 0 0 0 0]\n",
            " [0 0 0 0 1 0 0 0 5 0 0 0 0 0 0]\n",
            " [0 0 0 0 0 0 0 0 0 6 0 0 0 0 0]\n",
            " [0 0 0 0 0 0 0 0 0 0 6 0 0 0 0]\n",
            " [0 0 0 0 0 0 0 0 0 0 0 6 0 0 0]\n",
            " [0 0 0 0 0 0 0 0 0 0 0 0 6 0 0]\n",
            " [0 0 0 0 0 0 0 0 0 0 0 0 0 6 0]\n",
            " [0 0 0 0 0 0 0 0 0 0 1 0 0 4 1]]\n",
            "              precision    recall  f1-score   support\n",
            "\n",
            "           0       1.00      1.00      1.00         6\n",
            "           1       1.00      0.33      0.50         6\n",
            "           2       1.00      1.00      1.00         6\n",
            "           3       0.86      1.00      0.92         6\n",
            "           4       0.50      1.00      0.67         6\n",
            "           5       1.00      0.50      0.67         6\n",
            "           6       1.00      0.83      0.91         6\n",
            "           7       1.00      1.00      1.00         6\n",
            "           8       1.00      0.83      0.91         6\n",
            "           9       1.00      1.00      1.00         6\n",
            "          10       0.86      1.00      0.92         6\n",
            "          11       1.00      1.00      1.00         6\n",
            "          12       1.00      1.00      1.00         6\n",
            "          13       0.60      1.00      0.75         6\n",
            "          14       0.33      0.17      0.22         6\n",
            "\n",
            "    accuracy                           0.84        90\n",
            "   macro avg       0.88      0.84      0.83        90\n",
            "weighted avg       0.88      0.84      0.83        90\n",
            "\n"
          ]
        }
      ]
    },
    {
      "cell_type": "code",
      "source": [
        "#loading EffceientNetB7 model\n",
        "model5 = load_model(\"/content/drive/MyDrive/Projects/GP Project/Models/models_3/effcientb7_Aug.h5\")\n",
        "out_predicitons5 = []\n",
        "\n",
        "for i in os.listdir(dir_path):\n",
        "    my_image = load_img(dir_path + '//' + i , target_size=(IMAGE_HEIGHT_WIDTH, IMAGE_HEIGHT_WIDTH))\n",
        "    \n",
        "    #preprocess the image\n",
        "    my_image = img_to_array(my_image)\n",
        "    my_image = my_image.reshape((1, my_image.shape[0], my_image.shape[1], my_image.shape[2]))\n",
        "    my_image = preeff(my_image)\n",
        "\n",
        "    #make the prediction\n",
        "    prediction = model5.predict(my_image).argmax()\n",
        "    out_predicitons5.append(prediction)\n",
        "\n",
        "print(confusion_matrix(y_test, out_predicitons5))\n",
        "print(classification_report(y_test, out_predicitons5))"
      ],
      "metadata": {
        "colab": {
          "base_uri": "https://localhost:8080/"
        },
        "id": "4957M9rzpEDN",
        "outputId": "53b3aa1c-7e85-44f8-8d64-0380f91f0fc0"
      },
      "execution_count": null,
      "outputs": [
        {
          "output_type": "stream",
          "name": "stdout",
          "text": [
            "1/1 [==============================] - 5s 5s/step\n",
            "1/1 [==============================] - 0s 45ms/step\n",
            "1/1 [==============================] - 0s 45ms/step\n",
            "1/1 [==============================] - 0s 45ms/step\n",
            "1/1 [==============================] - 0s 46ms/step\n",
            "1/1 [==============================] - 0s 44ms/step\n",
            "1/1 [==============================] - 0s 48ms/step\n",
            "1/1 [==============================] - 0s 52ms/step\n",
            "1/1 [==============================] - 0s 45ms/step\n",
            "1/1 [==============================] - 0s 49ms/step\n",
            "1/1 [==============================] - 0s 46ms/step\n",
            "1/1 [==============================] - 0s 46ms/step\n",
            "1/1 [==============================] - 0s 46ms/step\n",
            "1/1 [==============================] - 0s 51ms/step\n",
            "1/1 [==============================] - 0s 46ms/step\n",
            "1/1 [==============================] - 0s 45ms/step\n",
            "1/1 [==============================] - 0s 46ms/step\n",
            "1/1 [==============================] - 0s 50ms/step\n",
            "1/1 [==============================] - 0s 47ms/step\n",
            "1/1 [==============================] - 0s 51ms/step\n",
            "1/1 [==============================] - 0s 47ms/step\n",
            "1/1 [==============================] - 0s 45ms/step\n",
            "1/1 [==============================] - 0s 45ms/step\n",
            "1/1 [==============================] - 0s 44ms/step\n",
            "1/1 [==============================] - 0s 50ms/step\n",
            "1/1 [==============================] - 0s 44ms/step\n",
            "1/1 [==============================] - 0s 45ms/step\n",
            "1/1 [==============================] - 0s 53ms/step\n",
            "1/1 [==============================] - 0s 46ms/step\n",
            "1/1 [==============================] - 0s 45ms/step\n",
            "1/1 [==============================] - 0s 48ms/step\n",
            "1/1 [==============================] - 0s 47ms/step\n",
            "1/1 [==============================] - 0s 44ms/step\n",
            "1/1 [==============================] - 0s 50ms/step\n",
            "1/1 [==============================] - 0s 48ms/step\n",
            "1/1 [==============================] - 0s 45ms/step\n",
            "1/1 [==============================] - 0s 46ms/step\n",
            "1/1 [==============================] - 0s 47ms/step\n",
            "1/1 [==============================] - 0s 46ms/step\n",
            "1/1 [==============================] - 0s 49ms/step\n",
            "1/1 [==============================] - 0s 46ms/step\n",
            "1/1 [==============================] - 0s 48ms/step\n",
            "1/1 [==============================] - 0s 49ms/step\n",
            "1/1 [==============================] - 0s 46ms/step\n",
            "1/1 [==============================] - 0s 46ms/step\n",
            "1/1 [==============================] - 0s 46ms/step\n",
            "1/1 [==============================] - 0s 47ms/step\n",
            "1/1 [==============================] - 0s 53ms/step\n",
            "1/1 [==============================] - 0s 49ms/step\n",
            "1/1 [==============================] - 0s 54ms/step\n",
            "1/1 [==============================] - 0s 46ms/step\n",
            "1/1 [==============================] - 0s 48ms/step\n",
            "1/1 [==============================] - 0s 45ms/step\n",
            "1/1 [==============================] - 0s 44ms/step\n",
            "1/1 [==============================] - 0s 45ms/step\n",
            "1/1 [==============================] - 0s 45ms/step\n",
            "1/1 [==============================] - 0s 45ms/step\n",
            "1/1 [==============================] - 0s 45ms/step\n",
            "1/1 [==============================] - 0s 47ms/step\n",
            "1/1 [==============================] - 0s 50ms/step\n",
            "1/1 [==============================] - 0s 45ms/step\n",
            "1/1 [==============================] - 0s 45ms/step\n",
            "1/1 [==============================] - 0s 46ms/step\n",
            "1/1 [==============================] - 0s 49ms/step\n",
            "1/1 [==============================] - 0s 46ms/step\n",
            "1/1 [==============================] - 0s 47ms/step\n",
            "1/1 [==============================] - 0s 45ms/step\n",
            "1/1 [==============================] - 0s 55ms/step\n",
            "1/1 [==============================] - 0s 45ms/step\n",
            "1/1 [==============================] - 0s 48ms/step\n",
            "1/1 [==============================] - 0s 46ms/step\n",
            "1/1 [==============================] - 0s 46ms/step\n",
            "1/1 [==============================] - 0s 46ms/step\n",
            "1/1 [==============================] - 0s 45ms/step\n",
            "1/1 [==============================] - 0s 45ms/step\n",
            "1/1 [==============================] - 0s 47ms/step\n",
            "1/1 [==============================] - 0s 46ms/step\n",
            "1/1 [==============================] - 0s 53ms/step\n",
            "1/1 [==============================] - 0s 45ms/step\n",
            "1/1 [==============================] - 0s 50ms/step\n",
            "1/1 [==============================] - 0s 46ms/step\n",
            "1/1 [==============================] - 0s 51ms/step\n",
            "1/1 [==============================] - 0s 46ms/step\n",
            "1/1 [==============================] - 0s 193ms/step\n",
            "1/1 [==============================] - 0s 100ms/step\n",
            "1/1 [==============================] - 0s 45ms/step\n",
            "1/1 [==============================] - 0s 48ms/step\n",
            "1/1 [==============================] - 0s 47ms/step\n",
            "1/1 [==============================] - 0s 45ms/step\n",
            "1/1 [==============================] - 0s 47ms/step\n",
            "[[0 0 0 0 0 0 0 6 0 0 0 0 0 0 0]\n",
            " [0 0 0 0 0 0 4 0 0 0 0 2 0 0 0]\n",
            " [0 0 2 0 0 0 0 4 0 0 0 0 0 0 0]\n",
            " [0 0 0 0 0 0 0 5 0 0 0 1 0 0 0]\n",
            " [0 0 0 0 0 0 0 0 0 0 0 5 0 1 0]\n",
            " [0 0 0 0 0 0 0 3 0 0 0 0 0 3 0]\n",
            " [0 0 0 0 0 0 1 1 0 0 0 4 0 0 0]\n",
            " [0 0 0 0 0 0 0 6 0 0 0 0 0 0 0]\n",
            " [0 0 0 0 0 0 1 0 0 0 0 2 0 3 0]\n",
            " [0 0 0 0 0 0 0 6 0 0 0 0 0 0 0]\n",
            " [0 0 0 0 0 0 1 2 0 0 0 2 0 1 0]\n",
            " [0 0 0 0 0 0 3 0 0 0 0 3 0 0 0]\n",
            " [0 0 0 0 0 0 0 4 0 0 0 0 0 2 0]\n",
            " [0 0 0 0 0 0 0 3 0 0 0 0 1 2 0]\n",
            " [0 0 0 0 0 0 1 1 0 0 0 2 0 2 0]]\n",
            "              precision    recall  f1-score   support\n",
            "\n",
            "           0       0.00      0.00      0.00         6\n",
            "           1       0.00      0.00      0.00         6\n",
            "           2       1.00      0.33      0.50         6\n",
            "           3       0.00      0.00      0.00         6\n",
            "           4       0.00      0.00      0.00         6\n",
            "           5       0.00      0.00      0.00         6\n",
            "           6       0.09      0.17      0.12         6\n",
            "           7       0.15      1.00      0.26         6\n",
            "           8       0.00      0.00      0.00         6\n",
            "           9       0.00      0.00      0.00         6\n",
            "          10       0.00      0.00      0.00         6\n",
            "          11       0.14      0.50      0.22         6\n",
            "          12       0.00      0.00      0.00         6\n",
            "          13       0.14      0.33      0.20         6\n",
            "          14       0.00      0.00      0.00         6\n",
            "\n",
            "    accuracy                           0.16        90\n",
            "   macro avg       0.10      0.16      0.09        90\n",
            "weighted avg       0.10      0.16      0.09        90\n",
            "\n"
          ]
        },
        {
          "output_type": "stream",
          "name": "stderr",
          "text": [
            "/usr/local/lib/python3.8/dist-packages/sklearn/metrics/_classification.py:1318: UndefinedMetricWarning: Precision and F-score are ill-defined and being set to 0.0 in labels with no predicted samples. Use `zero_division` parameter to control this behavior.\n",
            "  _warn_prf(average, modifier, msg_start, len(result))\n",
            "/usr/local/lib/python3.8/dist-packages/sklearn/metrics/_classification.py:1318: UndefinedMetricWarning: Precision and F-score are ill-defined and being set to 0.0 in labels with no predicted samples. Use `zero_division` parameter to control this behavior.\n",
            "  _warn_prf(average, modifier, msg_start, len(result))\n",
            "/usr/local/lib/python3.8/dist-packages/sklearn/metrics/_classification.py:1318: UndefinedMetricWarning: Precision and F-score are ill-defined and being set to 0.0 in labels with no predicted samples. Use `zero_division` parameter to control this behavior.\n",
            "  _warn_prf(average, modifier, msg_start, len(result))\n"
          ]
        }
      ]
    },
    {
      "cell_type": "code",
      "source": [
        "#loading effcientV2l Model\n",
        "model6 = load_model(\"/content/drive/MyDrive/Projects/GP Project/Models/models_3/effcientV2L_Aug.h5\")\n",
        "out_predicitons6 = []\n",
        "\n",
        "for i in os.listdir(dir_path):\n",
        "    my_image = load_img(dir_path + '//' + i , target_size=(IMAGE_HEIGHT_WIDTH, IMAGE_HEIGHT_WIDTH))\n",
        "\n",
        "    #preprocess the image\n",
        "    my_image = img_to_array(my_image)\n",
        "    my_image = my_image.reshape((1, my_image.shape[0], my_image.shape[1], my_image.shape[2]))\n",
        "    my_image = preeffV2(my_image)\n",
        "\n",
        "    #make the prediction\n",
        "    prediction = model6.predict(my_image).argmax()\n",
        "    out_predicitons6.append(prediction)\n",
        "\n",
        "\n",
        "print(confusion_matrix(y_test, out_predicitons6))\n",
        "print(classification_report(y_test, out_predicitons6))"
      ],
      "metadata": {
        "colab": {
          "base_uri": "https://localhost:8080/"
        },
        "id": "vsf_ChXOpW-J",
        "outputId": "dac119e2-f37e-4034-ec3a-06179dbd25bc"
      },
      "execution_count": null,
      "outputs": [
        {
          "output_type": "stream",
          "name": "stdout",
          "text": [
            "1/1 [==============================] - 6s 6s/step\n",
            "1/1 [==============================] - 0s 52ms/step\n",
            "1/1 [==============================] - 0s 54ms/step\n",
            "1/1 [==============================] - 0s 54ms/step\n",
            "1/1 [==============================] - 0s 54ms/step\n",
            "1/1 [==============================] - 0s 52ms/step\n",
            "1/1 [==============================] - 0s 53ms/step\n",
            "1/1 [==============================] - 0s 58ms/step\n",
            "1/1 [==============================] - 0s 54ms/step\n",
            "1/1 [==============================] - 0s 53ms/step\n",
            "1/1 [==============================] - 0s 57ms/step\n",
            "1/1 [==============================] - 0s 58ms/step\n",
            "1/1 [==============================] - 0s 62ms/step\n",
            "1/1 [==============================] - 0s 56ms/step\n",
            "1/1 [==============================] - 0s 56ms/step\n",
            "1/1 [==============================] - 0s 59ms/step\n",
            "1/1 [==============================] - 0s 58ms/step\n",
            "1/1 [==============================] - 0s 57ms/step\n",
            "1/1 [==============================] - 0s 54ms/step\n",
            "1/1 [==============================] - 0s 53ms/step\n",
            "1/1 [==============================] - 0s 54ms/step\n",
            "1/1 [==============================] - 0s 53ms/step\n",
            "1/1 [==============================] - 0s 53ms/step\n",
            "1/1 [==============================] - 0s 55ms/step\n",
            "1/1 [==============================] - 0s 53ms/step\n",
            "1/1 [==============================] - 0s 57ms/step\n",
            "1/1 [==============================] - 0s 53ms/step\n",
            "1/1 [==============================] - 0s 52ms/step\n",
            "1/1 [==============================] - 0s 53ms/step\n",
            "1/1 [==============================] - 0s 54ms/step\n",
            "1/1 [==============================] - 0s 55ms/step\n",
            "1/1 [==============================] - 0s 55ms/step\n",
            "1/1 [==============================] - 0s 53ms/step\n",
            "1/1 [==============================] - 0s 54ms/step\n",
            "1/1 [==============================] - 0s 54ms/step\n",
            "1/1 [==============================] - 0s 64ms/step\n",
            "1/1 [==============================] - 0s 54ms/step\n",
            "1/1 [==============================] - 0s 52ms/step\n",
            "1/1 [==============================] - 0s 56ms/step\n",
            "1/1 [==============================] - 0s 54ms/step\n",
            "1/1 [==============================] - 0s 58ms/step\n",
            "1/1 [==============================] - 0s 55ms/step\n",
            "1/1 [==============================] - 0s 56ms/step\n",
            "1/1 [==============================] - 0s 56ms/step\n",
            "1/1 [==============================] - 0s 65ms/step\n",
            "1/1 [==============================] - 0s 58ms/step\n",
            "1/1 [==============================] - 0s 53ms/step\n",
            "1/1 [==============================] - 0s 53ms/step\n",
            "1/1 [==============================] - 0s 55ms/step\n",
            "1/1 [==============================] - 0s 53ms/step\n",
            "1/1 [==============================] - 0s 55ms/step\n",
            "1/1 [==============================] - 0s 59ms/step\n",
            "1/1 [==============================] - 0s 52ms/step\n",
            "1/1 [==============================] - 0s 64ms/step\n",
            "1/1 [==============================] - 0s 54ms/step\n",
            "1/1 [==============================] - 0s 53ms/step\n",
            "1/1 [==============================] - 0s 53ms/step\n",
            "1/1 [==============================] - 0s 57ms/step\n",
            "1/1 [==============================] - 0s 59ms/step\n",
            "1/1 [==============================] - 0s 54ms/step\n",
            "1/1 [==============================] - 0s 54ms/step\n",
            "1/1 [==============================] - 0s 53ms/step\n",
            "1/1 [==============================] - 0s 60ms/step\n",
            "1/1 [==============================] - 0s 58ms/step\n",
            "1/1 [==============================] - 0s 52ms/step\n",
            "1/1 [==============================] - 0s 59ms/step\n",
            "1/1 [==============================] - 0s 53ms/step\n",
            "1/1 [==============================] - 0s 77ms/step\n",
            "1/1 [==============================] - 0s 57ms/step\n",
            "1/1 [==============================] - 0s 55ms/step\n",
            "1/1 [==============================] - 0s 59ms/step\n",
            "1/1 [==============================] - 0s 54ms/step\n",
            "1/1 [==============================] - 0s 54ms/step\n",
            "1/1 [==============================] - 0s 55ms/step\n",
            "1/1 [==============================] - 0s 54ms/step\n",
            "1/1 [==============================] - 0s 55ms/step\n",
            "1/1 [==============================] - 0s 52ms/step\n",
            "1/1 [==============================] - 0s 64ms/step\n",
            "1/1 [==============================] - 0s 53ms/step\n",
            "1/1 [==============================] - 0s 54ms/step\n",
            "1/1 [==============================] - 0s 52ms/step\n",
            "1/1 [==============================] - 0s 62ms/step\n",
            "1/1 [==============================] - 0s 54ms/step\n",
            "1/1 [==============================] - 0s 56ms/step\n",
            "1/1 [==============================] - 0s 53ms/step\n",
            "1/1 [==============================] - 0s 52ms/step\n",
            "1/1 [==============================] - 0s 59ms/step\n",
            "1/1 [==============================] - 0s 56ms/step\n",
            "1/1 [==============================] - 0s 55ms/step\n",
            "1/1 [==============================] - 0s 53ms/step\n",
            "[[0 0 0 0 0 0 0 0 0 1 1 3 0 0 1]\n",
            " [0 0 0 0 0 0 1 0 0 0 0 4 1 0 0]\n",
            " [0 0 0 0 0 0 0 0 0 6 0 0 0 0 0]\n",
            " [0 0 2 0 0 0 0 0 0 1 0 2 0 1 0]\n",
            " [0 0 0 0 0 0 0 0 1 1 0 3 1 0 0]\n",
            " [0 0 0 0 0 0 0 3 0 0 0 2 1 0 0]\n",
            " [0 0 0 0 1 0 0 0 0 1 0 4 0 0 0]\n",
            " [0 0 0 0 0 1 0 2 0 1 0 1 0 0 1]\n",
            " [0 0 0 0 0 0 0 0 0 0 0 3 3 0 0]\n",
            " [0 0 2 0 0 1 0 0 0 2 0 1 0 0 0]\n",
            " [0 0 0 0 0 0 0 0 0 2 1 2 1 0 0]\n",
            " [0 0 0 0 0 0 0 0 0 0 0 6 0 0 0]\n",
            " [0 0 0 0 0 0 0 0 0 5 0 1 0 0 0]\n",
            " [0 1 0 0 0 0 0 3 0 2 0 0 0 0 0]\n",
            " [0 0 0 0 0 0 0 0 0 1 0 4 1 0 0]]\n",
            "              precision    recall  f1-score   support\n",
            "\n",
            "           0       0.00      0.00      0.00         6\n",
            "           1       0.00      0.00      0.00         6\n",
            "           2       0.00      0.00      0.00         6\n",
            "           3       0.00      0.00      0.00         6\n",
            "           4       0.00      0.00      0.00         6\n",
            "           5       0.00      0.00      0.00         6\n",
            "           6       0.00      0.00      0.00         6\n",
            "           7       0.25      0.33      0.29         6\n",
            "           8       0.00      0.00      0.00         6\n",
            "           9       0.09      0.33      0.14         6\n",
            "          10       0.50      0.17      0.25         6\n",
            "          11       0.17      1.00      0.29         6\n",
            "          12       0.00      0.00      0.00         6\n",
            "          13       0.00      0.00      0.00         6\n",
            "          14       0.00      0.00      0.00         6\n",
            "\n",
            "    accuracy                           0.12        90\n",
            "   macro avg       0.07      0.12      0.06        90\n",
            "weighted avg       0.07      0.12      0.06        90\n",
            "\n"
          ]
        },
        {
          "output_type": "stream",
          "name": "stderr",
          "text": [
            "/usr/local/lib/python3.8/dist-packages/sklearn/metrics/_classification.py:1318: UndefinedMetricWarning: Precision and F-score are ill-defined and being set to 0.0 in labels with no predicted samples. Use `zero_division` parameter to control this behavior.\n",
            "  _warn_prf(average, modifier, msg_start, len(result))\n",
            "/usr/local/lib/python3.8/dist-packages/sklearn/metrics/_classification.py:1318: UndefinedMetricWarning: Precision and F-score are ill-defined and being set to 0.0 in labels with no predicted samples. Use `zero_division` parameter to control this behavior.\n",
            "  _warn_prf(average, modifier, msg_start, len(result))\n",
            "/usr/local/lib/python3.8/dist-packages/sklearn/metrics/_classification.py:1318: UndefinedMetricWarning: Precision and F-score are ill-defined and being set to 0.0 in labels with no predicted samples. Use `zero_division` parameter to control this behavior.\n",
            "  _warn_prf(average, modifier, msg_start, len(result))\n"
          ]
        }
      ]
    },
    {
      "cell_type": "code",
      "source": [
        "#loading effcientV2M Model\n",
        "model7 = load_model(\"/content/drive/MyDrive/Projects/GP Project/Models/models_3/effcientV2M_Aug.h5\")\n",
        "out_predicitons7 = []\n",
        "\n",
        "for i in os.listdir(dir_path):\n",
        "    my_image = load_img(dir_path + '//' + i , target_size=(IMAGE_HEIGHT_WIDTH, IMAGE_HEIGHT_WIDTH))\n",
        "    \n",
        "    #preprocess the image\n",
        "    my_image = img_to_array(my_image)\n",
        "    my_image = my_image.reshape((1, my_image.shape[0], my_image.shape[1], my_image.shape[2]))\n",
        "    my_image = preeffV2(my_image)\n",
        "\n",
        "    #make the prediction\n",
        "    prediction = model7.predict(my_image).argmax()\n",
        "    out_predicitons7.append(prediction)\n",
        "    # print(dic[prediction])\n",
        "\n",
        "print(confusion_matrix(y_test, out_predicitons7))\n",
        "print(classification_report(y_test, out_predicitons7))"
      ],
      "metadata": {
        "colab": {
          "base_uri": "https://localhost:8080/"
        },
        "id": "4oekoVu5pppw",
        "outputId": "9373cadc-0cb1-4bdd-a21f-49dd68a9a9b4"
      },
      "execution_count": null,
      "outputs": [
        {
          "output_type": "stream",
          "name": "stdout",
          "text": [
            "1/1 [==============================] - 4s 4s/step\n",
            "1/1 [==============================] - 0s 42ms/step\n",
            "1/1 [==============================] - 0s 41ms/step\n",
            "1/1 [==============================] - 0s 44ms/step\n",
            "1/1 [==============================] - 0s 43ms/step\n",
            "1/1 [==============================] - 0s 49ms/step\n",
            "1/1 [==============================] - 0s 42ms/step\n",
            "1/1 [==============================] - 0s 43ms/step\n",
            "1/1 [==============================] - 0s 45ms/step\n",
            "1/1 [==============================] - 0s 43ms/step\n",
            "1/1 [==============================] - 0s 43ms/step\n",
            "1/1 [==============================] - 0s 50ms/step\n",
            "1/1 [==============================] - 0s 43ms/step\n",
            "1/1 [==============================] - 0s 43ms/step\n",
            "1/1 [==============================] - 0s 48ms/step\n",
            "1/1 [==============================] - 0s 42ms/step\n",
            "1/1 [==============================] - 0s 42ms/step\n",
            "1/1 [==============================] - 0s 44ms/step\n",
            "1/1 [==============================] - 0s 48ms/step\n",
            "1/1 [==============================] - 0s 44ms/step\n",
            "1/1 [==============================] - 0s 45ms/step\n",
            "1/1 [==============================] - 0s 43ms/step\n",
            "1/1 [==============================] - 0s 44ms/step\n",
            "1/1 [==============================] - 0s 43ms/step\n",
            "1/1 [==============================] - 0s 48ms/step\n",
            "1/1 [==============================] - 0s 43ms/step\n",
            "1/1 [==============================] - 0s 43ms/step\n",
            "1/1 [==============================] - 0s 44ms/step\n",
            "1/1 [==============================] - 0s 42ms/step\n",
            "1/1 [==============================] - 0s 44ms/step\n",
            "1/1 [==============================] - 0s 43ms/step\n",
            "1/1 [==============================] - 0s 44ms/step\n",
            "1/1 [==============================] - 0s 43ms/step\n",
            "1/1 [==============================] - 0s 43ms/step\n",
            "1/1 [==============================] - 0s 48ms/step\n",
            "1/1 [==============================] - 0s 49ms/step\n",
            "1/1 [==============================] - 0s 42ms/step\n",
            "1/1 [==============================] - 0s 43ms/step\n",
            "1/1 [==============================] - 0s 42ms/step\n",
            "1/1 [==============================] - 0s 42ms/step\n",
            "1/1 [==============================] - 0s 43ms/step\n",
            "1/1 [==============================] - 0s 43ms/step\n",
            "1/1 [==============================] - 0s 44ms/step\n",
            "1/1 [==============================] - 0s 47ms/step\n",
            "1/1 [==============================] - 0s 41ms/step\n",
            "1/1 [==============================] - 0s 50ms/step\n",
            "1/1 [==============================] - 0s 42ms/step\n",
            "1/1 [==============================] - 0s 43ms/step\n",
            "1/1 [==============================] - 0s 42ms/step\n",
            "1/1 [==============================] - 0s 42ms/step\n",
            "1/1 [==============================] - 0s 42ms/step\n",
            "1/1 [==============================] - 0s 44ms/step\n",
            "1/1 [==============================] - 0s 43ms/step\n",
            "1/1 [==============================] - 0s 45ms/step\n",
            "1/1 [==============================] - 0s 43ms/step\n",
            "1/1 [==============================] - 0s 45ms/step\n",
            "1/1 [==============================] - 0s 42ms/step\n",
            "1/1 [==============================] - 0s 42ms/step\n",
            "1/1 [==============================] - 0s 45ms/step\n",
            "1/1 [==============================] - 0s 54ms/step\n",
            "1/1 [==============================] - 0s 43ms/step\n",
            "1/1 [==============================] - 0s 43ms/step\n",
            "1/1 [==============================] - 0s 42ms/step\n",
            "1/1 [==============================] - 0s 42ms/step\n",
            "1/1 [==============================] - 0s 54ms/step\n",
            "1/1 [==============================] - 0s 44ms/step\n",
            "1/1 [==============================] - 0s 46ms/step\n",
            "1/1 [==============================] - 0s 49ms/step\n",
            "1/1 [==============================] - 0s 43ms/step\n",
            "1/1 [==============================] - 0s 43ms/step\n",
            "1/1 [==============================] - 0s 42ms/step\n",
            "1/1 [==============================] - 0s 43ms/step\n",
            "1/1 [==============================] - 0s 46ms/step\n",
            "1/1 [==============================] - 0s 56ms/step\n",
            "1/1 [==============================] - 0s 48ms/step\n",
            "1/1 [==============================] - 0s 43ms/step\n",
            "1/1 [==============================] - 0s 46ms/step\n",
            "1/1 [==============================] - 0s 43ms/step\n",
            "1/1 [==============================] - 0s 44ms/step\n",
            "1/1 [==============================] - 0s 44ms/step\n",
            "1/1 [==============================] - 0s 43ms/step\n",
            "1/1 [==============================] - 0s 49ms/step\n",
            "1/1 [==============================] - 0s 43ms/step\n",
            "1/1 [==============================] - 0s 42ms/step\n",
            "1/1 [==============================] - 0s 47ms/step\n",
            "1/1 [==============================] - 0s 43ms/step\n",
            "1/1 [==============================] - 0s 48ms/step\n",
            "1/1 [==============================] - 0s 42ms/step\n",
            "1/1 [==============================] - 0s 43ms/step\n",
            "1/1 [==============================] - 0s 43ms/step\n",
            "[[0 0 2 1 0 0 0 0 0 1 0 0 1 0 1]\n",
            " [0 3 0 0 1 0 0 0 0 1 0 1 0 0 0]\n",
            " [0 0 6 0 0 0 0 0 0 0 0 0 0 0 0]\n",
            " [0 0 1 0 1 0 0 0 0 1 0 0 2 1 0]\n",
            " [0 0 1 0 1 1 0 0 0 2 0 0 0 1 0]\n",
            " [0 1 2 0 0 0 0 0 0 1 1 0 1 0 0]\n",
            " [2 0 0 0 0 0 0 0 0 0 1 0 0 2 1]\n",
            " [0 0 3 0 2 0 0 0 0 0 0 0 0 0 1]\n",
            " [0 0 1 0 1 0 0 0 0 2 1 0 0 0 1]\n",
            " [0 0 5 0 0 0 0 0 0 0 0 0 0 0 1]\n",
            " [0 0 4 0 1 0 0 0 0 0 0 1 0 0 0]\n",
            " [0 1 0 0 1 0 0 0 0 1 0 3 0 0 0]\n",
            " [0 0 5 0 1 0 0 0 0 0 0 0 0 0 0]\n",
            " [0 0 3 0 1 0 0 0 0 1 0 1 0 0 0]\n",
            " [0 1 1 0 0 0 0 0 0 2 0 1 1 0 0]]\n",
            "              precision    recall  f1-score   support\n",
            "\n",
            "           0       0.00      0.00      0.00         6\n",
            "           1       0.50      0.50      0.50         6\n",
            "           2       0.18      1.00      0.30         6\n",
            "           3       0.00      0.00      0.00         6\n",
            "           4       0.10      0.17      0.12         6\n",
            "           5       0.00      0.00      0.00         6\n",
            "           6       0.00      0.00      0.00         6\n",
            "           7       0.00      0.00      0.00         6\n",
            "           8       0.00      0.00      0.00         6\n",
            "           9       0.00      0.00      0.00         6\n",
            "          10       0.00      0.00      0.00         6\n",
            "          11       0.43      0.50      0.46         6\n",
            "          12       0.00      0.00      0.00         6\n",
            "          13       0.00      0.00      0.00         6\n",
            "          14       0.00      0.00      0.00         6\n",
            "\n",
            "    accuracy                           0.14        90\n",
            "   macro avg       0.08      0.14      0.09        90\n",
            "weighted avg       0.08      0.14      0.09        90\n",
            "\n"
          ]
        },
        {
          "output_type": "stream",
          "name": "stderr",
          "text": [
            "/usr/local/lib/python3.8/dist-packages/sklearn/metrics/_classification.py:1318: UndefinedMetricWarning: Precision and F-score are ill-defined and being set to 0.0 in labels with no predicted samples. Use `zero_division` parameter to control this behavior.\n",
            "  _warn_prf(average, modifier, msg_start, len(result))\n",
            "/usr/local/lib/python3.8/dist-packages/sklearn/metrics/_classification.py:1318: UndefinedMetricWarning: Precision and F-score are ill-defined and being set to 0.0 in labels with no predicted samples. Use `zero_division` parameter to control this behavior.\n",
            "  _warn_prf(average, modifier, msg_start, len(result))\n",
            "/usr/local/lib/python3.8/dist-packages/sklearn/metrics/_classification.py:1318: UndefinedMetricWarning: Precision and F-score are ill-defined and being set to 0.0 in labels with no predicted samples. Use `zero_division` parameter to control this behavior.\n",
            "  _warn_prf(average, modifier, msg_start, len(result))\n"
          ]
        }
      ]
    },
    {
      "cell_type": "code",
      "source": [
        "#making a list with the predicted outputs\n",
        "outputss = [out_predicitons0,out_predicitons1,out_predicitons2,out_predicitons3,out_predicitons4,out_predicitons5,\\\n",
        "            out_predicitons6,out_predicitons7]\n",
        "my_titles = [\"VGG16\",\"VGG19\",\"MobileV2\",\"ResNet50V2\",\"ResNet101V2\",\"EffcientNetB7\",\"EffcientNetV2L\",\"EffcientNetV2M\"]\n",
        "\n",
        "#ploting heatmap \n",
        "for i in range(len(outputss)):\n",
        "  df = pd.DataFrame(confusion_matrix(y_test, outputss[i]))\n",
        "  df = df.rename(columns=lambda x: str(dic[x]))\n",
        "  df = df.rename(index=lambda x: str(dic[x]))\n",
        "  plt.figure()\n",
        "  plt.title(my_titles[i])\n",
        "  sns.heatmap(df,cmap=sns.cubehelix_palette(as_cmap=True))\n",
        "  plt.show()\n"
      ],
      "metadata": {
        "colab": {
          "base_uri": "https://localhost:8080/",
          "height": 1000
        },
        "id": "tx754thsp1eI",
        "outputId": "d6b5bf45-6be4-428b-8a7a-629ca75a9af4"
      },
      "execution_count": null,
      "outputs": [
        {
          "output_type": "display_data",
          "data": {
            "text/plain": [
              "<Figure size 432x288 with 2 Axes>"
            ],
            "image/png": "[encoded data removed]"
          },
          "metadata": {
            "needs_background": "light"
          }
        },
        {
          "output_type": "display_data",
          "data": {
            "text/plain": [
              "<Figure size 432x288 with 2 Axes>"
            ],
            "image/png": "[encoded data removed]"
          },
          "metadata": {
            "needs_background": "light"
          }
        },
        {
          "output_type": "display_data",
          "data": {
            "text/plain": [
              "<Figure size 432x288 with 2 Axes>"
            ],
            "image/png": "[encoded data removed]"
          },
          "metadata": {
            "needs_background": "light"
          }
        },
        {
          "output_type": "display_data",
          "data": {
            "text/plain": [
              "<Figure size 432x288 with 2 Axes>"
            ],
            "image/png": "[encoded data removed]"
          },
          "metadata": {
            "needs_background": "light"
          }
        },
        {
          "output_type": "display_data",
          "data": {
            "text/plain": [
              "<Figure size 432x288 with 2 Axes>"
            ],
            "image/png": "[encoded data removed]"
          },
          "metadata": {
            "needs_background": "light"
          }
        },
        {
          "output_type": "display_data",
          "data": {
            "text/plain": [
              "<Figure size 432x288 with 2 Axes>"
            ],
            "image/png": "[encoded data removed]"
          },
          "metadata": {
            "needs_background": "light"
          }
        },
        {
          "output_type": "display_data",
          "data": {
            "text/plain": [
              "<Figure size 432x288 with 2 Axes>"
            ],
            "image/png": "[encoded data removed]"
          },
          "metadata": {
            "needs_background": "light"
          }
        },
        {
          "output_type": "display_data",
          "data": {
            "text/plain": [
              "<Figure size 432x288 with 2 Axes>"
            ],
            "image/png": "[encoded data removed]"
          },
          "metadata": {
            "needs_background": "light"
          }
        }
      ]
    },
    {
      "cell_type": "code",
      "source": [
        "#plotting the f1-score comparison\n",
        "x = []\n",
        "y = [\"VGG16\",\"MobileNetV2\",\"ResNet50\",\"ResNet101V2\",\"VGG19\",\"EffcientNetB7\",\"EffcientNetV2M\",\"EffcientNetV2L\"]\n",
        "\n",
        "for i in range(len(outputss)):\n",
        "  # print(str(my_titles[i])+\" Model Accuracy =\\t\"+str(f1_score(y_test, outputss[i], average='macro')))\n",
        "  x.append(f1_score(y_test, outputss[i], average='macro'))\n",
        "\n",
        "x.sort(reverse=True)\n",
        "plt.figure(figsize=(12,6)) \n",
        "plt.title(\"F1 Score Comparison\")\n",
        "plt.bar(y,x,0.4,color = \"orange\")\n",
        "addlabels(y,x)\n",
        "\n",
        "plt.xlabel(\"Model Name\")\n",
        "plt.ylabel(\"F1 Score\")"
      ],
      "metadata": {
        "colab": {
          "base_uri": "https://localhost:8080/",
          "height": 422
        },
        "id": "u_r9hCnXGtsn",
        "outputId": "9fc2b8a7-3394-4803-c72d-f6c186923985"
      },
      "execution_count": null,
      "outputs": [
        {
          "output_type": "execute_result",
          "data": {
            "text/plain": [
              "Text(0, 0.5, 'F1 Score')"
            ]
          },
          "metadata": {},
          "execution_count": 31
        },
        {
          "output_type": "display_data",
          "data": {
            "text/plain": [
              "<Figure size 864x432 with 1 Axes>"
            ],
            "image/png": "[encoded data removed]"
          },
          "metadata": {
            "needs_background": "light"
          }
        }
      ]
    },
    {
      "cell_type": "code",
      "source": [
        "#plotting accuracy score comparison\n",
        "x = []\n",
        "y = [\"VGG16\",\"MobileNetV2\",\"ResNet50\",\"ResNet101V2\",\"VGG19\",\"EfficientNetB7\",\"EfficientNetV2M\",\"EfficientNetV2L\"]\n",
        "\n",
        "for i in range(len(outputss)):\n",
        "  # print(str(my_titles[i])+\" Model Accuracy =\\t\"+str(accuracy_score(y_test, outputss[i])))\n",
        "  x.append(accuracy_score(y_test, outputss[i])*100)\n",
        "\n",
        "x.sort(reverse=True)\n",
        "plt.figure(figsize=(12,6)) \n",
        "addlabels(y,x)\n",
        "plt.title(\"Model Accuracy Comparison\")\n",
        "plt.bar(y,x,0.5,color = \"Orange\")\n",
        "plt.xlabel(\"Model Name\")\n",
        "plt.ylabel(\"Accuracy\")"
      ],
      "metadata": {
        "colab": {
          "base_uri": "https://localhost:8080/",
          "height": 422
        },
        "id": "5dAAWRzLzm8_",
        "outputId": "c52c79b8-12d6-404c-d0da-be4e3ebbe7a5"
      },
      "execution_count": null,
      "outputs": [
        {
          "output_type": "execute_result",
          "data": {
            "text/plain": [
              "Text(0, 0.5, 'Accuracy')"
            ]
          },
          "metadata": {},
          "execution_count": 32
        },
        {
          "output_type": "display_data",
          "data": {
            "text/plain": [
              "<Figure size 864x432 with 1 Axes>"
            ],
            "image/png": "[encoded data removed]"
          },
          "metadata": {
            "needs_background": "light"
          }
        }
      ]
    },
    {
      "cell_type": "code",
      "source": [
        "#plotting the best 3 models accuracy score comparison\n",
        "x = []\n",
        "y = [\"VGG16\",\"MobileNetV2\",\"ResNet50\"]\n",
        "\n",
        "for i in range(len(outputss)):\n",
        "  if i == 0 or i == 2 or i == 3:\n",
        "    x.append(accuracy_score(y_test, outputss[i])*100)\n",
        "  else:\n",
        "    continue\n",
        "\n",
        "plt.figure(figsize=(4,6)) \n",
        "plt.title(\"Best Three Model Accuracy Comparison\")\n",
        "plt.bar(y,x,0.6,color = \"orange\")\n",
        "addlabels(y,x)\n",
        "plt.xlabel(\"Model Name\")\n",
        "plt.ylabel(\"Accuracy\")"
      ],
      "metadata": {
        "colab": {
          "base_uri": "https://localhost:8080/",
          "height": 422
        },
        "id": "pXVbj5QT5lHE",
        "outputId": "9bf491cd-d381-4334-bf7b-d6638d6fc8f7"
      },
      "execution_count": null,
      "outputs": [
        {
          "output_type": "execute_result",
          "data": {
            "text/plain": [
              "Text(0, 0.5, 'Accuracy')"
            ]
          },
          "metadata": {},
          "execution_count": 33
        },
        {
          "output_type": "display_data",
          "data": {
            "text/plain": [
              "<Figure size 288x432 with 1 Axes>"
            ],
            "image/png": "[encoded data removed]"
          },
          "metadata": {
            "needs_background": "light"
          }
        }
      ]
    },
    {
      "cell_type": "code",
      "source": [
        "def index_to_model2(i):\n",
        "  x = \"\"\n",
        "  if i == 0:\n",
        "    x = \"VGG16\"\n",
        "  elif i == 1:\n",
        "    x = \"VGG19\"\n",
        "  elif i == 2:\n",
        "    x = \"MobileNetV2\"\n",
        "  elif i == 3:\n",
        "    x = \"ResNet50V2\"\n",
        "  elif i == 4:\n",
        "    x = \"ResNet101V2\"\n",
        "  elif i == 5:\n",
        "    x = \"EfficientNetB7\"\n",
        "  elif i == 6:\n",
        "    x = \"EfficientNetV2L\"\n",
        "  else:\n",
        "    x = \"EfficientNetV2M\"\n",
        "  return x"
      ],
      "metadata": {
        "id": "tixRekWjvaMj"
      },
      "execution_count": null,
      "outputs": []
    },
    {
      "cell_type": "code",
      "source": [
        "from sklearn.metrics import precision_recall_fscore_support\n",
        "pre =[]\n",
        "rec = []\n",
        "\n",
        "for i in range(len(outputss)):\n",
        "  precision, recall, f1, _ = precision_recall_fscore_support(y_test, outputss[i], average='weighted')\n",
        "  pre.append((index_to_model2(i),precision))\n",
        "  rec.append((index_to_model2(i),recall))\n",
        "\n",
        "\n",
        "# print(pre)\n",
        "# print(rec)"
      ],
      "metadata": {
        "colab": {
          "base_uri": "https://localhost:8080/"
        },
        "id": "QXofzto4vaId",
        "outputId": "800efa0b-f2b4-4a37-9a5c-856a9a7a362d"
      },
      "execution_count": null,
      "outputs": [
        {
          "output_type": "stream",
          "name": "stderr",
          "text": [
            "/usr/local/lib/python3.8/dist-packages/sklearn/metrics/_classification.py:1318: UndefinedMetricWarning: Precision and F-score are ill-defined and being set to 0.0 in labels with no predicted samples. Use `zero_division` parameter to control this behavior.\n",
            "  _warn_prf(average, modifier, msg_start, len(result))\n",
            "/usr/local/lib/python3.8/dist-packages/sklearn/metrics/_classification.py:1318: UndefinedMetricWarning: Precision and F-score are ill-defined and being set to 0.0 in labels with no predicted samples. Use `zero_division` parameter to control this behavior.\n",
            "  _warn_prf(average, modifier, msg_start, len(result))\n",
            "/usr/local/lib/python3.8/dist-packages/sklearn/metrics/_classification.py:1318: UndefinedMetricWarning: Precision and F-score are ill-defined and being set to 0.0 in labels with no predicted samples. Use `zero_division` parameter to control this behavior.\n",
            "  _warn_prf(average, modifier, msg_start, len(result))\n"
          ]
        }
      ]
    },
    {
      "cell_type": "code",
      "source": [
        "pre = sort_tuples(pre)\n",
        "labels, values = zip(*pre)\n",
        "plt.figure(figsize=(12,6)) \n",
        "plt.title(\"Model Precision Comparison\")\n",
        "plt.bar(labels,values,0.4,color = \"orange\")\n",
        "addlabels(labels,values)\n",
        "plt.xlabel(\"Model Name\")\n",
        "plt.ylabel(\"Precision\")"
      ],
      "metadata": {
        "colab": {
          "base_uri": "https://localhost:8080/",
          "height": 422
        },
        "id": "fYXnD9HVvZ_Y",
        "outputId": "5f02149c-d14e-4212-c483-db1dedd18de8"
      },
      "execution_count": null,
      "outputs": [
        {
          "output_type": "execute_result",
          "data": {
            "text/plain": [
              "Text(0, 0.5, 'Precision')"
            ]
          },
          "metadata": {},
          "execution_count": 36
        },
        {
          "output_type": "display_data",
          "data": {
            "text/plain": [
              "<Figure size 864x432 with 1 Axes>"
            ],
            "image/png": "[encoded data removed]"
          },
          "metadata": {
            "needs_background": "light"
          }
        }
      ]
    },
    {
      "cell_type": "code",
      "source": [
        "rec = sort_tuples(rec)\n",
        "labels, values = zip(*rec)\n",
        "plt.figure(figsize=(12,6))\n",
        "plt.title(\"Model Recall Comparison\")\n",
        "plt.bar(labels,values,0.4,color = \"orange\")\n",
        "addlabels(labels,values)\n",
        "plt.xlabel(\"Model Name\")\n",
        "plt.ylabel(\"Recall\")"
      ],
      "metadata": {
        "id": "f5-oP9K8Fdxj",
        "colab": {
          "base_uri": "https://localhost:8080/",
          "height": 422
        },
        "outputId": "e194c977-3ada-4449-9f19-47f7c29b2dab"
      },
      "execution_count": null,
      "outputs": [
        {
          "output_type": "execute_result",
          "data": {
            "text/plain": [
              "Text(0, 0.5, 'Recall')"
            ]
          },
          "metadata": {},
          "execution_count": 37
        },
        {
          "output_type": "display_data",
          "data": {
            "text/plain": [
              "<Figure size 864x432 with 1 Axes>"
            ],
            "image/png": "[encoded data removed]"
          },
          "metadata": {
            "needs_background": "light"
          }
        }
      ]
    },
    {
      "cell_type": "code",
      "source": [],
      "metadata": {
        "id": "JuDtvCHzwOG8"
      },
      "execution_count": null,
      "outputs": []
    }
  ]
}